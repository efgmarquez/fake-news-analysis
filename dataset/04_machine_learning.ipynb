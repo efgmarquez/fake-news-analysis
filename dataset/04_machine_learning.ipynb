{
 "cells": [
  {
   "cell_type": "code",
   "execution_count": 1,
   "metadata": {},
   "outputs": [
    {
     "name": "stderr",
     "output_type": "stream",
     "text": [
      "c:\\Users\\james\\AppData\\Local\\Programs\\Python\\Python310\\lib\\site-packages\\numpy\\_distributor_init.py:30: UserWarning: loaded more than 1 DLL from .libs:\n",
      "c:\\Users\\james\\AppData\\Local\\Programs\\Python\\Python310\\lib\\site-packages\\numpy\\.libs\\libopenblas.EL2C6PLE4ZYW3ECEVIV3OXXGRN2NRFM2.gfortran-win_amd64.dll\n",
      "c:\\Users\\james\\AppData\\Local\\Programs\\Python\\Python310\\lib\\site-packages\\numpy\\.libs\\libopenblas.XWYDX2IKJW2NMTWSFYNGFUWKQU3LYTCZ.gfortran-win_amd64.dll\n",
      "c:\\Users\\james\\AppData\\Local\\Programs\\Python\\Python310\\lib\\site-packages\\numpy\\.libs\\libopenblas64__v0.3.21-gcc_10_3_0.dll\n",
      "  warnings.warn(\"loaded more than 1 DLL from .libs:\"\n"
     ]
    },
    {
     "data": {
      "text/html": [
       "<div>\n",
       "<style scoped>\n",
       "    .dataframe tbody tr th:only-of-type {\n",
       "        vertical-align: middle;\n",
       "    }\n",
       "\n",
       "    .dataframe tbody tr th {\n",
       "        vertical-align: top;\n",
       "    }\n",
       "\n",
       "    .dataframe thead th {\n",
       "        text-align: right;\n",
       "    }\n",
       "</style>\n",
       "<table border=\"1\" class=\"dataframe\">\n",
       "  <thead>\n",
       "    <tr style=\"text-align: right;\">\n",
       "      <th></th>\n",
       "      <th>ID</th>\n",
       "      <th>Timestamp</th>\n",
       "      <th>Tweet URL</th>\n",
       "      <th>Group</th>\n",
       "      <th>Collector</th>\n",
       "      <th>Category</th>\n",
       "      <th>Topic</th>\n",
       "      <th>Keywords</th>\n",
       "      <th>Account handle</th>\n",
       "      <th>Account name</th>\n",
       "      <th>...</th>\n",
       "      <th>Reviewer</th>\n",
       "      <th>Review</th>\n",
       "      <th>is_text</th>\n",
       "      <th>is_image</th>\n",
       "      <th>is_url</th>\n",
       "      <th>is_reply</th>\n",
       "      <th>mentions</th>\n",
       "      <th>hashtags</th>\n",
       "      <th>working_tweet</th>\n",
       "      <th>alt_text</th>\n",
       "    </tr>\n",
       "  </thead>\n",
       "  <tbody>\n",
       "    <tr>\n",
       "      <th>0</th>\n",
       "      <td>02-1</td>\n",
       "      <td>30/03/23 10:03:24</td>\n",
       "      <td>https://twitter.com/lyn77togado/status/6925083...</td>\n",
       "      <td>2</td>\n",
       "      <td>Marquez, Ellian Fitzgerald</td>\n",
       "      <td>MRCS</td>\n",
       "      <td>Marcos Sr.'s Wealth for Filipinos According to...</td>\n",
       "      <td>marcos last will</td>\n",
       "      <td>@lyn77togado</td>\n",
       "      <td>lyn togado</td>\n",
       "      <td>...</td>\n",
       "      <td>NaN</td>\n",
       "      <td>NaN</td>\n",
       "      <td>True</td>\n",
       "      <td>True</td>\n",
       "      <td>False</td>\n",
       "      <td>False</td>\n",
       "      <td>NaN</td>\n",
       "      <td>NaN</td>\n",
       "      <td>statement last will testament frm former pres ...</td>\n",
       "      <td>image quote say 1/4 marcos wealth filipinos</td>\n",
       "    </tr>\n",
       "    <tr>\n",
       "      <th>1</th>\n",
       "      <td>02-2</td>\n",
       "      <td>30/03/23 10:20:55</td>\n",
       "      <td>https://twitter.com/gprsphilippines/status/706...</td>\n",
       "      <td>2</td>\n",
       "      <td>Marquez, Ellian Fitzgerald</td>\n",
       "      <td>MRCS</td>\n",
       "      <td>Marcos Sr.'s Wealth for Filipinos According to...</td>\n",
       "      <td>marcos last will</td>\n",
       "      <td>@gprsphilippines</td>\n",
       "      <td>GlobalPinoy</td>\n",
       "      <td>...</td>\n",
       "      <td>NaN</td>\n",
       "      <td>NaN</td>\n",
       "      <td>True</td>\n",
       "      <td>False</td>\n",
       "      <td>True</td>\n",
       "      <td>False</td>\n",
       "      <td>NaN</td>\n",
       "      <td>NaN</td>\n",
       "      <td>last will testament marcos clear deposit will ...</td>\n",
       "      <td>NaN</td>\n",
       "    </tr>\n",
       "    <tr>\n",
       "      <th>2</th>\n",
       "      <td>02-3</td>\n",
       "      <td>02/04/23 10:06:23</td>\n",
       "      <td>https://twitter.com/Carlojcb2010/status/807799...</td>\n",
       "      <td>2</td>\n",
       "      <td>Marquez, Ellian Fitzgerald</td>\n",
       "      <td>MRCS</td>\n",
       "      <td>Marcos Sr.'s Wealth for Filipinos According to...</td>\n",
       "      <td>marcos last will</td>\n",
       "      <td>@Carlojcb2010</td>\n",
       "      <td>Carlos Jr. Bantulan</td>\n",
       "      <td>...</td>\n",
       "      <td>NaN</td>\n",
       "      <td>NaN</td>\n",
       "      <td>True</td>\n",
       "      <td>False</td>\n",
       "      <td>True</td>\n",
       "      <td>False</td>\n",
       "      <td>NaN</td>\n",
       "      <td>NaN</td>\n",
       "      <td>last will testament pfemarcos people devine we...</td>\n",
       "      <td>abs cbn article marcos sr prefer burial place ...</td>\n",
       "    </tr>\n",
       "    <tr>\n",
       "      <th>3</th>\n",
       "      <td>02-4</td>\n",
       "      <td>02/04/23 10:42:22</td>\n",
       "      <td>https://twitter.com/Yrrahralph/status/74818105...</td>\n",
       "      <td>2</td>\n",
       "      <td>Marquez, Ellian Fitzgerald</td>\n",
       "      <td>MRCS</td>\n",
       "      <td>Marcos Sr.'s Wealth for Filipinos According to...</td>\n",
       "      <td>marcos last will</td>\n",
       "      <td>@Yrrahralph</td>\n",
       "      <td>harry padayao</td>\n",
       "      <td>...</td>\n",
       "      <td>NaN</td>\n",
       "      <td>NaN</td>\n",
       "      <td>True</td>\n",
       "      <td>False</td>\n",
       "      <td>True</td>\n",
       "      <td>False</td>\n",
       "      <td>NaN</td>\n",
       "      <td>NaN</td>\n",
       "      <td>richest last will testament president ferdinan...</td>\n",
       "      <td>article fabricate last will testament marcos sr</td>\n",
       "    </tr>\n",
       "    <tr>\n",
       "      <th>4</th>\n",
       "      <td>02-5</td>\n",
       "      <td>02/04/23 10:41:18</td>\n",
       "      <td>https://twitter.com/UNGclelaw/status/747645154...</td>\n",
       "      <td>2</td>\n",
       "      <td>Marquez, Ellian Fitzgerald</td>\n",
       "      <td>MRCS</td>\n",
       "      <td>Marcos Sr.'s Wealth for Filipinos According to...</td>\n",
       "      <td>marcos last will</td>\n",
       "      <td>@UNGclelaw</td>\n",
       "      <td>Clelaw.com</td>\n",
       "      <td>...</td>\n",
       "      <td>NaN</td>\n",
       "      <td>NaN</td>\n",
       "      <td>True</td>\n",
       "      <td>False</td>\n",
       "      <td>True</td>\n",
       "      <td>False</td>\n",
       "      <td>['@Philippine']</td>\n",
       "      <td>NaN</td>\n",
       "      <td>philippines wealthiest nation earth last will ...</td>\n",
       "      <td>article fabricate last will testament marcos sr</td>\n",
       "    </tr>\n",
       "  </tbody>\n",
       "</table>\n",
       "<p>5 rows × 40 columns</p>\n",
       "</div>"
      ],
      "text/plain": [
       "     ID          Timestamp                                          Tweet URL  \\\n",
       "0  02-1  30/03/23 10:03:24  https://twitter.com/lyn77togado/status/6925083...   \n",
       "1  02-2  30/03/23 10:20:55  https://twitter.com/gprsphilippines/status/706...   \n",
       "2  02-3  02/04/23 10:06:23  https://twitter.com/Carlojcb2010/status/807799...   \n",
       "3  02-4  02/04/23 10:42:22  https://twitter.com/Yrrahralph/status/74818105...   \n",
       "4  02-5  02/04/23 10:41:18  https://twitter.com/UNGclelaw/status/747645154...   \n",
       "\n",
       "   Group                   Collector Category  \\\n",
       "0      2  Marquez, Ellian Fitzgerald     MRCS   \n",
       "1      2  Marquez, Ellian Fitzgerald     MRCS   \n",
       "2      2  Marquez, Ellian Fitzgerald     MRCS   \n",
       "3      2  Marquez, Ellian Fitzgerald     MRCS   \n",
       "4      2  Marquez, Ellian Fitzgerald     MRCS   \n",
       "\n",
       "                                               Topic          Keywords  \\\n",
       "0  Marcos Sr.'s Wealth for Filipinos According to...  marcos last will   \n",
       "1  Marcos Sr.'s Wealth for Filipinos According to...  marcos last will   \n",
       "2  Marcos Sr.'s Wealth for Filipinos According to...  marcos last will   \n",
       "3  Marcos Sr.'s Wealth for Filipinos According to...  marcos last will   \n",
       "4  Marcos Sr.'s Wealth for Filipinos According to...  marcos last will   \n",
       "\n",
       "     Account handle         Account name  ... Reviewer Review is_text  \\\n",
       "0      @lyn77togado           lyn togado  ...      NaN    NaN    True   \n",
       "1  @gprsphilippines          GlobalPinoy  ...      NaN    NaN    True   \n",
       "2     @Carlojcb2010  Carlos Jr. Bantulan  ...      NaN    NaN    True   \n",
       "3       @Yrrahralph        harry padayao  ...      NaN    NaN    True   \n",
       "4        @UNGclelaw           Clelaw.com  ...      NaN    NaN    True   \n",
       "\n",
       "   is_image  is_url is_reply         mentions hashtags  \\\n",
       "0      True   False    False              NaN      NaN   \n",
       "1     False    True    False              NaN      NaN   \n",
       "2     False    True    False              NaN      NaN   \n",
       "3     False    True    False              NaN      NaN   \n",
       "4     False    True    False  ['@Philippine']      NaN   \n",
       "\n",
       "                                       working_tweet  \\\n",
       "0  statement last will testament frm former pres ...   \n",
       "1  last will testament marcos clear deposit will ...   \n",
       "2  last will testament pfemarcos people devine we...   \n",
       "3  richest last will testament president ferdinan...   \n",
       "4  philippines wealthiest nation earth last will ...   \n",
       "\n",
       "                                            alt_text  \n",
       "0        image quote say 1/4 marcos wealth filipinos  \n",
       "1                                                NaN  \n",
       "2  abs cbn article marcos sr prefer burial place ...  \n",
       "3    article fabricate last will testament marcos sr  \n",
       "4    article fabricate last will testament marcos sr  \n",
       "\n",
       "[5 rows x 40 columns]"
      ]
     },
     "execution_count": 1,
     "metadata": {},
     "output_type": "execute_result"
    }
   ],
   "source": [
    "import pandas as pd\n",
    "\n",
    "df = pd.read_csv(\"nlp_dataset.csv\", encoding='utf-8')\n",
    "df.head()"
   ]
  },
  {
   "cell_type": "code",
   "execution_count": 2,
   "metadata": {},
   "outputs": [
    {
     "data": {
      "text/plain": [
       "Index(['ID', 'Timestamp', 'Tweet URL', 'Group', 'Collector', 'Category',\n",
       "       'Topic', 'Keywords', 'Account handle', 'Account name', 'Account bio',\n",
       "       'Account type', 'Joined', 'Following', 'Followers', 'Location', 'Tweet',\n",
       "       'Tweet Translated', 'Date posted', 'Screenshot', 'Content type',\n",
       "       'Likes', 'Replies', 'Retweets', 'Quote Tweets', 'Views', 'Rating',\n",
       "       'Reasoning', 'Remarks', 'Link Redirect', 'Reviewer', 'Review',\n",
       "       'is_text', 'is_image', 'is_url', 'is_reply', 'mentions', 'hashtags',\n",
       "       'working_tweet', 'alt_text'],\n",
       "      dtype='object')"
      ]
     },
     "execution_count": 2,
     "metadata": {},
     "output_type": "execute_result"
    }
   ],
   "source": [
    "df.columns"
   ]
  },
  {
   "cell_type": "code",
   "execution_count": 3,
   "metadata": {},
   "outputs": [],
   "source": [
    "df[['join_month', 'join_year']] = df['Joined'].str.split(\"/\").to_list()"
   ]
  },
  {
   "cell_type": "code",
   "execution_count": 4,
   "metadata": {},
   "outputs": [
    {
     "data": {
      "text/html": [
       "<div>\n",
       "<style scoped>\n",
       "    .dataframe tbody tr th:only-of-type {\n",
       "        vertical-align: middle;\n",
       "    }\n",
       "\n",
       "    .dataframe tbody tr th {\n",
       "        vertical-align: top;\n",
       "    }\n",
       "\n",
       "    .dataframe thead th {\n",
       "        text-align: right;\n",
       "    }\n",
       "</style>\n",
       "<table border=\"1\" class=\"dataframe\">\n",
       "  <thead>\n",
       "    <tr style=\"text-align: right;\">\n",
       "      <th></th>\n",
       "      <th>Account type</th>\n",
       "      <th>join_year</th>\n",
       "      <th>Following</th>\n",
       "      <th>Followers</th>\n",
       "    </tr>\n",
       "  </thead>\n",
       "  <tbody>\n",
       "    <tr>\n",
       "      <th>0</th>\n",
       "      <td>Identified</td>\n",
       "      <td>15</td>\n",
       "      <td>25</td>\n",
       "      <td>11</td>\n",
       "    </tr>\n",
       "    <tr>\n",
       "      <th>1</th>\n",
       "      <td>Anonymous</td>\n",
       "      <td>12</td>\n",
       "      <td>1766</td>\n",
       "      <td>290</td>\n",
       "    </tr>\n",
       "    <tr>\n",
       "      <th>2</th>\n",
       "      <td>Identified</td>\n",
       "      <td>10</td>\n",
       "      <td>483</td>\n",
       "      <td>76</td>\n",
       "    </tr>\n",
       "    <tr>\n",
       "      <th>3</th>\n",
       "      <td>Identified</td>\n",
       "      <td>14</td>\n",
       "      <td>1</td>\n",
       "      <td>3</td>\n",
       "    </tr>\n",
       "    <tr>\n",
       "      <th>4</th>\n",
       "      <td>Anonymous</td>\n",
       "      <td>14</td>\n",
       "      <td>2775</td>\n",
       "      <td>970</td>\n",
       "    </tr>\n",
       "    <tr>\n",
       "      <th>...</th>\n",
       "      <td>...</td>\n",
       "      <td>...</td>\n",
       "      <td>...</td>\n",
       "      <td>...</td>\n",
       "    </tr>\n",
       "    <tr>\n",
       "      <th>97</th>\n",
       "      <td>Anonymous</td>\n",
       "      <td>21</td>\n",
       "      <td>332</td>\n",
       "      <td>51</td>\n",
       "    </tr>\n",
       "    <tr>\n",
       "      <th>98</th>\n",
       "      <td>Identified</td>\n",
       "      <td>10</td>\n",
       "      <td>336</td>\n",
       "      <td>397</td>\n",
       "    </tr>\n",
       "    <tr>\n",
       "      <th>99</th>\n",
       "      <td>Identified</td>\n",
       "      <td>22</td>\n",
       "      <td>11</td>\n",
       "      <td>2</td>\n",
       "    </tr>\n",
       "    <tr>\n",
       "      <th>100</th>\n",
       "      <td>Anonymous</td>\n",
       "      <td>15</td>\n",
       "      <td>481</td>\n",
       "      <td>245</td>\n",
       "    </tr>\n",
       "    <tr>\n",
       "      <th>101</th>\n",
       "      <td>Anonymous</td>\n",
       "      <td>15</td>\n",
       "      <td>481</td>\n",
       "      <td>245</td>\n",
       "    </tr>\n",
       "  </tbody>\n",
       "</table>\n",
       "<p>102 rows × 4 columns</p>\n",
       "</div>"
      ],
      "text/plain": [
       "    Account type join_year  Following  Followers\n",
       "0     Identified        15         25         11\n",
       "1      Anonymous        12       1766        290\n",
       "2     Identified        10        483         76\n",
       "3     Identified        14          1          3\n",
       "4      Anonymous        14       2775        970\n",
       "..           ...       ...        ...        ...\n",
       "97     Anonymous        21        332         51\n",
       "98    Identified        10        336        397\n",
       "99    Identified        22         11          2\n",
       "100    Anonymous        15        481        245\n",
       "101    Anonymous        15        481        245\n",
       "\n",
       "[102 rows x 4 columns]"
      ]
     },
     "execution_count": 4,
     "metadata": {},
     "output_type": "execute_result"
    }
   ],
   "source": [
    "df[['Account type', 'join_year', 'Following', 'Followers', ]]"
   ]
  },
  {
   "cell_type": "code",
   "execution_count": 5,
   "metadata": {},
   "outputs": [
    {
     "name": "stdout",
     "output_type": "stream",
     "text": [
      "['i', 'me', 'my', 'myself', 'we', 'our', 'ours', 'ourselves', 'you', \"you're\", \"you've\", \"you'll\", \"you'd\", 'your', 'yours', 'yourself', 'yourselves', 'he', 'him', 'his', 'himself', 'she', \"she's\", 'her', 'hers', 'herself', 'it', \"it's\", 'its', 'itself', 'they', 'them', 'their', 'theirs', 'themselves', 'what', 'which', 'who', 'whom', 'this', 'that', \"that'll\", 'these', 'those', 'am', 'is', 'are', 'was', 'were', 'be', 'been', 'being', 'have', 'has', 'had', 'having', 'do', 'does', 'did', 'doing', 'a', 'an', 'the', 'and', 'but', 'if', 'or', 'because', 'as', 'until', 'while', 'of', 'at', 'by', 'for', 'with', 'about', 'against', 'between', 'into', 'through', 'during', 'before', 'after', 'above', 'below', 'to', 'from', 'up', 'down', 'in', 'out', 'on', 'off', 'over', 'under', 'again', 'further', 'then', 'once', 'here', 'there', 'when', 'where', 'why', 'how', 'all', 'any', 'both', 'each', 'few', 'more', 'most', 'other', 'some', 'such', 'no', 'nor', 'not', 'only', 'own', 'same', 'so', 'than', 'too', 'very', 's', 't', 'can', 'will', 'just', 'don', \"don't\", 'should', \"should've\", 'now', 'd', 'll', 'm', 'o', 're', 've', 'y', 'ain', 'aren', \"aren't\", 'couldn', \"couldn't\", 'didn', \"didn't\", 'doesn', \"doesn't\", 'hadn', \"hadn't\", 'hasn', \"hasn't\", 'haven', \"haven't\", 'isn', \"isn't\", 'ma', 'mightn', \"mightn't\", 'mustn', \"mustn't\", 'needn', \"needn't\", 'shan', \"shan't\", 'shouldn', \"shouldn't\", 'wasn', \"wasn't\", 'weren', \"weren't\", 'won', \"won't\", 'wouldn', \"wouldn't\"]\n"
     ]
    }
   ],
   "source": [
    "from nltk.corpus import stopwords\n",
    "global stops\n",
    "stops = stopwords.words('english')\n",
    "print(stops)"
   ]
  },
  {
   "cell_type": "code",
   "execution_count": 6,
   "metadata": {},
   "outputs": [
    {
     "data": {
      "text/plain": [
       "'will'"
      ]
     },
     "execution_count": 6,
     "metadata": {},
     "output_type": "execute_result"
    }
   ],
   "source": [
    "stops.pop(129)"
   ]
  },
  {
   "cell_type": "code",
   "execution_count": 7,
   "metadata": {},
   "outputs": [
    {
     "name": "stderr",
     "output_type": "stream",
     "text": [
      "[nltk_data] Downloading package omw-1.4 to\n",
      "[nltk_data]     C:\\Users\\james\\AppData\\Roaming\\nltk_data...\n",
      "[nltk_data]   Package omw-1.4 is already up-to-date!\n",
      "[nltk_data] Downloading package wordnet to\n",
      "[nltk_data]     C:\\Users\\james\\AppData\\Roaming\\nltk_data...\n",
      "[nltk_data]   Package wordnet is already up-to-date!\n"
     ]
    },
    {
     "data": {
      "text/plain": [
       "(\"That's why grandpa lakay chose to distribute the property to the poor Filipinos rather than let it all go to the oligarchs. That's the last will of grandpa lakay and the great Marcos who will do that. Don't let the oligarchs take all the wealth of grandpa lakay. Where is the wealth of PCGG?\",\n",
       " 'grandpa lakay choose distribute property poor filipinos rather let go oligarchs last will grandpa lakay great marcos will let oligarchs take wealth grandpa lakay wealth pcgg')"
      ]
     },
     "execution_count": 7,
     "metadata": {},
     "output_type": "execute_result"
    }
   ],
   "source": [
    "from nltk.stem import WordNetLemmatizer\n",
    "import re\n",
    "import nltk\n",
    "nltk.download('omw-1.4')\n",
    "nltk.download('wordnet')\n",
    "\n",
    "LINK_MATCH = re.compile(r\"https?:\\S+\")\n",
    "lemmatizer = WordNetLemmatizer()\n",
    "\n",
    "def remove_punctuation(token):\n",
    "    import string\n",
    "    puncs = ''.join(set(string.punctuation)-set('/{}'))\n",
    "    return token.translate(str.maketrans(puncs, ' '*len(puncs)))\n",
    "\n",
    "def remove_stop_words(tweet, stopwords=stops):\n",
    "    lis = tweet.split()\n",
    "    to_return = []\n",
    "\n",
    "    for i in lis:\n",
    "        if i.lower() not in stopwords:\n",
    "            to_return.append(i)\n",
    "    \n",
    "    return \" \".join(to_return)\n",
    "\n",
    "def remove_links(tweet):\n",
    "    return LINK_MATCH.sub('', tweet.replace('. co', '.co')).replace('  ', ' ').strip()\n",
    "\n",
    "def preprocess(tweet):\n",
    "    funcs = [remove_links, remove_punctuation, remove_stop_words] # lemmatizer.lemmatize\n",
    "    for func in funcs:\n",
    "        if type(tweet) is float:\n",
    "            return tweet\n",
    "        tweet = func(tweet)\n",
    "    tweet = tweet.replace('&amp;', 'and')\n",
    "\n",
    "    tweet = ' '.join([lemmatizer.lemmatize(word, pos='v') for word in  tweet.split(' ')])\n",
    "    return tweet.lower()\n",
    "\n",
    "df['Tweet Translated'].iloc[78], df['Tweet Translated'].iloc[78:79].map(preprocess).iloc[0]"
   ]
  },
  {
   "cell_type": "code",
   "execution_count": 8,
   "metadata": {},
   "outputs": [],
   "source": [
    "lower_limit = 1\n",
    "upper_limit = 2\n",
    "no_words = 100000"
   ]
  },
  {
   "cell_type": "code",
   "execution_count": 9,
   "metadata": {},
   "outputs": [],
   "source": [
    "df['working_tweet'] = df['working_tweet'].str.replace('/', ' ')"
   ]
  },
  {
   "cell_type": "code",
   "execution_count": 10,
   "metadata": {},
   "outputs": [
    {
     "data": {
      "text/plain": [
       "0      statement last will testament frm former pres ...\n",
       "1      last will testament marcos clear deposit will ...\n",
       "2      last will testament pfemarcos people devine we...\n",
       "3      richest last will testament president ferdinan...\n",
       "4      philippines wealthiest nation earth last will ...\n",
       "                             ...                        \n",
       "97     check philippines farmers debt will waive amp ...\n",
       "98     maybe dream post bbm will win debts arise fath...\n",
       "99     girl philippines debt marcos leave marcos die ...\n",
       "100    fem marcos last will wants share divine wealth...\n",
       "101    freeze golds king solomon gold marcos want bre...\n",
       "Name: working_tweet, Length: 102, dtype: object"
      ]
     },
     "execution_count": 10,
     "metadata": {},
     "output_type": "execute_result"
    }
   ],
   "source": [
    "df['working_tweet']"
   ]
  },
  {
   "cell_type": "code",
   "execution_count": 11,
   "metadata": {},
   "outputs": [],
   "source": [
    "from sklearn.feature_extraction.text import TfidfVectorizer, CountVectorizer\n",
    "\n",
    "counter = CountVectorizer(max_features = no_words, ngram_range=(lower_limit, upper_limit))\n",
    "tfidf = TfidfVectorizer(tokenizer=lambda x: x.split(), max_features = no_words, ngram_range=(lower_limit, upper_limit),\n",
    "                        max_df=0.75, use_idf=True, norm=None, token_pattern=None)"
   ]
  },
  {
   "cell_type": "code",
   "execution_count": 12,
   "metadata": {},
   "outputs": [],
   "source": [
    "tfs = tfidf.fit_transform(df['working_tweet'])"
   ]
  },
  {
   "cell_type": "code",
   "execution_count": 13,
   "metadata": {},
   "outputs": [
    {
     "data": {
      "text/plain": [
       "<102x1850 sparse matrix of type '<class 'numpy.int64'>'\n",
       "\twith 3424 stored elements in Compressed Sparse Row format>"
      ]
     },
     "execution_count": 13,
     "metadata": {},
     "output_type": "execute_result"
    }
   ],
   "source": [
    "counts = counter.fit_transform(df['working_tweet'])\n",
    "counts"
   ]
  },
  {
   "cell_type": "code",
   "execution_count": 14,
   "metadata": {},
   "outputs": [],
   "source": [
    "id2word = dict(zip(range(len(counter.get_feature_names_out())), counter.get_feature_names_out()))"
   ]
  },
  {
   "cell_type": "code",
   "execution_count": 15,
   "metadata": {},
   "outputs": [],
   "source": [
    "from sklearn.decomposition import LatentDirichletAllocation\n",
    "import numpy as np\n",
    "\n",
    "li = []\n",
    "\n",
    "for n_topics in range(1,11):\n",
    "    lda = LatentDirichletAllocation(n_components=n_topics, max_iter=10, \n",
    "                                                learning_method='online', learning_offset=50, n_jobs=1, random_state=42)\n",
    "\n",
    "    W = lda.fit_transform(tfs)\n",
    "    H = lda.components_\n",
    "\n",
    "    # Show top 15 relevant words for each of the 25 topics\n",
    "    num_words = 15\n",
    "    vocab = np.array(tfidf.get_feature_names_out())\n",
    "    top_words = lambda t: [vocab[i] for i in np.argsort(t)[:-num_words-1:-1]]\n",
    "    topic_words = ([top_words(t) for t in H])\n",
    "    topics = [', '.join(t) for t in topic_words]\n",
    "    df_topics = pd.DataFrame(topics, columns=['Keywords'])\n",
    "    df_topics['Topic ID'] = range(1, len(topics) + 1)\n",
    "    li.append((n_topics, lda.bound_))"
   ]
  },
  {
   "cell_type": "code",
   "execution_count": 16,
   "metadata": {},
   "outputs": [],
   "source": [
    "li = list(zip(*li))"
   ]
  },
  {
   "cell_type": "code",
   "execution_count": 17,
   "metadata": {},
   "outputs": [
    {
     "data": {
      "text/plain": [
       "Text(0.5, 1.0, 'LDA Bound - Number of Clusters')"
      ]
     },
     "execution_count": 17,
     "metadata": {},
     "output_type": "execute_result"
    },
    {
     "data": {
      "image/png": "[encoded data removed]",
      "text/plain": [
       "<Figure size 432x288 with 1 Axes>"
      ]
     },
     "metadata": {
      "needs_background": "light"
     },
     "output_type": "display_data"
    }
   ],
   "source": [
    "import matplotlib.pyplot as plt\n",
    "plt.plot(li[0], li[1])\n",
    "plt.title('LDA Bound - Number of Clusters')"
   ]
  },
  {
   "cell_type": "code",
   "execution_count": 18,
   "metadata": {},
   "outputs": [],
   "source": [
    "n_topics = 4\n",
    "\n",
    "lda = LatentDirichletAllocation(n_components=n_topics, max_iter=10, learning_method='online',\n",
    "                                learning_offset=50, n_jobs=1, random_state=42)\n",
    "\n",
    "W = lda.fit_transform(tfs)\n",
    "H = lda.components_\n",
    "\n",
    "# Show top 15 relevant words for each of the 25 topics\n",
    "num_words = 15\n",
    "vocab = np.array(tfidf.get_feature_names_out())\n",
    "top_words = lambda t: [vocab[i] for i in np.argsort(t)[:-num_words-1:-1]]\n",
    "topic_words = ([top_words(t) for t in H])\n",
    "topics = [', '.join(t) for t in topic_words]\n",
    "df_topics = pd.DataFrame(topics, columns=['Keywords'])\n",
    "df_topics['Topic ID'] = range(1, len(topics) + 1)"
   ]
  },
  {
   "cell_type": "code",
   "execution_count": 19,
   "metadata": {},
   "outputs": [
    {
     "data": {
      "text/html": [
       "<div>\n",
       "<style scoped>\n",
       "    .dataframe tbody tr th:only-of-type {\n",
       "        vertical-align: middle;\n",
       "    }\n",
       "\n",
       "    .dataframe tbody tr th {\n",
       "        vertical-align: top;\n",
       "    }\n",
       "\n",
       "    .dataframe thead th {\n",
       "        text-align: right;\n",
       "    }\n",
       "</style>\n",
       "<table border=\"1\" class=\"dataframe\">\n",
       "  <thead>\n",
       "    <tr style=\"text-align: right;\">\n",
       "      <th></th>\n",
       "      <th>Topic1</th>\n",
       "      <th>Topic2</th>\n",
       "      <th>Topic3</th>\n",
       "      <th>Topic4</th>\n",
       "      <th>dominant_topic</th>\n",
       "      <th>breakdown</th>\n",
       "    </tr>\n",
       "  </thead>\n",
       "  <tbody>\n",
       "    <tr>\n",
       "      <th>Tweet1</th>\n",
       "      <td>0.00</td>\n",
       "      <td>0.00</td>\n",
       "      <td>0.99</td>\n",
       "      <td>0.00</td>\n",
       "      <td>3</td>\n",
       "      <td>Topic3: 0.99</td>\n",
       "    </tr>\n",
       "    <tr>\n",
       "      <th>Tweet2</th>\n",
       "      <td>0.00</td>\n",
       "      <td>0.00</td>\n",
       "      <td>0.00</td>\n",
       "      <td>0.99</td>\n",
       "      <td>4</td>\n",
       "      <td>Topic4: 0.99</td>\n",
       "    </tr>\n",
       "    <tr>\n",
       "      <th>Tweet3</th>\n",
       "      <td>0.99</td>\n",
       "      <td>0.00</td>\n",
       "      <td>0.00</td>\n",
       "      <td>0.00</td>\n",
       "      <td>1</td>\n",
       "      <td>Topic1: 0.99</td>\n",
       "    </tr>\n",
       "    <tr>\n",
       "      <th>Tweet4</th>\n",
       "      <td>0.01</td>\n",
       "      <td>0.01</td>\n",
       "      <td>0.97</td>\n",
       "      <td>0.01</td>\n",
       "      <td>3</td>\n",
       "      <td>Topic3: 0.97\\nTopic1: 0.01\\nTopic2: 0.01\\nTopi...</td>\n",
       "    </tr>\n",
       "    <tr>\n",
       "      <th>Tweet5</th>\n",
       "      <td>0.00</td>\n",
       "      <td>0.00</td>\n",
       "      <td>0.00</td>\n",
       "      <td>0.99</td>\n",
       "      <td>4</td>\n",
       "      <td>Topic4: 0.99</td>\n",
       "    </tr>\n",
       "    <tr>\n",
       "      <th>Tweet6</th>\n",
       "      <td>0.00</td>\n",
       "      <td>0.00</td>\n",
       "      <td>0.00</td>\n",
       "      <td>0.99</td>\n",
       "      <td>4</td>\n",
       "      <td>Topic4: 0.99</td>\n",
       "    </tr>\n",
       "    <tr>\n",
       "      <th>Tweet7</th>\n",
       "      <td>0.01</td>\n",
       "      <td>0.01</td>\n",
       "      <td>0.98</td>\n",
       "      <td>0.01</td>\n",
       "      <td>3</td>\n",
       "      <td>Topic3: 0.98\\nTopic1: 0.01\\nTopic2: 0.01\\nTopi...</td>\n",
       "    </tr>\n",
       "    <tr>\n",
       "      <th>Tweet8</th>\n",
       "      <td>0.00</td>\n",
       "      <td>0.00</td>\n",
       "      <td>0.00</td>\n",
       "      <td>0.99</td>\n",
       "      <td>4</td>\n",
       "      <td>Topic4: 0.99</td>\n",
       "    </tr>\n",
       "    <tr>\n",
       "      <th>Tweet9</th>\n",
       "      <td>0.01</td>\n",
       "      <td>0.01</td>\n",
       "      <td>0.01</td>\n",
       "      <td>0.98</td>\n",
       "      <td>4</td>\n",
       "      <td>Topic4: 0.98\\nTopic1: 0.01\\nTopic2: 0.01\\nTopi...</td>\n",
       "    </tr>\n",
       "    <tr>\n",
       "      <th>Tweet10</th>\n",
       "      <td>0.00</td>\n",
       "      <td>0.00</td>\n",
       "      <td>1.00</td>\n",
       "      <td>0.00</td>\n",
       "      <td>3</td>\n",
       "      <td>Topic3: 1.0</td>\n",
       "    </tr>\n",
       "  </tbody>\n",
       "</table>\n",
       "</div>"
      ],
      "text/plain": [
       "         Topic1  Topic2  Topic3  Topic4  dominant_topic  \\\n",
       "Tweet1     0.00    0.00    0.99    0.00               3   \n",
       "Tweet2     0.00    0.00    0.00    0.99               4   \n",
       "Tweet3     0.99    0.00    0.00    0.00               1   \n",
       "Tweet4     0.01    0.01    0.97    0.01               3   \n",
       "Tweet5     0.00    0.00    0.00    0.99               4   \n",
       "Tweet6     0.00    0.00    0.00    0.99               4   \n",
       "Tweet7     0.01    0.01    0.98    0.01               3   \n",
       "Tweet8     0.00    0.00    0.00    0.99               4   \n",
       "Tweet9     0.01    0.01    0.01    0.98               4   \n",
       "Tweet10    0.00    0.00    1.00    0.00               3   \n",
       "\n",
       "                                                 breakdown  \n",
       "Tweet1                                        Topic3: 0.99  \n",
       "Tweet2                                        Topic4: 0.99  \n",
       "Tweet3                                        Topic1: 0.99  \n",
       "Tweet4   Topic3: 0.97\\nTopic1: 0.01\\nTopic2: 0.01\\nTopi...  \n",
       "Tweet5                                        Topic4: 0.99  \n",
       "Tweet6                                        Topic4: 0.99  \n",
       "Tweet7   Topic3: 0.98\\nTopic1: 0.01\\nTopic2: 0.01\\nTopi...  \n",
       "Tweet8                                        Topic4: 0.99  \n",
       "Tweet9   Topic4: 0.98\\nTopic1: 0.01\\nTopic2: 0.01\\nTopi...  \n",
       "Tweet10                                        Topic3: 1.0  "
      ]
     },
     "execution_count": 19,
     "metadata": {},
     "output_type": "execute_result"
    }
   ],
   "source": [
    "topicid = [\"Topic\" + str(i+1) for i in range(lda.n_components)]\n",
    "tweetid = [\"Tweet\" + str(i+1) for i in range(len(df.working_tweet))]\n",
    "\n",
    "df_topics_lda = pd.DataFrame(np.round(W,2), columns=topicid, index=tweetid)\n",
    "significanttopic = np.argmax(df_topics_lda.values, axis=1)+1\n",
    "\n",
    "df_topics_lda['dominant_topic'] = significanttopic\n",
    "df_topics_lda['breakdown'] = df_topics_lda.apply(lambda row: '\\n'.join([f'{col}: {row[col]}' \n",
    "                                                        for col in sorted(df_topics_lda.columns, key=lambda x: row[x], reverse=True) \n",
    "                                                        if row[col] > 0 and col != 'dominant_topic']), axis=1)\n",
    "df_topics_lda.head(10)"
   ]
  },
  {
   "cell_type": "code",
   "execution_count": 20,
   "metadata": {},
   "outputs": [
    {
     "name": "stderr",
     "output_type": "stream",
     "text": [
      "c:\\Users\\james\\AppData\\Local\\Programs\\Python\\Python310\\lib\\site-packages\\sklearn\\manifold\\_t_sne.py:795: FutureWarning: The default initialization in TSNE will change from 'random' to 'pca' in 1.2.\n",
      "  warnings.warn(\n",
      "c:\\Users\\james\\AppData\\Local\\Programs\\Python\\Python310\\lib\\site-packages\\sklearn\\manifold\\_t_sne.py:805: FutureWarning: The default learning rate in TSNE will change from 200.0 to 'auto' in 1.2.\n",
      "  warnings.warn(\n"
     ]
    }
   ],
   "source": [
    "# Visualize topics\n",
    "from sklearn.manifold import TSNE\n",
    "from sklearn.cluster import KMeans\n",
    "import plotly.express as px\n",
    "\n",
    "# Apply t-SNE for dimensionality reduction\n",
    "tsne = TSNE(n_components=2, random_state=42)\n",
    "tsne_result = tsne.fit_transform(df_topics_lda.iloc[:,:n_topics])\n",
    "\n",
    "# Apply K-means clustering\n",
    "n_topics = 4\n",
    "kmeans = KMeans(n_clusters=n_topics, n_init=10, random_state=42)\n",
    "cluster_labels = kmeans.fit_predict(df_topics_lda.iloc[:,:n_topics])"
   ]
  },
  {
   "cell_type": "code",
   "execution_count": 21,
   "metadata": {},
   "outputs": [
    {
     "data": {
      "text/html": [
       "<div>\n",
       "<style scoped>\n",
       "    .dataframe tbody tr th:only-of-type {\n",
       "        vertical-align: middle;\n",
       "    }\n",
       "\n",
       "    .dataframe tbody tr th {\n",
       "        vertical-align: top;\n",
       "    }\n",
       "\n",
       "    .dataframe thead th {\n",
       "        text-align: right;\n",
       "    }\n",
       "</style>\n",
       "<table border=\"1\" class=\"dataframe\">\n",
       "  <thead>\n",
       "    <tr style=\"text-align: right;\">\n",
       "      <th></th>\n",
       "      <th>X</th>\n",
       "      <th>Y</th>\n",
       "      <th>Tweet</th>\n",
       "      <th>Cluster</th>\n",
       "      <th>Breakdown</th>\n",
       "    </tr>\n",
       "  </thead>\n",
       "  <tbody>\n",
       "    <tr>\n",
       "      <th>0</th>\n",
       "      <td>-4.398011</td>\n",
       "      <td>-1.172455</td>\n",
       "      <td>statement from the last will and&lt;br&gt;testament ...</td>\n",
       "      <td>3</td>\n",
       "      <td>Topic3: 0.99</td>\n",
       "    </tr>\n",
       "    <tr>\n",
       "      <th>1</th>\n",
       "      <td>-3.395815</td>\n",
       "      <td>7.409121</td>\n",
       "      <td>The Last Will and Testament of Marcos is&lt;br&gt;cl...</td>\n",
       "      <td>4</td>\n",
       "      <td>Topic4: 0.99</td>\n",
       "    </tr>\n",
       "    <tr>\n",
       "      <th>2</th>\n",
       "      <td>-9.062208</td>\n",
       "      <td>5.383867</td>\n",
       "      <td>Last will and testament of then&lt;br&gt;PFEMarcos f...</td>\n",
       "      <td>1</td>\n",
       "      <td>Topic1: 0.99</td>\n",
       "    </tr>\n",
       "    <tr>\n",
       "      <th>3</th>\n",
       "      <td>-4.216341</td>\n",
       "      <td>-1.008768</td>\n",
       "      <td>The Richest: Last Will &amp;amp;Testament of&lt;br&gt;Pr...</td>\n",
       "      <td>3</td>\n",
       "      <td>Topic3: 0.97&lt;br&gt;Topic1: 0.01&lt;br&gt;Topic2: 0.01&lt;b...</td>\n",
       "    </tr>\n",
       "    <tr>\n",
       "      <th>4</th>\n",
       "      <td>-3.388214</td>\n",
       "      <td>7.364520</td>\n",
       "      <td>Philippines: Wealthiest Nation on Earth-&lt;br&gt;Th...</td>\n",
       "      <td>4</td>\n",
       "      <td>Topic4: 0.99</td>\n",
       "    </tr>\n",
       "    <tr>\n",
       "      <th>5</th>\n",
       "      <td>-3.282510</td>\n",
       "      <td>7.136794</td>\n",
       "      <td>Philippines: Wealthiest Nation on Earth&lt;br&gt;– T...</td>\n",
       "      <td>4</td>\n",
       "      <td>Topic4: 0.99</td>\n",
       "    </tr>\n",
       "    <tr>\n",
       "      <th>6</th>\n",
       "      <td>-4.194694</td>\n",
       "      <td>-1.004288</td>\n",
       "      <td>Last Will Testament of Ferdinand Edralin&lt;br&gt;Ma...</td>\n",
       "      <td>3</td>\n",
       "      <td>Topic3: 0.98&lt;br&gt;Topic1: 0.01&lt;br&gt;Topic2: 0.01&lt;b...</td>\n",
       "    </tr>\n",
       "    <tr>\n",
       "      <th>7</th>\n",
       "      <td>-3.403695</td>\n",
       "      <td>7.158817</td>\n",
       "      <td>The Last Will and Testament of Ferdinand&lt;br&gt;E....</td>\n",
       "      <td>4</td>\n",
       "      <td>Topic4: 0.99</td>\n",
       "    </tr>\n",
       "    <tr>\n",
       "      <th>8</th>\n",
       "      <td>-3.453345</td>\n",
       "      <td>7.218026</td>\n",
       "      <td>Wag daw po tayong mag-alala kasi may&lt;br&gt;last w...</td>\n",
       "      <td>4</td>\n",
       "      <td>Topic4: 0.98&lt;br&gt;Topic1: 0.01&lt;br&gt;Topic2: 0.01&lt;b...</td>\n",
       "    </tr>\n",
       "    <tr>\n",
       "      <th>9</th>\n",
       "      <td>-3.962035</td>\n",
       "      <td>-1.663143</td>\n",
       "      <td>Madam Imelda once went to the senate&lt;br&gt;congre...</td>\n",
       "      <td>3</td>\n",
       "      <td>Topic3: 1.0</td>\n",
       "    </tr>\n",
       "  </tbody>\n",
       "</table>\n",
       "</div>"
      ],
      "text/plain": [
       "          X         Y                                              Tweet  \\\n",
       "0 -4.398011 -1.172455  statement from the last will and<br>testament ...   \n",
       "1 -3.395815  7.409121  The Last Will and Testament of Marcos is<br>cl...   \n",
       "2 -9.062208  5.383867  Last will and testament of then<br>PFEMarcos f...   \n",
       "3 -4.216341 -1.008768  The Richest: Last Will &amp;Testament of<br>Pr...   \n",
       "4 -3.388214  7.364520  Philippines: Wealthiest Nation on Earth-<br>Th...   \n",
       "5 -3.282510  7.136794  Philippines: Wealthiest Nation on Earth<br>– T...   \n",
       "6 -4.194694 -1.004288  Last Will Testament of Ferdinand Edralin<br>Ma...   \n",
       "7 -3.403695  7.158817  The Last Will and Testament of Ferdinand<br>E....   \n",
       "8 -3.453345  7.218026  Wag daw po tayong mag-alala kasi may<br>last w...   \n",
       "9 -3.962035 -1.663143  Madam Imelda once went to the senate<br>congre...   \n",
       "\n",
       "  Cluster                                          Breakdown  \n",
       "0       3                                       Topic3: 0.99  \n",
       "1       4                                       Topic4: 0.99  \n",
       "2       1                                       Topic1: 0.99  \n",
       "3       3  Topic3: 0.97<br>Topic1: 0.01<br>Topic2: 0.01<b...  \n",
       "4       4                                       Topic4: 0.99  \n",
       "5       4                                       Topic4: 0.99  \n",
       "6       3  Topic3: 0.98<br>Topic1: 0.01<br>Topic2: 0.01<b...  \n",
       "7       4                                       Topic4: 0.99  \n",
       "8       4  Topic4: 0.98<br>Topic1: 0.01<br>Topic2: 0.01<b...  \n",
       "9       3                                        Topic3: 1.0  "
      ]
     },
     "execution_count": 21,
     "metadata": {},
     "output_type": "execute_result"
    }
   ],
   "source": [
    "# Create a new dataframe with t-SNE coordinates and cluster labels\n",
    "import textwrap\n",
    "\n",
    "def split_text(text, max_length):\n",
    "  lines = textwrap.wrap(text, width=max_length, break_long_words=False)\n",
    "  return \"<br>\".join(lines)\n",
    "\n",
    "df_topics_cluster = pd.DataFrame({'X': tsne_result[:, 0],\n",
    "                                  'Y': tsne_result[:, 1],\n",
    "                                  'Tweet': df['Tweet'],\n",
    "                                  'Cluster': df_topics_lda.reset_index()['dominant_topic'].astype(str), # topics via LDA\n",
    "                                  # 'Cluster': cluster_labels},                                         # clusters via K-means\n",
    "                                  'Breakdown': df_topics_lda.reset_index()['breakdown']})\n",
    "\n",
    "df_topics_cluster['Tweet'] = df_topics_cluster['Tweet'].apply(lambda x: split_text(x, 40))\n",
    "df_topics_cluster['Breakdown'] = df_topics_cluster['Breakdown'].str.replace('\\n','<br>')\n",
    "\n",
    "df_topics_cluster.head(10)"
   ]
  },
  {
   "cell_type": "code",
   "execution_count": 22,
   "metadata": {},
   "outputs": [
    {
     "name": "stderr",
     "output_type": "stream",
     "text": [
      "C:\\Users\\james\\AppData\\Local\\Temp\\ipykernel_31272\\1710223759.py:2: UserWarning: Could not infer format, so each element will be parsed individually, falling back to `dateutil`. To ensure parsing is consistent and as-expected, please specify a format.\n",
      "  df_topics_cluster['post_year'] = df['Date posted'].astype('datetime64[ns]').dt.year\n"
     ]
    }
   ],
   "source": [
    "df_topics_cluster['join_year'] = df['join_year']\n",
    "df_topics_cluster['post_year'] = df['Date posted'].astype('datetime64[ns]').dt.year"
   ]
  },
  {
   "cell_type": "code",
   "execution_count": 23,
   "metadata": {},
   "outputs": [
    {
     "name": "stderr",
     "output_type": "stream",
     "text": [
      "C:\\Users\\james\\AppData\\Local\\Temp\\ipykernel_31272\\2959486784.py:1: UserWarning: Could not infer format, so each element will be parsed individually, falling back to `dateutil`. To ensure parsing is consistent and as-expected, please specify a format.\n",
      "  df['Date posted'].astype('datetime64[ns]').dt.year\n"
     ]
    },
    {
     "data": {
      "text/plain": [
       "0      2016\n",
       "1      2016\n",
       "2      2016\n",
       "3      2016\n",
       "4      2016\n",
       "       ... \n",
       "97     2022\n",
       "98     2022\n",
       "99     2022\n",
       "100    2022\n",
       "101    2022\n",
       "Name: Date posted, Length: 102, dtype: int32"
      ]
     },
     "execution_count": 23,
     "metadata": {},
     "output_type": "execute_result"
    }
   ],
   "source": [
    "df['Date posted'].astype('datetime64[ns]').dt.year"
   ]
  },
  {
   "cell_type": "code",
   "execution_count": 24,
   "metadata": {},
   "outputs": [
    {
     "data": {
      "application/vnd.plotly.v1+json": {
       "config": {
        "plotlyServerURL": "https://plot.ly"
       },
       "data": [
        {
         "customdata": [
          [
           "1",
           "Nakita mo na ba na pumunta si Imelda sa<br>senate hearing to implement the Marcos<br>Humanitarian Foundation. His last will<br>and testament was supposed to help the<br>country to pay its debt but they denied<br>it kasi nga gusto pa nakawin ng ibang<br>tao. Nako napakataas pa ng usapin na<br>ito.",
           "Topic1: 1.0",
           2021
          ],
          [
           "1",
           "DOCUMENTS, FOR IDENTITY THEFT, FOR<br>MALICIOUS IMPERSONATION FOR HIS PERSONAL<br>GAIN BECAUSE ACCORDING TO MARCOS SR.,<br>THE REAL BBM DIED IN 1975 ACCORDING TO<br>HIS DECLARATION IN HAWAII AND HIS LAST<br>WILL TESTAMENT.",
           "Topic1: 1.0",
           2021
          ],
          [
           "1",
           "https://t.co/MC0bSerk5Q Marcos<br>foundation will use to the Filipino<br>people for new society only if Bong Bong<br>Marcos will be the next president of the<br>Philippines. He's the only one has the<br>authority to sign the last will of<br>testament made by Ferdinand Marcos.<br>{alt-text: Explainer on Marcos-Duterte<br>2022 tandem. The video explains the<br>story of FEM's wealth allegedly stolen<br>by his opponents}",
           "Topic1: 0.99",
           2021
          ],
          [
           "1",
           "Gusto nyo singilin ang 203B na estate<br>tax ni marcos pero mas malaki naman ang<br>pwede nyang ibigay sa mga pilipino base<br>sa last will and testament ni FEM.",
           "Topic1: 0.99",
           2022
          ],
          [
           "1",
           "KAYA NGA NASA LAST WILL NI FEM MARCOS NA<br>HE WANTS TO SHARE HIS DIVINE WEALTH TO<br>HUMANITY W/C MAYBE INSTRUCTED TO HIM BY<br>GOD THROUGH HIS VISIONS NA SINASABI NIYA<br>NA RECEIVED NIYA FROM GOD",
           "Topic1: 0.99",
           2022
          ],
          [
           "1",
           "lmao ko muka mo.. WALA PANG NAPAPALABAS<br>KAHIT ISANG OUNCE NG GINTO SA KAHIT<br>ANONG BANGKO. at nakasaad sa Last Will<br>and Testament ni late President FEM na<br>tanging Marcos lang ang siyang hahawak<br>at magpapalabas ng ginto.. alangan man<br>ibigay sa yellow tards malamang<br>nanakawin!",
           "Topic1: 1.0",
           2021
          ],
          [
           "1",
           "sa CNA singapore INSIGHT program last<br>tuesday,ininterview un loyalist ng<br>marcos,nasa last will daw ni Sr na un<br>yamashitatreasure 10%para sa 1st family<br>(marcos family) 10% sa religion ( hindi<br>nabanggit which sekta) and then the rest<br>for the filipino people. pag nanalo daw<br>si bbm.",
           "Topic1: 1.0",
           2022
          ],
          [
           "1",
           "In d 1st place, there’s no such thing as<br>“Marcos wealth”. Didn’t he bequeth d<br>majority of d assets 2 d Fil peopke as<br>per his last will and testament?<br>Secondly, all assets earned from d<br>financial play of the insurance cert<br>covering d gold bars have always been in<br>favor of d Phil.",
           "Topic1: 1.0",
           2018
          ],
          [
           "1",
           "2/2. They are trying to stop the Marcos<br>family to go back into the Palace<br>because they are afraid about the ‘Last<br>will and testament’ of FDM. If the LWAT<br>will be imposed, the oligarchs can no<br>longer use poor people because there’ll<br>be no longer poor or jobless in the<br>country.✌️👊",
           "Topic1: 1.0",
           2021
          ],
          [
           "1",
           "Why? Because he know na pag ipapahawak<br>niya ito sa mga tao sa pamahalaan alam<br>niyang makukurakot lang ito and he even<br>said sa  last will niya hindi mailalabas<br>ang perang iyong hanggat hindi nauupo<br>ang isang Marcos. See they have good<br>heart to us.",
           "Topic1: 0.99",
           2022
          ],
          [
           "1",
           "During the 90s, Imelda went to Congress<br>to execute last will of FEM (Marcos<br>Humanitarian Foundation). It was ignored<br>by your chosen politicians back then.<br>Tapos ngayon makademand kayo? After all<br>the cases filed against them? Edi<br>magintay na lang talaga kayo after the<br>cases 🤷🏻‍♀️",
           "Topic1: 1.0",
           2021
          ],
          [
           "1",
           "If u follow the NESARA/GESARA timeline,<br>you should know Bong Bong running for<br>President is a very strong indication of<br>things coming 2 fruition.   4 its when<br>Ferdinand’s first born son becomes<br>president, that the Marcos funds be<br>unlocked for the Filipinos. It is in his<br>last will. https://t.co/sFsBUmnE37",
           "Topic1: 1.0",
           2021
          ],
          [
           "1",
           "May video po kasi yan nasa YT last will<br>and testament ni marcos. Si Imelda nag<br>punta pa sa Goverment pra magpatulong<br>pra maimplement ang last will at<br>testament ni PFEM kaso ayaw ng goverment<br>na dilawan.",
           "Topic1: 0.99",
           2021
          ],
          [
           "1",
           "Marcos earned 987 billion US dollars.<br>His last will was if no one proclaim<br>this money within 50 yrs. legally then<br>it will be used for the sake of<br>humanityy. Ang baitt niyaaa",
           "Topic1: 1.0",
           2018
          ],
          [
           "1",
           "Last will and testament of then<br>PFEMarcos for the people! THE DEVINE<br>WEALTH OF MARCOS AND TALLANO CLAN<br>https://t.co/v4rJkLXhHZ {alt-text:ABS-<br>CBN article about Marcos Sr.'s preferred<br>burial place, shows a blurred copy of<br>Marcos Sr.'s last will.}",
           "Topic1: 0.99",
           2016
          ],
          [
           "1",
           "https://t.co/MC0bSe9aRI Marcos<br>foundation will use to the Filipino<br>people for new society only if Bong Bong<br>Marcos will be the next president of the<br>Philippines. He's the only one has the<br>authority to sign the last will of<br>testament made by Ferdinand Marcos.",
           "Topic1: 0.99",
           2021
          ],
          [
           "1",
           "I liked a  video https://t.co/xFrmPkBU3e<br>FERDINAND MARCOS LAST WILL &amp;<br>TESTAMENT PARA SA MGA PILIPINO NA<br>PINAGKAIT NI CORY",
           "Topic1: 0.99",
           2016
          ]
         ],
         "hovertemplate": "<b>%{hovertext}</b><br><br>Breakdown=%{customdata[2]}<br>post_year=%{customdata[3]}<extra></extra>",
         "hovertext": [
          "Nakita mo na ba na pumunta si Imelda sa<br>senate hearing to implement the Marcos<br>Humanitarian Foundation. His last will<br>and testament was supposed to help the<br>country to pay its debt but they denied<br>it kasi nga gusto pa nakawin ng ibang<br>tao. Nako napakataas pa ng usapin na<br>ito.",
          "DOCUMENTS, FOR IDENTITY THEFT, FOR<br>MALICIOUS IMPERSONATION FOR HIS PERSONAL<br>GAIN BECAUSE ACCORDING TO MARCOS SR.,<br>THE REAL BBM DIED IN 1975 ACCORDING TO<br>HIS DECLARATION IN HAWAII AND HIS LAST<br>WILL TESTAMENT.",
          "https://t.co/MC0bSerk5Q Marcos<br>foundation will use to the Filipino<br>people for new society only if Bong Bong<br>Marcos will be the next president of the<br>Philippines. He's the only one has the<br>authority to sign the last will of<br>testament made by Ferdinand Marcos.<br>{alt-text: Explainer on Marcos-Duterte<br>2022 tandem. The video explains the<br>story of FEM's wealth allegedly stolen<br>by his opponents}",
          "Gusto nyo singilin ang 203B na estate<br>tax ni marcos pero mas malaki naman ang<br>pwede nyang ibigay sa mga pilipino base<br>sa last will and testament ni FEM.",
          "KAYA NGA NASA LAST WILL NI FEM MARCOS NA<br>HE WANTS TO SHARE HIS DIVINE WEALTH TO<br>HUMANITY W/C MAYBE INSTRUCTED TO HIM BY<br>GOD THROUGH HIS VISIONS NA SINASABI NIYA<br>NA RECEIVED NIYA FROM GOD",
          "lmao ko muka mo.. WALA PANG NAPAPALABAS<br>KAHIT ISANG OUNCE NG GINTO SA KAHIT<br>ANONG BANGKO. at nakasaad sa Last Will<br>and Testament ni late President FEM na<br>tanging Marcos lang ang siyang hahawak<br>at magpapalabas ng ginto.. alangan man<br>ibigay sa yellow tards malamang<br>nanakawin!",
          "sa CNA singapore INSIGHT program last<br>tuesday,ininterview un loyalist ng<br>marcos,nasa last will daw ni Sr na un<br>yamashitatreasure 10%para sa 1st family<br>(marcos family) 10% sa religion ( hindi<br>nabanggit which sekta) and then the rest<br>for the filipino people. pag nanalo daw<br>si bbm.",
          "In d 1st place, there’s no such thing as<br>“Marcos wealth”. Didn’t he bequeth d<br>majority of d assets 2 d Fil peopke as<br>per his last will and testament?<br>Secondly, all assets earned from d<br>financial play of the insurance cert<br>covering d gold bars have always been in<br>favor of d Phil.",
          "2/2. They are trying to stop the Marcos<br>family to go back into the Palace<br>because they are afraid about the ‘Last<br>will and testament’ of FDM. If the LWAT<br>will be imposed, the oligarchs can no<br>longer use poor people because there’ll<br>be no longer poor or jobless in the<br>country.✌️👊",
          "Why? Because he know na pag ipapahawak<br>niya ito sa mga tao sa pamahalaan alam<br>niyang makukurakot lang ito and he even<br>said sa  last will niya hindi mailalabas<br>ang perang iyong hanggat hindi nauupo<br>ang isang Marcos. See they have good<br>heart to us.",
          "During the 90s, Imelda went to Congress<br>to execute last will of FEM (Marcos<br>Humanitarian Foundation). It was ignored<br>by your chosen politicians back then.<br>Tapos ngayon makademand kayo? After all<br>the cases filed against them? Edi<br>magintay na lang talaga kayo after the<br>cases 🤷🏻‍♀️",
          "If u follow the NESARA/GESARA timeline,<br>you should know Bong Bong running for<br>President is a very strong indication of<br>things coming 2 fruition.   4 its when<br>Ferdinand’s first born son becomes<br>president, that the Marcos funds be<br>unlocked for the Filipinos. It is in his<br>last will. https://t.co/sFsBUmnE37",
          "May video po kasi yan nasa YT last will<br>and testament ni marcos. Si Imelda nag<br>punta pa sa Goverment pra magpatulong<br>pra maimplement ang last will at<br>testament ni PFEM kaso ayaw ng goverment<br>na dilawan.",
          "Marcos earned 987 billion US dollars.<br>His last will was if no one proclaim<br>this money within 50 yrs. legally then<br>it will be used for the sake of<br>humanityy. Ang baitt niyaaa",
          "Last will and testament of then<br>PFEMarcos for the people! THE DEVINE<br>WEALTH OF MARCOS AND TALLANO CLAN<br>https://t.co/v4rJkLXhHZ {alt-text:ABS-<br>CBN article about Marcos Sr.'s preferred<br>burial place, shows a blurred copy of<br>Marcos Sr.'s last will.}",
          "https://t.co/MC0bSe9aRI Marcos<br>foundation will use to the Filipino<br>people for new society only if Bong Bong<br>Marcos will be the next president of the<br>Philippines. He's the only one has the<br>authority to sign the last will of<br>testament made by Ferdinand Marcos.",
          "I liked a  video https://t.co/xFrmPkBU3e<br>FERDINAND MARCOS LAST WILL &amp;<br>TESTAMENT PARA SA MGA PILIPINO NA<br>PINAGKAIT NI CORY"
         ],
         "legendgroup": "1",
         "marker": {
          "color": "#636efa",
          "symbol": "circle"
         },
         "mode": "markers",
         "name": "1",
         "orientation": "v",
         "showlegend": true,
         "type": "scatter",
         "x": [
          -9.063434600830078,
          -9.061356544494629,
          -9.061151504516602,
          -9.060934066772461,
          -9.06846809387207,
          -9.06082820892334,
          -9.061553001403809,
          -9.059700012207031,
          -9.062633514404297,
          -9.060046195983887,
          -9.088981628417969,
          -9.06057357788086,
          -9.059524536132812,
          -9.089322090148926,
          -9.06220817565918,
          -9.061375617980957,
          -9.060415267944336
         ],
         "xaxis": "x",
         "y": [
          5.382776737213135,
          5.38212776184082,
          5.38125467300415,
          5.383354187011719,
          5.382991313934326,
          5.382007598876953,
          5.382534503936768,
          5.383090019226074,
          5.383989334106445,
          5.383537769317627,
          5.380952835083008,
          5.381943225860596,
          5.382774353027344,
          5.379549503326416,
          5.383866786956787,
          5.383762359619141,
          5.3830671310424805
         ],
         "yaxis": "y"
        },
        {
         "customdata": [
          [
           "2",
           "...it was time-deposited fir 50 years<br>according to his last will and<br>testament. He gave claimants 50 years to<br>prove that they own the money. If no one<br>could prove, then it will be released<br>for the Filipinos. I'm pretty sure you<br>don't know that because you are anti-<br>Marcos.",
           "Topic2: 1.0",
           2020
          ],
          [
           "2",
           "And this immense wealth was saved and<br>deposited for the future of Filipino<br>people.   Imelda has pleaded at the<br>Senate before to help her execute the<br>last will of Marcos for the distribution<br>of this wealth but due to politics, the<br>wealth couldn't be released.",
           "Topic2: 1.0",
           2020
          ],
          [
           "2",
           "Sa panahong Ito na Gipit Ang Gobyerno Ng<br>Pilipinas, bat di PO natin e consider na<br>ipatupad Ang LAST WILL TESTAMENT Ni<br>dting Pangulong F. Marcos. Upang magamit<br>Ang kanyang yaman para sa mga<br>pilipino.for the welfare of the Filipino<br>people.",
           "Topic2: 0.99",
           2020
          ],
          [
           "2",
           "Actually late President Ferdinand Marcos<br>insured in his Last will and testament<br>that those gold bars and wealth will be<br>owned by the people of the Philippines<br>50 years from that time.  Dahil sa<br>YouTube daming nabago sa perception ko<br>towards Aquino. 🤢",
           "Topic2: 1.0",
           2020
          ],
          [
           "2",
           "Manny will just be a puppet. You dont<br>need a lawyer or any other profession<br>for next president. There is only one<br>best fit, and that is BBM only. Nobody<br>else can completely fulfill the last<br>will of Marcos (projects initiated now<br>by PRDD) but a Marcos, or his legal son.<br>Peace.",
           "Topic2: 1.0",
           2020
          ],
          [
           "2",
           "Kaya mas pinili n apo lakay na ipamahagi<br>sa dukhang pilipino Ang mga Ari arian<br>nya kesa mapunta sa oligarko laht Yan<br>Ang last will n apo lakay at c bongbong<br>Marcos lng mkkagawa Nyan Kya wag<br>natinhayaan na mkuha laht Ng oligarko<br>Ang yaman Ng apo lakay n hawak Ng PCGG<br>nasan yaman?",
           "Topic2: 1.0",
           2022
          ],
          [
           "2",
           "Marcos Last Will and Testament<br>https://t.co/PEHvbbZGqq  {alt-text: A<br>reading of fabricated FEM last will}",
           "Topic2: 0.87<br>Topic1: 0.04<br>Topic3: 0.04<br>Topic4: 0.04",
           2016
          ],
          [
           "2",
           "To all filipinos lets vote bongbong<br>Marcos to become president because<br>hewill implement the last will and<br>testament to redeem the wealth Which<br>Ferdinand Marcos entrusted on the banks<br>all over the world it is already matured<br>it is time Bongbong Marcos will recover<br>the gold for us.",
           "Topic2: 1.0",
           2021
          ],
          [
           "2",
           "lagay ng ninakaw sge e kanino naman<br>ibibigay o ibabalik? Think people, ung<br>snasabing nabawi di na nga nakita diba?<br>Kung isosoli man sa TAO at mangyayare<br>lang yan if mananalo si BBM. nasa last<br>will yan ni Pres. Marcos, na it will be<br>given to the people. So panong ninakaw?",
           "Topic2: 1.0",
           2021
          ],
          [
           "2",
           "Rebuttal? Di ka nga worth it maka debate<br>🤡🤭 meron bang magnanakaw na willing<br>ibahagi ang yaman search for the Last<br>Will and Testament of Marcos and isipin<br>mo na kung bat di yun naipatupad🤭🤭🤭",
           "Topic2: 0.99",
           2021
          ],
          [
           "2",
           "Candidates who aint like  will eagerly<br>throw horrendous attack to return the<br>“ILL GOTTEN WEALTH” of the late Pres<br>FDM.I wasn’t even born when it happened<br>but as far as I know Marcos last will of<br>Testament is to give his wealth to<br>Filipinos but the Government is blocking<br>it.",
           "Topic2: 1.0",
           2021
          ],
          [
           "2",
           "napanood mo ba yung vid na<br>pinapaaprubahan ni Gng. Imelda Marcos<br>yung last will ni Pres. Marcos Sr. sa<br>Cabinet na nagsasaad na ipapamana sa<br>Pilipinas yung unimaginable wealth nya.<br>Alam mo ba na puro Yellowtards and hindi<br>pumirma dun. Kasi gusto nila, sa<br>sariling bulsa nila ilagay",
           "Topic2: 1.0",
           2022
          ],
          [
           "2",
           "yun last will n late pres marcos ibigay<br>sa pilipino pipol interest gold bars<br>trillion na yun, gud luck",
           "Topic2: 0.99",
           2021
          ],
          [
           "2",
           "Matutupad na ang Last Will and Testament<br>ng Father nya para sa maging maharlika<br>ang bansa natin. Matagal na yan<br>binibigay ni Imelda Marcos. Panoorin mo<br>po sa news.",
           "Topic2: 0.99",
           2021
          ],
          [
           "2",
           "Hindi nyo ba alam? Nilagay sa Last Will<br>&amp; Testament ni Marcos na ang<br>kayamanan na meron sya kinita nya sa<br>Gold Trade sa Europe Ay pinapamana nya<br>sa People of the Philippines??  Anung<br>ginawa nitong mga disente Abnoy Dilawan<br>Oligarch?   Hinarang nila at ibinulsa<br>verygood sila diba?",
           "Topic2: 1.0",
           2021
          ],
          [
           "2",
           "Yes sa Pilipinas po talaga yun pero<br>hindi yun ninakaw ng marcos dahil nasa<br>last will and testament ni Marcos Sr na<br>dapat my makaupo na isang marcos as<br>President para maiahon ang Pilipinas<br>dhil hindi yun basta2 ipagkatiwala sa<br>ibang tao.",
           "Topic2: 0.99",
           2021
          ],
          [
           "2",
           "Katuparan ng Last Will and Testament ni<br>Pangulong Marcos para sa Sambaya...<br>https://t.co/lUFsdlA6Em via",
           "Topic2: 0.98<br>Topic1: 0.01<br>Topic3: 0.01<br>Topic4: 0.01",
           2021
          ],
          [
           "2",
           "Sa panahong Ito na Gipit Ang Gobyerno Ng<br>Pilipinas, bat di PO natin e consider na<br>ipatupad Ang LAST WILL TESTAMENT Ni<br>dting Pangulong F. Marcos. Upang magamit<br>Ang kanyang yaman para sa mga<br>pilipino.for the welfare of the Filipino<br>people.",
           "Topic2: 0.99",
           2020
          ],
          [
           "2",
           "May Last Will Testament daw si Marcos na<br>ipapamana daw sa Suporters nila ang mga<br>Kayamanan at Ginto<br>https://t.co/ROuFhWOXW2",
           "Topic2: 0.99",
           2021
          ],
          [
           "2",
           "Marcos Last Will and Testament<br>https://t.co/AWgndKGtlk via   {alt-text:<br>A reading of fabricated FEM last will}",
           "Topic2: 0.95<br>Topic1: 0.02<br>Topic3: 0.02<br>Topic4: 0.02",
           2016
          ],
          [
           "2",
           "Hintay lang mga guro. Inaasikaso na ang<br>share nyo sa last will ni marcos.",
           "Topic2: 0.99<br>Topic1: 0.01",
           2022
          ],
          [
           "2",
           "presents : The story of the Last Will<br>and testament ng dating Pangulong<br>Ferdinand Marcos na ipinapaabot kay BBM<br>para taumbayan  To Watch the full video<br>click the Link Here  : 🡻🡻🡻<br>https://t.co/nrPqXAqmgr<br>https://t.co/MwPsq22VXb",
           "Topic2: 0.99",
           2022
          ],
          [
           "2",
           "Vindictive kc ung pumalit. Kung di<br>pinasara ni Cory ung Bataan laking<br>tulong na sana un sa mga tao. Kung<br>tinanggap niya ung last will ni Marcos<br>na foundation, eh di sna nahirapan<br>Pinas.",
           "Topic2: 0.99",
           2021
          ],
          [
           "2",
           "Last Will and Testament of Ferdinand<br>Marcos, President of the Philippines<br>https://t.co/LhAmCCllnn {alt-text:<br>Scribd article that shows a fabricated<br>Marcos Sr. Last Will and Testament<br>shared by American Kabuki}",
           "Topic2: 0.97<br>Topic1: 0.01<br>Topic3: 0.01<br>Topic4: 0.01",
           2016
          ],
          [
           "2",
           "Last Will and Testament of Ferdinand<br>Marcos, President of the Philippines<br>https://t.co/4WFn5dkl4o {alt-text:<br>Scribd article that shows a fabricated<br>Marcos Sr. Last Will and Testament<br>shared by American Kabuki}",
           "Topic2: 0.97<br>Topic1: 0.01<br>Topic3: 0.01<br>Topic4: 0.01",
           2016
          ],
          [
           "2",
           "Marcos’ gold and the richest country in<br>the world : Philippines videos are<br>making me speechless. Naloloka ako. Last<br>will of marcos stated na its for the<br>welfare of the Filipino. Pero where is<br>it now?",
           "Topic2: 0.99",
           2020
          ],
          [
           "2",
           "The Hidden Truth : Last will ni Marcos<br>para sa bayan, hinaharang ng gobyerno<br>https://t.co/dZnWJBFJGO",
           "Topic2: 0.52<br>Topic1: 0.47<br>Topic3: 0.01<br>Topic4: 0.01",
           2016
          ],
          [
           "2",
           "The Hidden Truth : Last will ni Marcos<br>para sa bayan, hinaharang ng gobyerno<br>https://t.co/7KR8G3pFFh",
           "Topic2: 0.98<br>Topic1: 0.01<br>Topic3: 0.01<br>Topic4: 0.01",
           2016
          ],
          [
           "2",
           "Video Kept Secret by Media of the Last<br>Will of Marcos for the Filipino People.<br>https://t.co/D5UybfUJd4",
           "Topic2: 0.99",
           2016
          ],
          [
           "2",
           "The Hidden Truth : Last will ni Marcos<br>para sa bayan, hinaharang ng gobyerno<br>https://t.co/BF3aMqKBHy",
           "Topic2: 0.98<br>Topic1: 0.01<br>Topic3: 0.01<br>Topic4: 0.01",
           2016
          ],
          [
           "2",
           "si BBM ang mag papa sakatupad ng last<br>will and testament ni marcos para ma ipa<br>mudmod yang mga trillion na interes na<br>kinita ng gold ni marcos na nag mature<br>na since 2000, nakiusap si imelda sa<br>senado na tulungan sya ipatupad ang last<br>will pero binalewala lng sya.",
           "Topic2: 1.0",
           2021
          ],
          [
           "2",
           "Where can i find that \"hinaharangan<br>nila\"?, there's this last will of Marcos<br>where the funds will be used for Marcos<br>humanitarian foundation. The funds will<br>be given to the trustees for that<br>project but no one helped them. Correct<br>me if im wrong. https://t.co/LnHQXt3YWy<br>{alt-text: Imelda Marcos' 1998 Senate<br>hearing regarding the last will of FEM}",
           "Topic2: 0.99",
           2022
          ],
          [
           "2",
           "WOW! naabutan pa ni Mdm Imelda ang anak<br>nya na naging president kaya hindi<br>mapasidlan ang tuwa't saya ng pamilyang<br>Marcos. maisasakatuparan na ang hiling<br>ni Mdm Imelda na mabigyan pansin ang<br>'Last Will &amp; Testament' ni FEM para<br>maipamahagi sa mga Pilipino at bansang<br>Pilipinas.✌🇵🇭",
           "Topic2: 1.0",
           2022
          ],
          [
           "2",
           "Marcos Last Will and Testament<br>(https://t.co/zhespTFV5T)<br>https://t.co/n7PyQyEeXg  {alt-text: A<br>reading of fabricated FEM last will}",
           "Topic2: 0.87<br>Topic1: 0.04<br>Topic3: 0.04<br>Topic4: 0.04",
           2016
          ],
          [
           "2",
           "I got this from our driver: Marcos’<br>alleged personal assets will be<br>transferred to all Filipinos after 50<br>years. It’s on his Last Will and<br>Testament! When BBM becomes president,<br>we’ll get it earlier! Blew my mind! 🤯",
           "Topic2: 1.0",
           2022
          ],
          [
           "2",
           "Sana din po yung nasa senado e<br>tinulungan din c Emelda Marcos na<br>ibahagi ang nasa Last Will &amp;<br>Testament ng asawa nya na para sa mga<br>pilipino. Eh ayaw pumayag. Hindi din<br>nila ma gamit yun dahil nasa Switzerland<br>at ibang bangko na freeze po yun.",
           "Topic2: 1.0",
           2022
          ],
          [
           "2",
           "Amazing Facts || MR. MARCOS LAST WILL<br>AND TESTAMENT Soak in Water || Kin...<br>https://t.co/C0Z7pedIKH via   {alt-text:<br>Soaking in water and reading of<br>fabricated FEM last will}",
           "Topic2: 0.99",
           2022
          ]
         ],
         "hovertemplate": "<b>%{hovertext}</b><br><br>Breakdown=%{customdata[2]}<br>post_year=%{customdata[3]}<extra></extra>",
         "hovertext": [
          "...it was time-deposited fir 50 years<br>according to his last will and<br>testament. He gave claimants 50 years to<br>prove that they own the money. If no one<br>could prove, then it will be released<br>for the Filipinos. I'm pretty sure you<br>don't know that because you are anti-<br>Marcos.",
          "And this immense wealth was saved and<br>deposited for the future of Filipino<br>people.   Imelda has pleaded at the<br>Senate before to help her execute the<br>last will of Marcos for the distribution<br>of this wealth but due to politics, the<br>wealth couldn't be released.",
          "Sa panahong Ito na Gipit Ang Gobyerno Ng<br>Pilipinas, bat di PO natin e consider na<br>ipatupad Ang LAST WILL TESTAMENT Ni<br>dting Pangulong F. Marcos. Upang magamit<br>Ang kanyang yaman para sa mga<br>pilipino.for the welfare of the Filipino<br>people.",
          "Actually late President Ferdinand Marcos<br>insured in his Last will and testament<br>that those gold bars and wealth will be<br>owned by the people of the Philippines<br>50 years from that time.  Dahil sa<br>YouTube daming nabago sa perception ko<br>towards Aquino. 🤢",
          "Manny will just be a puppet. You dont<br>need a lawyer or any other profession<br>for next president. There is only one<br>best fit, and that is BBM only. Nobody<br>else can completely fulfill the last<br>will of Marcos (projects initiated now<br>by PRDD) but a Marcos, or his legal son.<br>Peace.",
          "Kaya mas pinili n apo lakay na ipamahagi<br>sa dukhang pilipino Ang mga Ari arian<br>nya kesa mapunta sa oligarko laht Yan<br>Ang last will n apo lakay at c bongbong<br>Marcos lng mkkagawa Nyan Kya wag<br>natinhayaan na mkuha laht Ng oligarko<br>Ang yaman Ng apo lakay n hawak Ng PCGG<br>nasan yaman?",
          "Marcos Last Will and Testament<br>https://t.co/PEHvbbZGqq  {alt-text: A<br>reading of fabricated FEM last will}",
          "To all filipinos lets vote bongbong<br>Marcos to become president because<br>hewill implement the last will and<br>testament to redeem the wealth Which<br>Ferdinand Marcos entrusted on the banks<br>all over the world it is already matured<br>it is time Bongbong Marcos will recover<br>the gold for us.",
          "lagay ng ninakaw sge e kanino naman<br>ibibigay o ibabalik? Think people, ung<br>snasabing nabawi di na nga nakita diba?<br>Kung isosoli man sa TAO at mangyayare<br>lang yan if mananalo si BBM. nasa last<br>will yan ni Pres. Marcos, na it will be<br>given to the people. So panong ninakaw?",
          "Rebuttal? Di ka nga worth it maka debate<br>🤡🤭 meron bang magnanakaw na willing<br>ibahagi ang yaman search for the Last<br>Will and Testament of Marcos and isipin<br>mo na kung bat di yun naipatupad🤭🤭🤭",
          "Candidates who aint like  will eagerly<br>throw horrendous attack to return the<br>“ILL GOTTEN WEALTH” of the late Pres<br>FDM.I wasn’t even born when it happened<br>but as far as I know Marcos last will of<br>Testament is to give his wealth to<br>Filipinos but the Government is blocking<br>it.",
          "napanood mo ba yung vid na<br>pinapaaprubahan ni Gng. Imelda Marcos<br>yung last will ni Pres. Marcos Sr. sa<br>Cabinet na nagsasaad na ipapamana sa<br>Pilipinas yung unimaginable wealth nya.<br>Alam mo ba na puro Yellowtards and hindi<br>pumirma dun. Kasi gusto nila, sa<br>sariling bulsa nila ilagay",
          "yun last will n late pres marcos ibigay<br>sa pilipino pipol interest gold bars<br>trillion na yun, gud luck",
          "Matutupad na ang Last Will and Testament<br>ng Father nya para sa maging maharlika<br>ang bansa natin. Matagal na yan<br>binibigay ni Imelda Marcos. Panoorin mo<br>po sa news.",
          "Hindi nyo ba alam? Nilagay sa Last Will<br>&amp; Testament ni Marcos na ang<br>kayamanan na meron sya kinita nya sa<br>Gold Trade sa Europe Ay pinapamana nya<br>sa People of the Philippines??  Anung<br>ginawa nitong mga disente Abnoy Dilawan<br>Oligarch?   Hinarang nila at ibinulsa<br>verygood sila diba?",
          "Yes sa Pilipinas po talaga yun pero<br>hindi yun ninakaw ng marcos dahil nasa<br>last will and testament ni Marcos Sr na<br>dapat my makaupo na isang marcos as<br>President para maiahon ang Pilipinas<br>dhil hindi yun basta2 ipagkatiwala sa<br>ibang tao.",
          "Katuparan ng Last Will and Testament ni<br>Pangulong Marcos para sa Sambaya...<br>https://t.co/lUFsdlA6Em via",
          "Sa panahong Ito na Gipit Ang Gobyerno Ng<br>Pilipinas, bat di PO natin e consider na<br>ipatupad Ang LAST WILL TESTAMENT Ni<br>dting Pangulong F. Marcos. Upang magamit<br>Ang kanyang yaman para sa mga<br>pilipino.for the welfare of the Filipino<br>people.",
          "May Last Will Testament daw si Marcos na<br>ipapamana daw sa Suporters nila ang mga<br>Kayamanan at Ginto<br>https://t.co/ROuFhWOXW2",
          "Marcos Last Will and Testament<br>https://t.co/AWgndKGtlk via   {alt-text:<br>A reading of fabricated FEM last will}",
          "Hintay lang mga guro. Inaasikaso na ang<br>share nyo sa last will ni marcos.",
          "presents : The story of the Last Will<br>and testament ng dating Pangulong<br>Ferdinand Marcos na ipinapaabot kay BBM<br>para taumbayan  To Watch the full video<br>click the Link Here  : 🡻🡻🡻<br>https://t.co/nrPqXAqmgr<br>https://t.co/MwPsq22VXb",
          "Vindictive kc ung pumalit. Kung di<br>pinasara ni Cory ung Bataan laking<br>tulong na sana un sa mga tao. Kung<br>tinanggap niya ung last will ni Marcos<br>na foundation, eh di sna nahirapan<br>Pinas.",
          "Last Will and Testament of Ferdinand<br>Marcos, President of the Philippines<br>https://t.co/LhAmCCllnn {alt-text:<br>Scribd article that shows a fabricated<br>Marcos Sr. Last Will and Testament<br>shared by American Kabuki}",
          "Last Will and Testament of Ferdinand<br>Marcos, President of the Philippines<br>https://t.co/4WFn5dkl4o {alt-text:<br>Scribd article that shows a fabricated<br>Marcos Sr. Last Will and Testament<br>shared by American Kabuki}",
          "Marcos’ gold and the richest country in<br>the world : Philippines videos are<br>making me speechless. Naloloka ako. Last<br>will of marcos stated na its for the<br>welfare of the Filipino. Pero where is<br>it now?",
          "The Hidden Truth : Last will ni Marcos<br>para sa bayan, hinaharang ng gobyerno<br>https://t.co/dZnWJBFJGO",
          "The Hidden Truth : Last will ni Marcos<br>para sa bayan, hinaharang ng gobyerno<br>https://t.co/7KR8G3pFFh",
          "Video Kept Secret by Media of the Last<br>Will of Marcos for the Filipino People.<br>https://t.co/D5UybfUJd4",
          "The Hidden Truth : Last will ni Marcos<br>para sa bayan, hinaharang ng gobyerno<br>https://t.co/BF3aMqKBHy",
          "si BBM ang mag papa sakatupad ng last<br>will and testament ni marcos para ma ipa<br>mudmod yang mga trillion na interes na<br>kinita ng gold ni marcos na nag mature<br>na since 2000, nakiusap si imelda sa<br>senado na tulungan sya ipatupad ang last<br>will pero binalewala lng sya.",
          "Where can i find that \"hinaharangan<br>nila\"?, there's this last will of Marcos<br>where the funds will be used for Marcos<br>humanitarian foundation. The funds will<br>be given to the trustees for that<br>project but no one helped them. Correct<br>me if im wrong. https://t.co/LnHQXt3YWy<br>{alt-text: Imelda Marcos' 1998 Senate<br>hearing regarding the last will of FEM}",
          "WOW! naabutan pa ni Mdm Imelda ang anak<br>nya na naging president kaya hindi<br>mapasidlan ang tuwa't saya ng pamilyang<br>Marcos. maisasakatuparan na ang hiling<br>ni Mdm Imelda na mabigyan pansin ang<br>'Last Will &amp; Testament' ni FEM para<br>maipamahagi sa mga Pilipino at bansang<br>Pilipinas.✌🇵🇭",
          "Marcos Last Will and Testament<br>(https://t.co/zhespTFV5T)<br>https://t.co/n7PyQyEeXg  {alt-text: A<br>reading of fabricated FEM last will}",
          "I got this from our driver: Marcos’<br>alleged personal assets will be<br>transferred to all Filipinos after 50<br>years. It’s on his Last Will and<br>Testament! When BBM becomes president,<br>we’ll get it earlier! Blew my mind! 🤯",
          "Sana din po yung nasa senado e<br>tinulungan din c Emelda Marcos na<br>ibahagi ang nasa Last Will &amp;<br>Testament ng asawa nya na para sa mga<br>pilipino. Eh ayaw pumayag. Hindi din<br>nila ma gamit yun dahil nasa Switzerland<br>at ibang bangko na freeze po yun.",
          "Amazing Facts || MR. MARCOS LAST WILL<br>AND TESTAMENT Soak in Water || Kin...<br>https://t.co/C0Z7pedIKH via   {alt-text:<br>Soaking in water and reading of<br>fabricated FEM last will}"
         ],
         "legendgroup": "2",
         "marker": {
          "color": "#EF553B",
          "symbol": "circle"
         },
         "mode": "markers",
         "name": "2",
         "orientation": "v",
         "showlegend": true,
         "type": "scatter",
         "x": [
          -12.10063362121582,
          -11.644010543823242,
          -12.189946174621582,
          -12.028676986694336,
          -12.028676986694336,
          -11.576998710632324,
          -11.57785701751709,
          -12.10202407836914,
          -12.02043628692627,
          -12.191142082214355,
          -11.576998710632324,
          -11.576998710632324,
          -11.841547012329102,
          -11.841667175292969,
          -11.553319931030273,
          -11.841667175292969,
          -12.501834869384766,
          -11.841667175292969,
          -11.841667175292969,
          -12.376653671264648,
          -12.431203842163086,
          -11.841545104980469,
          -12.191142082214355,
          -12.520085334777832,
          -12.521759033203125,
          -11.841545104980469,
          -11.331117630004883,
          -12.514945030212402,
          -12.191142082214355,
          -12.501422882080078,
          -12.02043628692627,
          -12.191142082214355,
          -11.576998710632324,
          -11.577191352844238,
          -12.020438194274902,
          -11.576998710632324,
          -11.841545104980469
         ],
         "xaxis": "x",
         "y": [
          11.97988224029541,
          11.861912727355957,
          11.385093688964844,
          11.981669425964355,
          11.981669425964355,
          11.842876434326172,
          9.632030487060547,
          11.97570514678955,
          11.978278160095215,
          11.384218215942383,
          11.842877388000488,
          11.842876434326172,
          11.238183975219727,
          11.24130630493164,
          11.801511764526367,
          11.24130630493164,
          10.48923110961914,
          11.24130630493164,
          11.24130630493164,
          9.867203712463379,
          11.296257972717285,
          11.23818302154541,
          11.384218215942383,
          10.23232650756836,
          10.23013973236084,
          11.23818302154541,
          9.265867233276367,
          10.488468170166016,
          11.384218215942383,
          10.482192039489746,
          11.978277206420898,
          11.384218215942383,
          11.842876434326172,
          9.630634307861328,
          11.978279113769531,
          11.842876434326172,
          11.23818302154541
         ],
         "yaxis": "y"
        },
        {
         "customdata": [
          [
           "3",
           "Vote Bong Bong Marcos for President!<br>Only him can retrieve all wealth of the<br>Philippines that kept in other countries<br>and return back to our own national<br>treasury.  Read Last Will and Testament<br>of late Ferdinand Marcos.<br>https://t.co/xh1kx70lZq",
           "Topic3: 0.99",
           2022
          ],
          [
           "3",
           "Check out the Philippines how the<br>farmers debt will be waived &amp;new<br>housing for 6M homeless will be build,<br>1M house a year.Phil president &amp;the<br>gold of Marcoses are part of the<br>Gesara/Nesara as what the elder Marcos<br>last will &amp; testament says.Look it<br>up",
           "Topic3: 1.0",
           2022
          ],
          [
           "3",
           "1.THE REAL BONGBONG MARCOS ACCORDING TO<br>FERDINAND EDRALIN MARCOS DIED IN 1975<br>WHICH HE PROCLAIMED IN HAWAII. 2.THE<br>REAL BONGBONG MARCOS DIED IN 1975<br>ACCORDING TO FERDINAND EDRALIN MARCOS ‘S<br>LAST WILL AND TESTAMENT.",
           "Topic3: 1.0",
           2021
          ],
          [
           "3",
           "if you're questioning the marcos wealth,<br>do some research on when Imelda asked<br>the legislative to execute FEM's last<br>will which will give the philippines an<br>amount with too many zeroes to even<br>count. Our country could've been the<br>richest country.",
           "Topic3: 1.0",
           2022
          ],
          [
           "3",
           "Tanga Ka talaga Di Ka ba nanunuod o wala<br>kayong TV Gaga Di mo ba alam na ang last<br>will ni Ferdinand Marcos is for humanity<br>means para SA mga Filipino mag research<br>Ka dagdagan mo reference mo Ng Di Ka na<br>tatanga Ng mga pink at yellowtards<br>hayyyy",
           "Topic3: 0.99",
           2021
          ],
          [
           "3",
           "Basahin mo ung last will testament ni<br>FEM nakalagay dun na para sa Pilipinas<br>un KUNG may mauupong Marcos sa<br>Malacañang di mo Alam?? nakukuha ng<br>panggagaya sa sinasabi ng iba search<br>search din ahhh😏🥴",
           "Topic3: 0.99",
           2022
          ],
          [
           "3",
           "Naka freeze! 34 years na ngang hinahabol<br>ng mga dilawan hindi nila makuha ng buo<br>dahil sa last will ni FEM. Inilaan yun<br>para sa Marcos Foundation na tinututulan<br>ng mga gahaman dahil ayaw nilang bumango<br>ang mga Marcoses sa mga tao.",
           "Topic3: 1.0",
           2021
          ],
          [
           "3",
           "That is a very dispicable line of<br>thinking. Marcos created a lot of<br>projects to benefit the filipinos. Even<br>his last will was intended for the<br>filipinos.",
           "Topic3: 0.99",
           2022
          ],
          [
           "3",
           "FILIPINO FUTURE: Noong 1998, pumunta si<br>Imelda Marcos sa Senado upang makiusap<br>sa kanila na tulungan siyang ma-<br>implement ang Last Will and Testament ni<br>President Ferdinand E. Marcos at tuluyan<br>nang maisakatuparan ang Marcos<br>Humanitarian Foundation...<br>https://t.co/ziXYUuXdsX  {alt-text:<br>Factchecked video about Marcos wealth.<br>The video explains the story of FEM's<br>wealth allegedly stolen by his opponents<br>and according to his last will,<br>allocated to the Filipino people}",
           "Topic3: 0.99",
           2021
          ],
          [
           "3",
           "Ang alam ko, may kasama tong Last Will<br>and Testament ni Marcos Sr. Di ko lang<br>makita sa archives ko...  Na ang<br>nakalagay dun eh, ipamigay daw yan sa<br>taong bayan, sila daw ang dapat<br>makinabang....  Pati pangako... Tanso!!",
           "Topic3: 0.99",
           2022
          ],
          [
           "3",
           "statement from the last will and<br>testament frm our Former Pres. E.<br>Marcos. May puso para sa buong<br>sambayanang Phil https://t.co/Y4d87ZuZ9V<br>{alt-text image: quote saying 1/4 of<br>Marcos' wealth is for Filipinos}",
           "Topic3: 0.99",
           2016
          ],
          [
           "3",
           "Alam mo kung bakit? Ung gold nasa last<br>will and testament ni marcos, pero ung<br>gold bars na inipon nya nung young<br>lawyer pa sya, inilagay nya sa trust<br>fund, 1973, he stated that on a<br>newspaper, lumapit na si imelda sa<br>gobyerno noon pa para tulungan sya na i<br>implement ung last will",
           "Topic3: 1.0",
           2021
          ],
          [
           "3",
           "No to LENI....baka puppet lang yan ng<br>mga Illuminati, Globalist para di maupo<br>si BBM. Remember matindi hangarin ng mga<br>Illuminati sa Gold wealth ng mga Marcos.<br>Wake up!! kay BBM tayo para sa katuparan<br>ng LAST WILL ni Marcos..i google nyo ok?",
           "Topic3: 1.0",
           2021
          ],
          [
           "3",
           "The Richest: Last Will &amp;Testament of<br>President Ferdinand Marcos<br>https://t.co/i6gtg8pAf2 {alt-text:<br>article about a fabricated Last WIll and<br>Testament of Marcos Sr.}",
           "Topic3: 0.97<br>Topic1: 0.01<br>Topic2: 0.01<br>Topic4: 0.01",
           2016
          ],
          [
           "3",
           "Last Will Testament of Ferdinand Edralin<br>Marcos for the People of the<br>Philippines✌️❤️🇵🇭<br>https://t.co/vPG4iLOFVn {alt-text:<br>screenshot from a fabricated Marcos<br>Sr.'s Last Will and Testament}",
           "Topic3: 0.98<br>Topic1: 0.01<br>Topic2: 0.01<br>Topic4: 0.01",
           2021
          ],
          [
           "3",
           "Madam Imelda once went to the senate<br>congress to ask for their help to<br>implement the LAST WILL AND TESTAMENT of<br>FEM which is the Marcos Humanitarian<br>Foundation to help the Filipino people<br>in agony and suffering. But she was<br>rejected until now they insist that this<br>is fake news. https://t.co/dGclOJ3DcF<br>{alt-text: screenshot from Imelda<br>Marcos' senate hearing about Marcos<br>Sr.'s Last Will and Testament}",
           "Topic3: 1.0",
           2022
          ],
          [
           "3",
           "The awakening Truth about our Great<br>Former President Marcos. His Last Will<br>and Testament. Please wake up!!!!! Try<br>to do some research. Don't rely on bias<br>mainstream medias. 🤗<br>https://t.co/9EHjFcN4pp {alt-text:<br>Tiktok video explaining Marcos' plans on<br>his last will about his wealth for the<br>Filipino people}",
           "Topic3: 0.99",
           2021
          ],
          [
           "3",
           "Vote Bong Bong Marcos for President!<br>Only him can retrieve all wealth of the<br>Philippines that kept in other countries<br>and return back to our own national<br>treasury. Read comprehensively the Last<br>Will &amp; Testament of late Ferdinand<br>Marcos.  https://t.co/xh1kx70lZq",
           "Topic3: 1.0",
           2022
          ],
          [
           "3",
           "Ano nga ba ang Last Will ng Dating<br>Pangulong Ferdinand Marcos?<br>https://t.co/rWKfO6rN49 via  {alt-text:<br>Explainer on fabricated FEM last will}",
           "Topic3: 0.98<br>Topic1: 0.01<br>Topic2: 0.01<br>Topic4: 0.01",
           2021
          ],
          [
           "3",
           "We should check the last will n<br>testament of marcos n start from there.<br>10% to his family n 90% to filipino<br>nation via his foundation. Where is the<br>last will? Sino lawyer or guided by tayo<br>ng video ni enrique zobel?How to use<br>90%.",
           "Topic3: 1.0",
           2018
          ],
          [
           "3",
           "1973 pa pala yan lahat na mga plano at<br>projects nakasulat na sa Last Will and<br>Testament ni FEM para sa Bansa at para<br>sa mga mamamayan, pina-froozen lang ni<br>Cory sa banko dahil gusto nila na ang<br>pera sa Marcos...<br>https://t.co/Lw4i9cH7jb",
           "Topic3: 0.99",
           2018
          ],
          [
           "3",
           "WEALTH for the HUMANITY  (Ferdinand<br>Marcos Gold) https://t.co/4TITnDVaVG via<br>THE WORLD NEEDS TO KNOW ABOUT PRESIDENT<br>MARCOS GOLD FOR HUMANITY. THE GOLD<br>DEPOSITS MATURED IN 2005 AND NOW CAN BE<br>USED FOR HUMANITY. IT IS ON PRESIDENT<br>MARCOS LAST WILL AND TESTAMENT.",
           "Topic3: 1.0",
           2019
          ],
          [
           "3",
           "THEY FREEZE THE GOLDS OF KING<br>SOLOMON/GOLD OF MARCOS DAHIL AYAW NILANG<br>GUMINHAWA ANG BUHAY NANG MGA TAO DAHIL<br>ANG LAST WILL NI MARCOS ATA IS HINDI<br>LANG PARA SA MGA PILIPINO KUNDI PARA SA<br>BUONG MUNDO",
           "Topic3: 0.99",
           2022
          ],
          [
           "3",
           "ahhh sana matupad na ang last will and<br>testament ni marcos para di yan makuha<br>ng mga elitista at ng mga dilawan.",
           "Topic3: 0.99",
           2021
          ],
          [
           "3",
           "Vote for Bongnong Marcos he will save<br>our country from poverty he will open<br>the last will of late ferfinand E Marcos<br>Gold for the filipino People believe me<br>Phillippines will be great again.dont<br>listen to the aquinos ranting<br>against.the marcoses",
           "Topic3: 1.0",
           2021
          ],
          [
           "3",
           "Miyembro lang ng NPA/CPA ang ayaw sa<br>Marcos dahil masisira ang oligarchy<br>system. Takot yang mga yan dahil once<br>maupo yan so BBM malilinis niya pangalan<br>ng pamilya nila pati yung last will and<br>testament matutupad na din at magiging<br>pantay pantay na ang mga Pilipino na<br>ayaw nila",
           "Topic3: 1.0",
           2021
          ],
          [
           "3",
           "LAST WILL OF OUR PAST GREAT<br>PRESIDENT:FERDINAND EDRALIN MARCOS, SR<br>TO FERDINAND ROMUALDEZ MARCOS, JR.  BBM<br>IS OUR ONLY HOPE TO UPLIFT THE LIVES OF<br>EVERY FILIPINOS AND TO MAKE THIS NATION<br>GREAT AGAIN! @ Marikina Heights<br>https://t.co/AtUoL3o1Lg {Alt-text URL:<br>ig post that shows Ferdinand Marcos and<br>young Bongbong Marcos, with text at the<br>bottom stating that the former is<br>entrusting one million metric tons of<br>gold to the latter to make our country<br>the richest in the world}",
           "Topic3: 1.0",
           2020
          ]
         ],
         "hovertemplate": "<b>%{hovertext}</b><br><br>Breakdown=%{customdata[2]}<br>post_year=%{customdata[3]}<extra></extra>",
         "hovertext": [
          "Vote Bong Bong Marcos for President!<br>Only him can retrieve all wealth of the<br>Philippines that kept in other countries<br>and return back to our own national<br>treasury.  Read Last Will and Testament<br>of late Ferdinand Marcos.<br>https://t.co/xh1kx70lZq",
          "Check out the Philippines how the<br>farmers debt will be waived &amp;new<br>housing for 6M homeless will be build,<br>1M house a year.Phil president &amp;the<br>gold of Marcoses are part of the<br>Gesara/Nesara as what the elder Marcos<br>last will &amp; testament says.Look it<br>up",
          "1.THE REAL BONGBONG MARCOS ACCORDING TO<br>FERDINAND EDRALIN MARCOS DIED IN 1975<br>WHICH HE PROCLAIMED IN HAWAII. 2.THE<br>REAL BONGBONG MARCOS DIED IN 1975<br>ACCORDING TO FERDINAND EDRALIN MARCOS ‘S<br>LAST WILL AND TESTAMENT.",
          "if you're questioning the marcos wealth,<br>do some research on when Imelda asked<br>the legislative to execute FEM's last<br>will which will give the philippines an<br>amount with too many zeroes to even<br>count. Our country could've been the<br>richest country.",
          "Tanga Ka talaga Di Ka ba nanunuod o wala<br>kayong TV Gaga Di mo ba alam na ang last<br>will ni Ferdinand Marcos is for humanity<br>means para SA mga Filipino mag research<br>Ka dagdagan mo reference mo Ng Di Ka na<br>tatanga Ng mga pink at yellowtards<br>hayyyy",
          "Basahin mo ung last will testament ni<br>FEM nakalagay dun na para sa Pilipinas<br>un KUNG may mauupong Marcos sa<br>Malacañang di mo Alam?? nakukuha ng<br>panggagaya sa sinasabi ng iba search<br>search din ahhh😏🥴",
          "Naka freeze! 34 years na ngang hinahabol<br>ng mga dilawan hindi nila makuha ng buo<br>dahil sa last will ni FEM. Inilaan yun<br>para sa Marcos Foundation na tinututulan<br>ng mga gahaman dahil ayaw nilang bumango<br>ang mga Marcoses sa mga tao.",
          "That is a very dispicable line of<br>thinking. Marcos created a lot of<br>projects to benefit the filipinos. Even<br>his last will was intended for the<br>filipinos.",
          "FILIPINO FUTURE: Noong 1998, pumunta si<br>Imelda Marcos sa Senado upang makiusap<br>sa kanila na tulungan siyang ma-<br>implement ang Last Will and Testament ni<br>President Ferdinand E. Marcos at tuluyan<br>nang maisakatuparan ang Marcos<br>Humanitarian Foundation...<br>https://t.co/ziXYUuXdsX  {alt-text:<br>Factchecked video about Marcos wealth.<br>The video explains the story of FEM's<br>wealth allegedly stolen by his opponents<br>and according to his last will,<br>allocated to the Filipino people}",
          "Ang alam ko, may kasama tong Last Will<br>and Testament ni Marcos Sr. Di ko lang<br>makita sa archives ko...  Na ang<br>nakalagay dun eh, ipamigay daw yan sa<br>taong bayan, sila daw ang dapat<br>makinabang....  Pati pangako... Tanso!!",
          "statement from the last will and<br>testament frm our Former Pres. E.<br>Marcos. May puso para sa buong<br>sambayanang Phil https://t.co/Y4d87ZuZ9V<br>{alt-text image: quote saying 1/4 of<br>Marcos' wealth is for Filipinos}",
          "Alam mo kung bakit? Ung gold nasa last<br>will and testament ni marcos, pero ung<br>gold bars na inipon nya nung young<br>lawyer pa sya, inilagay nya sa trust<br>fund, 1973, he stated that on a<br>newspaper, lumapit na si imelda sa<br>gobyerno noon pa para tulungan sya na i<br>implement ung last will",
          "No to LENI....baka puppet lang yan ng<br>mga Illuminati, Globalist para di maupo<br>si BBM. Remember matindi hangarin ng mga<br>Illuminati sa Gold wealth ng mga Marcos.<br>Wake up!! kay BBM tayo para sa katuparan<br>ng LAST WILL ni Marcos..i google nyo ok?",
          "The Richest: Last Will &amp;Testament of<br>President Ferdinand Marcos<br>https://t.co/i6gtg8pAf2 {alt-text:<br>article about a fabricated Last WIll and<br>Testament of Marcos Sr.}",
          "Last Will Testament of Ferdinand Edralin<br>Marcos for the People of the<br>Philippines✌️❤️🇵🇭<br>https://t.co/vPG4iLOFVn {alt-text:<br>screenshot from a fabricated Marcos<br>Sr.'s Last Will and Testament}",
          "Madam Imelda once went to the senate<br>congress to ask for their help to<br>implement the LAST WILL AND TESTAMENT of<br>FEM which is the Marcos Humanitarian<br>Foundation to help the Filipino people<br>in agony and suffering. But she was<br>rejected until now they insist that this<br>is fake news. https://t.co/dGclOJ3DcF<br>{alt-text: screenshot from Imelda<br>Marcos' senate hearing about Marcos<br>Sr.'s Last Will and Testament}",
          "The awakening Truth about our Great<br>Former President Marcos. His Last Will<br>and Testament. Please wake up!!!!! Try<br>to do some research. Don't rely on bias<br>mainstream medias. 🤗<br>https://t.co/9EHjFcN4pp {alt-text:<br>Tiktok video explaining Marcos' plans on<br>his last will about his wealth for the<br>Filipino people}",
          "Vote Bong Bong Marcos for President!<br>Only him can retrieve all wealth of the<br>Philippines that kept in other countries<br>and return back to our own national<br>treasury. Read comprehensively the Last<br>Will &amp; Testament of late Ferdinand<br>Marcos.  https://t.co/xh1kx70lZq",
          "Ano nga ba ang Last Will ng Dating<br>Pangulong Ferdinand Marcos?<br>https://t.co/rWKfO6rN49 via  {alt-text:<br>Explainer on fabricated FEM last will}",
          "We should check the last will n<br>testament of marcos n start from there.<br>10% to his family n 90% to filipino<br>nation via his foundation. Where is the<br>last will? Sino lawyer or guided by tayo<br>ng video ni enrique zobel?How to use<br>90%.",
          "1973 pa pala yan lahat na mga plano at<br>projects nakasulat na sa Last Will and<br>Testament ni FEM para sa Bansa at para<br>sa mga mamamayan, pina-froozen lang ni<br>Cory sa banko dahil gusto nila na ang<br>pera sa Marcos...<br>https://t.co/Lw4i9cH7jb",
          "WEALTH for the HUMANITY  (Ferdinand<br>Marcos Gold) https://t.co/4TITnDVaVG via<br>THE WORLD NEEDS TO KNOW ABOUT PRESIDENT<br>MARCOS GOLD FOR HUMANITY. THE GOLD<br>DEPOSITS MATURED IN 2005 AND NOW CAN BE<br>USED FOR HUMANITY. IT IS ON PRESIDENT<br>MARCOS LAST WILL AND TESTAMENT.",
          "THEY FREEZE THE GOLDS OF KING<br>SOLOMON/GOLD OF MARCOS DAHIL AYAW NILANG<br>GUMINHAWA ANG BUHAY NANG MGA TAO DAHIL<br>ANG LAST WILL NI MARCOS ATA IS HINDI<br>LANG PARA SA MGA PILIPINO KUNDI PARA SA<br>BUONG MUNDO",
          "ahhh sana matupad na ang last will and<br>testament ni marcos para di yan makuha<br>ng mga elitista at ng mga dilawan.",
          "Vote for Bongnong Marcos he will save<br>our country from poverty he will open<br>the last will of late ferfinand E Marcos<br>Gold for the filipino People believe me<br>Phillippines will be great again.dont<br>listen to the aquinos ranting<br>against.the marcoses",
          "Miyembro lang ng NPA/CPA ang ayaw sa<br>Marcos dahil masisira ang oligarchy<br>system. Takot yang mga yan dahil once<br>maupo yan so BBM malilinis niya pangalan<br>ng pamilya nila pati yung last will and<br>testament matutupad na din at magiging<br>pantay pantay na ang mga Pilipino na<br>ayaw nila",
          "LAST WILL OF OUR PAST GREAT<br>PRESIDENT:FERDINAND EDRALIN MARCOS, SR<br>TO FERDINAND ROMUALDEZ MARCOS, JR.  BBM<br>IS OUR ONLY HOPE TO UPLIFT THE LIVES OF<br>EVERY FILIPINOS AND TO MAKE THIS NATION<br>GREAT AGAIN! @ Marikina Heights<br>https://t.co/AtUoL3o1Lg {Alt-text URL:<br>ig post that shows Ferdinand Marcos and<br>young Bongbong Marcos, with text at the<br>bottom stating that the former is<br>entrusting one million metric tons of<br>gold to the latter to make our country<br>the richest in the world}"
         ],
         "legendgroup": "3",
         "marker": {
          "color": "#00cc96",
          "symbol": "circle"
         },
         "mode": "markers",
         "name": "3",
         "orientation": "v",
         "showlegend": true,
         "type": "scatter",
         "x": [
          -3.7702226638793945,
          -3.9620347023010254,
          -4.382721424102783,
          -3.9620349407196045,
          -4.4019341468811035,
          -4.401934623718262,
          -4.3827223777771,
          -3.7702219486236572,
          -3.9207561016082764,
          -3.880277156829834,
          -4.398011207580566,
          -4.382722854614258,
          -3.7693514823913574,
          -4.216341495513916,
          -4.1946940422058105,
          -3.9620347023010254,
          -3.920746088027954,
          -3.9620344638824463,
          -4.194685459136963,
          -3.9620351791381836,
          -3.7702229022979736,
          -4.214184284210205,
          -4.392879009246826,
          -3.9941599369049072,
          -4.382722854614258,
          -4.382721900939941,
          -3.769353151321411
         ],
         "xaxis": "x",
         "y": [
          -1.2972781658172607,
          -1.6631433963775635,
          -1.5157594680786133,
          -1.6631430387496948,
          -1.1839239597320557,
          -1.1839244365692139,
          -1.5157567262649536,
          -1.297271966934204,
          -1.0509634017944336,
          -1.0752767324447632,
          -1.1724549531936646,
          -1.5157579183578491,
          -1.3704484701156616,
          -1.0087684392929077,
          -1.004287600517273,
          -1.6631431579589844,
          -1.0509675741195679,
          -1.6631428003311157,
          -1.0042870044708252,
          -1.6631436347961426,
          -1.2972785234451294,
          -1.6647013425827026,
          -1.1655281782150269,
          -1.0231965780258179,
          -1.515757441520691,
          -1.5157601833343506,
          -1.3704464435577393
         ],
         "yaxis": "y"
        },
        {
         "customdata": [
          [
           "4",
           "Girl, may utang Pinas nung iniwan ni<br>Marcos? Nung namatay si Marcos humingi<br>ng saklolo si Imelda sa mga senador para<br>mabasa ang last will and testament ni<br>FEM kasi naka saad dun na iiwan nya yung<br>mga pag aari nya para sa taong bayan.",
           "Topic4: 1.0",
           2022
          ],
          [
           "4",
           "WHAT IF. I maybe dreaming posting this<br>but WHAT IF BBM will win then all debts<br>arising from his father’s regime<br>together with all supreme court and BIRs<br>ruling will all be paid through the<br>release of Marcos Sr.’s LAST WILL, ano<br>pa kaya masasabi ng opposition?",
           "Topic4: 1.0",
           2022
          ],
          [
           "4",
           "The Last Will and Testament of Marcos is<br>clear: The deposits will accrue to the<br>Filipino people. https://t.co/4zaBhFE4Vg",
           "Topic4: 0.99",
           2016
          ],
          [
           "4",
           "yung petition ang nasa likod yan si<br>Damaso Villegas kaya panic mode  1. last<br>will testament ni apo lakay ferdinand<br>marcos 2. marcos wealth (ginto ng taong<br>bayan) buong mundo ibabalik na sa ating<br>bansa  bbm2022 https://t.co/gvvRaZcGw1<br>[Alt Text: \"Behind the fall of great men<br>are Jesuit Priest Damaso\" and \"25<br>million hybrid DDS with loyalist social<br>media warriors pro government\", with<br>pictures of Jose Rizal, Padre Damaso,<br>Marcos Sr., Duterte, Bongbong Marcos]",
           "Topic4: 1.0",
           2021
          ],
          [
           "4",
           "Philippines: Wealthiest Nation on Earth-<br>The Last Will &amp; Testament of Pres<br>Ferdinand Marcos https://t.co/cO0yLt00dM<br>via  News Feed {alt-text: article about<br>a fabricated Last WIll and Testament of<br>Marcos Sr.}",
           "Topic4: 0.99",
           2016
          ],
          [
           "4",
           "Philippines: Wealthiest Nation on Earth<br>– The Last Will and Testament of<br>President Ferdinand Marcos<br>https://t.co/8Egox4H561 via  {alt-text:<br>article about a fabricated Last WIll and<br>Testament of Marcos Sr.}",
           "Topic4: 0.99",
           2016
          ],
          [
           "4",
           "Marcos Foundation for Humanity. We need<br>to elect BBM talaga. Executive order by<br>the President to be opened. And only BBM<br>can do that. Para sa Pilipino ito. FEM<br>last will. Tutuparin namin late<br>President. Para sa bayan. Para sa<br>Pilipinas",
           "Topic4: 1.0",
           2021
          ],
          [
           "4",
           "The Last Will and Testament of Ferdinand<br>E. Marcos, and the reason why for the<br>longest time it was not implemented. 1/7<br>https://t.co/ulMBpT0T79  {alt-text:<br>Tiktok video of Imelda Marcos on the<br>senate hearing about Marcos Sr.'s Last<br>Will. The video further explains that<br>according to the last will, Marcos<br>invested wealth in different banks for<br>the \"People of the Philippine Islands\"}",
           "Topic4: 0.99",
           2021
          ],
          [
           "4",
           "Wag daw po tayong mag-alala kasi may<br>last will daw si Marcos Sr para sa ating<br>bansa sabi ni  .<br>https://t.co/dFqHSaf9Zh {alt-text:<br>quote-tweet saying \"Nasa last will yon<br>ni FEM na pera ng Banasa ang malaking<br>porsyento non. Tawa ka ng tawa may sapak<br>na ata utak mo. Bye!\"}",
           "Topic4: 0.98<br>Topic1: 0.01<br>Topic2: 0.01<br>Topic3: 0.01",
           2022
          ],
          [
           "4",
           "IBALIK ANG MARCOS SA MALAKANIYANG PARA<br>MATUPAD NA ANG \"LAST WILL AND TESTAMENT\"<br>NI PANGULONG FERDINAND E. MARCOS PARA SA<br>BAYAN.   https://t.co/4X1oERiETz {alt-<br>text: Bongbong Marcos holding the<br>Philippine flag alongside a tiger}",
           "Topic4: 0.99",
           2021
          ],
          [
           "4",
           "And the money na bina balik nila? 248<br>billion dollars, iba pa yung<br>interest.That's Marcos' money na nilagay<br>niya sa world bank and nilagay niya sa<br>last will and testament niya na<br>binibigay niya iyun sa Pilipinas. By<br>2020, it said.Ibibigay na ng bangko ang<br>money sa Pilipinas",
           "Topic4: 1.0",
           2021
          ],
          [
           "4",
           "BBM is the most qualified &amp; has good<br>vision para sa atin. At para mai-balik<br>ang invest na Marcos wealth w/c is now<br>in the hands of the private banks esp.<br>Rothschild, World Bank &amp; Swiss<br>Bank…w/c was given for us accdg. to the<br>Last Will &amp; Testament of Marcos Sr.<br>before he died.",
           "Topic4: 1.0",
           2021
          ],
          [
           "4",
           "Mang Ferdie: Last will of testament ni<br>Marcos hindi binigay para sa taong<br>bayan. https://t.co/PUeOO6esAA {alt-text<br>link: fake news article that states that<br>senators did not allow Marcos' wealth to<br>be distributed to the Filipino people as<br>stated in Marcos' last will}",
           "Topic4: 0.98<br>Topic1: 0.01<br>Topic2: 0.01<br>Topic3: 0.01",
           2016
          ],
          [
           "4",
           "Binibigay nga na Imelda Marcos yung<br>pamana ni apo lakay last will testament<br>after ng edsa 1 eh hinarangan naman...<br>https://t.co/qyyjnkBcs2",
           "Topic4: 0.99",
           2016
          ],
          [
           "4",
           "If FEM was corrupt and evil sana hindi<br>nya nilagay yung Marcos humanitarian<br>foundation sa last will and testament<br>nya in which na di pinayagan iimplement<br>ni Cory during her time.",
           "Topic4: 0.99",
           2022
          ],
          [
           "4",
           "Isang Marcos lang ang makakapagpabago at<br>makakuha ng mga ginto na makakapagunlad<br>sa Pilipinas. Matagal na gusto ni Imelda<br>na iexecute ang last will ni Marcos, na<br>ipamahagi ang pera sa Pilipinas na naka<br>time deposit sa ibat ibang bangko sa<br>buong mundo. Kaya hadlang yang US na yan",
           "Topic4: 1.0",
           2021
          ],
          [
           "4",
           "Ayan PO oh NASA last will and testament<br>n Marcos n ipamigay ANG knyang ginto s<br>mga pinoy pero bakit daw PO ito<br>pinipigilan ng yellow???<br>https://t.co/OkEy5hKXKG",
           "Topic4: 0.99",
           2017
          ],
          [
           "4",
           "LAST WILL AND TESTAMENT OF FERDINAND E.<br>MARCOS https://t.co/6ecJTEq8mY via<br>{alt-text: An explainer about FEM's last<br>will}",
           "Topic4: 0.97<br>Topic1: 0.01<br>Topic2: 0.01<br>Topic3: 0.01",
           2022
          ],
          [
           "4",
           "Si cory ang gumawa lahat ng maling<br>balita kay marcos ..kaya ayan namulat<br>mata nila sa maling<br>balita..haaayss..hirap ng ganito..my<br>last will and testament na nga si marcos<br>para sa pilipinas eh..ayaw pa rin imulat<br>mga mata..",
           "Topic4: 1.0",
           2021
          ],
          [
           "4",
           "Late Pres Ferdinand E. Marcos last will<br>and testament, kailangan lang to<br>mailplement sa Government. Ang laking<br>pera neto tapos libre lang ibibigay ni<br>Pres FEM. 🙏🙏🙏 grabe sa yaman, sobra.<br>Sana magkaisa na ang mga Pilipino. Fully<br>matured na ang time deposit.<br>https://t.co/voYqnFNIlT",
           "Topic4: 1.0",
           2021
          ],
          [
           "4",
           "Last will and testament daw. May<br>kasamang \"marcos humanitarian<br>foundation\" o yan ah. Nanalo n. Sana<br>naman ipamahagi n yn.<br>https://t.co/BzV490nin9  {alt-text:<br>Imelda Marcos' 1998 Senate hearing<br>regarding the last will of FEM}",
           "Topic4: 0.99",
           2022
          ]
         ],
         "hovertemplate": "<b>%{hovertext}</b><br><br>Breakdown=%{customdata[2]}<br>post_year=%{customdata[3]}<extra></extra>",
         "hovertext": [
          "Girl, may utang Pinas nung iniwan ni<br>Marcos? Nung namatay si Marcos humingi<br>ng saklolo si Imelda sa mga senador para<br>mabasa ang last will and testament ni<br>FEM kasi naka saad dun na iiwan nya yung<br>mga pag aari nya para sa taong bayan.",
          "WHAT IF. I maybe dreaming posting this<br>but WHAT IF BBM will win then all debts<br>arising from his father’s regime<br>together with all supreme court and BIRs<br>ruling will all be paid through the<br>release of Marcos Sr.’s LAST WILL, ano<br>pa kaya masasabi ng opposition?",
          "The Last Will and Testament of Marcos is<br>clear: The deposits will accrue to the<br>Filipino people. https://t.co/4zaBhFE4Vg",
          "yung petition ang nasa likod yan si<br>Damaso Villegas kaya panic mode  1. last<br>will testament ni apo lakay ferdinand<br>marcos 2. marcos wealth (ginto ng taong<br>bayan) buong mundo ibabalik na sa ating<br>bansa  bbm2022 https://t.co/gvvRaZcGw1<br>[Alt Text: \"Behind the fall of great men<br>are Jesuit Priest Damaso\" and \"25<br>million hybrid DDS with loyalist social<br>media warriors pro government\", with<br>pictures of Jose Rizal, Padre Damaso,<br>Marcos Sr., Duterte, Bongbong Marcos]",
          "Philippines: Wealthiest Nation on Earth-<br>The Last Will &amp; Testament of Pres<br>Ferdinand Marcos https://t.co/cO0yLt00dM<br>via  News Feed {alt-text: article about<br>a fabricated Last WIll and Testament of<br>Marcos Sr.}",
          "Philippines: Wealthiest Nation on Earth<br>– The Last Will and Testament of<br>President Ferdinand Marcos<br>https://t.co/8Egox4H561 via  {alt-text:<br>article about a fabricated Last WIll and<br>Testament of Marcos Sr.}",
          "Marcos Foundation for Humanity. We need<br>to elect BBM talaga. Executive order by<br>the President to be opened. And only BBM<br>can do that. Para sa Pilipino ito. FEM<br>last will. Tutuparin namin late<br>President. Para sa bayan. Para sa<br>Pilipinas",
          "The Last Will and Testament of Ferdinand<br>E. Marcos, and the reason why for the<br>longest time it was not implemented. 1/7<br>https://t.co/ulMBpT0T79  {alt-text:<br>Tiktok video of Imelda Marcos on the<br>senate hearing about Marcos Sr.'s Last<br>Will. The video further explains that<br>according to the last will, Marcos<br>invested wealth in different banks for<br>the \"People of the Philippine Islands\"}",
          "Wag daw po tayong mag-alala kasi may<br>last will daw si Marcos Sr para sa ating<br>bansa sabi ni  .<br>https://t.co/dFqHSaf9Zh {alt-text:<br>quote-tweet saying \"Nasa last will yon<br>ni FEM na pera ng Banasa ang malaking<br>porsyento non. Tawa ka ng tawa may sapak<br>na ata utak mo. Bye!\"}",
          "IBALIK ANG MARCOS SA MALAKANIYANG PARA<br>MATUPAD NA ANG \"LAST WILL AND TESTAMENT\"<br>NI PANGULONG FERDINAND E. MARCOS PARA SA<br>BAYAN.   https://t.co/4X1oERiETz {alt-<br>text: Bongbong Marcos holding the<br>Philippine flag alongside a tiger}",
          "And the money na bina balik nila? 248<br>billion dollars, iba pa yung<br>interest.That's Marcos' money na nilagay<br>niya sa world bank and nilagay niya sa<br>last will and testament niya na<br>binibigay niya iyun sa Pilipinas. By<br>2020, it said.Ibibigay na ng bangko ang<br>money sa Pilipinas",
          "BBM is the most qualified &amp; has good<br>vision para sa atin. At para mai-balik<br>ang invest na Marcos wealth w/c is now<br>in the hands of the private banks esp.<br>Rothschild, World Bank &amp; Swiss<br>Bank…w/c was given for us accdg. to the<br>Last Will &amp; Testament of Marcos Sr.<br>before he died.",
          "Mang Ferdie: Last will of testament ni<br>Marcos hindi binigay para sa taong<br>bayan. https://t.co/PUeOO6esAA {alt-text<br>link: fake news article that states that<br>senators did not allow Marcos' wealth to<br>be distributed to the Filipino people as<br>stated in Marcos' last will}",
          "Binibigay nga na Imelda Marcos yung<br>pamana ni apo lakay last will testament<br>after ng edsa 1 eh hinarangan naman...<br>https://t.co/qyyjnkBcs2",
          "If FEM was corrupt and evil sana hindi<br>nya nilagay yung Marcos humanitarian<br>foundation sa last will and testament<br>nya in which na di pinayagan iimplement<br>ni Cory during her time.",
          "Isang Marcos lang ang makakapagpabago at<br>makakuha ng mga ginto na makakapagunlad<br>sa Pilipinas. Matagal na gusto ni Imelda<br>na iexecute ang last will ni Marcos, na<br>ipamahagi ang pera sa Pilipinas na naka<br>time deposit sa ibat ibang bangko sa<br>buong mundo. Kaya hadlang yang US na yan",
          "Ayan PO oh NASA last will and testament<br>n Marcos n ipamigay ANG knyang ginto s<br>mga pinoy pero bakit daw PO ito<br>pinipigilan ng yellow???<br>https://t.co/OkEy5hKXKG",
          "LAST WILL AND TESTAMENT OF FERDINAND E.<br>MARCOS https://t.co/6ecJTEq8mY via<br>{alt-text: An explainer about FEM's last<br>will}",
          "Si cory ang gumawa lahat ng maling<br>balita kay marcos ..kaya ayan namulat<br>mata nila sa maling<br>balita..haaayss..hirap ng ganito..my<br>last will and testament na nga si marcos<br>para sa pilipinas eh..ayaw pa rin imulat<br>mga mata..",
          "Late Pres Ferdinand E. Marcos last will<br>and testament, kailangan lang to<br>mailplement sa Government. Ang laking<br>pera neto tapos libre lang ibibigay ni<br>Pres FEM. 🙏🙏🙏 grabe sa yaman, sobra.<br>Sana magkaisa na ang mga Pilipino. Fully<br>matured na ang time deposit.<br>https://t.co/voYqnFNIlT",
          "Last will and testament daw. May<br>kasamang \"marcos humanitarian<br>foundation\" o yan ah. Nanalo n. Sana<br>naman ipamahagi n yn.<br>https://t.co/BzV490nin9  {alt-text:<br>Imelda Marcos' 1998 Senate hearing<br>regarding the last will of FEM}"
         ],
         "legendgroup": "4",
         "marker": {
          "color": "#ab63fa",
          "symbol": "circle"
         },
         "mode": "markers",
         "name": "4",
         "orientation": "v",
         "showlegend": true,
         "type": "scatter",
         "x": [
          -3.0936167240142822,
          -3.0936167240142822,
          -3.3958146572113037,
          -3.1893866062164307,
          -3.388214349746704,
          -3.2825098037719727,
          -3.093616247177124,
          -3.4036946296691895,
          -3.4533450603485107,
          -3.268073797225952,
          -3.1899430751800537,
          -3.2611217498779297,
          -3.4533448219299316,
          -3.388213872909546,
          -3.388216018676758,
          -3.3249247074127197,
          -3.282519817352295,
          -3.4577698707580566,
          -3.2900145053863525,
          -3.189943313598633,
          -3.260690212249756
         ],
         "xaxis": "x",
         "y": [
          7.387518882751465,
          7.387518882751465,
          7.409120559692383,
          7.219447135925293,
          7.364520072937012,
          7.136794090270996,
          7.387518405914307,
          7.158816814422607,
          7.2180256843566895,
          7.141051769256592,
          7.2192535400390625,
          7.429017543792725,
          7.218025207519531,
          7.364522933959961,
          7.364516735076904,
          7.430597305297852,
          7.136794090270996,
          7.212487697601318,
          7.423993110656738,
          7.219254016876221,
          7.143060684204102
         ],
         "yaxis": "y"
        }
       ],
       "layout": {
        "annotations": [
         {
          "align": "left",
          "font": {
           "color": "#636efa"
          },
          "showarrow": false,
          "text": "Topic 1: bong, testament, will-testament, people, go, one, case, use, fem, fem-marcos, will-use, 2, foundation, government, bong-bong",
          "x": 0,
          "xref": "paper",
          "y": -0.08,
          "yref": "paper"
         },
         {
          "align": "left",
          "font": {
           "color": "#EF553B"
          },
          "showarrow": false,
          "text": "Topic 2: wealth, testament, will-testament, marcos-last, people, president, philippines, will-marcos, time, give, gold, filipinos, filipino, government, block",
          "x": 0,
          "xref": "paper",
          "y": -0.12000000000000001,
          "yref": "paper"
         },
         {
          "align": "left",
          "font": {
           "color": "#00cc96"
          },
          "showarrow": false,
          "text": "Topic 3: ferdinand, testament, gold, president, will-testament, people, filipinos, edralin-marcos, ferdinand-marcos, edralin, ferdinand-edralin, know, want, humanity, marcos-gold",
          "x": 0,
          "xref": "paper",
          "y": -0.16000000000000003,
          "yref": "paper"
         },
         {
          "align": "left",
          "font": {
           "color": "#ab63fa"
          },
          "showarrow": false,
          "text": "Topic 4: testament, will-testament, give, philippines, bank, money, time, ferdinand, ferdinand-e, e-marcos, damaso, e, marcos-last, amp, marcos-sr",
          "x": 0,
          "xref": "paper",
          "y": -0.2,
          "yref": "paper"
         }
        ],
        "height": 710,
        "legend": {
         "font": {
          "color": "white"
         },
         "title": {
          "text": "Topic"
         },
         "tracegroupgap": 0
        },
        "margin": {
         "b": 200
        },
        "paper_bgcolor": "#2c3e50",
        "template": {
         "data": {
          "bar": [
           {
            "error_x": {
             "color": "#2a3f5f"
            },
            "error_y": {
             "color": "#2a3f5f"
            },
            "marker": {
             "line": {
              "color": "#E5ECF6",
              "width": 0.5
             },
             "pattern": {
              "fillmode": "overlay",
              "size": 10,
              "solidity": 0.2
             }
            },
            "type": "bar"
           }
          ],
          "barpolar": [
           {
            "marker": {
             "line": {
              "color": "#E5ECF6",
              "width": 0.5
             },
             "pattern": {
              "fillmode": "overlay",
              "size": 10,
              "solidity": 0.2
             }
            },
            "type": "barpolar"
           }
          ],
          "carpet": [
           {
            "aaxis": {
             "endlinecolor": "#2a3f5f",
             "gridcolor": "white",
             "linecolor": "white",
             "minorgridcolor": "white",
             "startlinecolor": "#2a3f5f"
            },
            "baxis": {
             "endlinecolor": "#2a3f5f",
             "gridcolor": "white",
             "linecolor": "white",
             "minorgridcolor": "white",
             "startlinecolor": "#2a3f5f"
            },
            "type": "carpet"
           }
          ],
          "choropleth": [
           {
            "colorbar": {
             "outlinewidth": 0,
             "ticks": ""
            },
            "type": "choropleth"
           }
          ],
          "contour": [
           {
            "colorbar": {
             "outlinewidth": 0,
             "ticks": ""
            },
            "colorscale": [
             [
              0,
              "#0d0887"
             ],
             [
              0.1111111111111111,
              "#46039f"
             ],
             [
              0.2222222222222222,
              "#7201a8"
             ],
             [
              0.3333333333333333,
              "#9c179e"
             ],
             [
              0.4444444444444444,
              "#bd3786"
             ],
             [
              0.5555555555555556,
              "#d8576b"
             ],
             [
              0.6666666666666666,
              "#ed7953"
             ],
             [
              0.7777777777777778,
              "#fb9f3a"
             ],
             [
              0.8888888888888888,
              "#fdca26"
             ],
             [
              1,
              "#f0f921"
             ]
            ],
            "type": "contour"
           }
          ],
          "contourcarpet": [
           {
            "colorbar": {
             "outlinewidth": 0,
             "ticks": ""
            },
            "type": "contourcarpet"
           }
          ],
          "heatmap": [
           {
            "colorbar": {
             "outlinewidth": 0,
             "ticks": ""
            },
            "colorscale": [
             [
              0,
              "#0d0887"
             ],
             [
              0.1111111111111111,
              "#46039f"
             ],
             [
              0.2222222222222222,
              "#7201a8"
             ],
             [
              0.3333333333333333,
              "#9c179e"
             ],
             [
              0.4444444444444444,
              "#bd3786"
             ],
             [
              0.5555555555555556,
              "#d8576b"
             ],
             [
              0.6666666666666666,
              "#ed7953"
             ],
             [
              0.7777777777777778,
              "#fb9f3a"
             ],
             [
              0.8888888888888888,
              "#fdca26"
             ],
             [
              1,
              "#f0f921"
             ]
            ],
            "type": "heatmap"
           }
          ],
          "heatmapgl": [
           {
            "colorbar": {
             "outlinewidth": 0,
             "ticks": ""
            },
            "colorscale": [
             [
              0,
              "#0d0887"
             ],
             [
              0.1111111111111111,
              "#46039f"
             ],
             [
              0.2222222222222222,
              "#7201a8"
             ],
             [
              0.3333333333333333,
              "#9c179e"
             ],
             [
              0.4444444444444444,
              "#bd3786"
             ],
             [
              0.5555555555555556,
              "#d8576b"
             ],
             [
              0.6666666666666666,
              "#ed7953"
             ],
             [
              0.7777777777777778,
              "#fb9f3a"
             ],
             [
              0.8888888888888888,
              "#fdca26"
             ],
             [
              1,
              "#f0f921"
             ]
            ],
            "type": "heatmapgl"
           }
          ],
          "histogram": [
           {
            "marker": {
             "pattern": {
              "fillmode": "overlay",
              "size": 10,
              "solidity": 0.2
             }
            },
            "type": "histogram"
           }
          ],
          "histogram2d": [
           {
            "colorbar": {
             "outlinewidth": 0,
             "ticks": ""
            },
            "colorscale": [
             [
              0,
              "#0d0887"
             ],
             [
              0.1111111111111111,
              "#46039f"
             ],
             [
              0.2222222222222222,
              "#7201a8"
             ],
             [
              0.3333333333333333,
              "#9c179e"
             ],
             [
              0.4444444444444444,
              "#bd3786"
             ],
             [
              0.5555555555555556,
              "#d8576b"
             ],
             [
              0.6666666666666666,
              "#ed7953"
             ],
             [
              0.7777777777777778,
              "#fb9f3a"
             ],
             [
              0.8888888888888888,
              "#fdca26"
             ],
             [
              1,
              "#f0f921"
             ]
            ],
            "type": "histogram2d"
           }
          ],
          "histogram2dcontour": [
           {
            "colorbar": {
             "outlinewidth": 0,
             "ticks": ""
            },
            "colorscale": [
             [
              0,
              "#0d0887"
             ],
             [
              0.1111111111111111,
              "#46039f"
             ],
             [
              0.2222222222222222,
              "#7201a8"
             ],
             [
              0.3333333333333333,
              "#9c179e"
             ],
             [
              0.4444444444444444,
              "#bd3786"
             ],
             [
              0.5555555555555556,
              "#d8576b"
             ],
             [
              0.6666666666666666,
              "#ed7953"
             ],
             [
              0.7777777777777778,
              "#fb9f3a"
             ],
             [
              0.8888888888888888,
              "#fdca26"
             ],
             [
              1,
              "#f0f921"
             ]
            ],
            "type": "histogram2dcontour"
           }
          ],
          "mesh3d": [
           {
            "colorbar": {
             "outlinewidth": 0,
             "ticks": ""
            },
            "type": "mesh3d"
           }
          ],
          "parcoords": [
           {
            "line": {
             "colorbar": {
              "outlinewidth": 0,
              "ticks": ""
             }
            },
            "type": "parcoords"
           }
          ],
          "pie": [
           {
            "automargin": true,
            "type": "pie"
           }
          ],
          "scatter": [
           {
            "fillpattern": {
             "fillmode": "overlay",
             "size": 10,
             "solidity": 0.2
            },
            "type": "scatter"
           }
          ],
          "scatter3d": [
           {
            "line": {
             "colorbar": {
              "outlinewidth": 0,
              "ticks": ""
             }
            },
            "marker": {
             "colorbar": {
              "outlinewidth": 0,
              "ticks": ""
             }
            },
            "type": "scatter3d"
           }
          ],
          "scattercarpet": [
           {
            "marker": {
             "colorbar": {
              "outlinewidth": 0,
              "ticks": ""
             }
            },
            "type": "scattercarpet"
           }
          ],
          "scattergeo": [
           {
            "marker": {
             "colorbar": {
              "outlinewidth": 0,
              "ticks": ""
             }
            },
            "type": "scattergeo"
           }
          ],
          "scattergl": [
           {
            "marker": {
             "colorbar": {
              "outlinewidth": 0,
              "ticks": ""
             }
            },
            "type": "scattergl"
           }
          ],
          "scattermapbox": [
           {
            "marker": {
             "colorbar": {
              "outlinewidth": 0,
              "ticks": ""
             }
            },
            "type": "scattermapbox"
           }
          ],
          "scatterpolar": [
           {
            "marker": {
             "colorbar": {
              "outlinewidth": 0,
              "ticks": ""
             }
            },
            "type": "scatterpolar"
           }
          ],
          "scatterpolargl": [
           {
            "marker": {
             "colorbar": {
              "outlinewidth": 0,
              "ticks": ""
             }
            },
            "type": "scatterpolargl"
           }
          ],
          "scatterternary": [
           {
            "marker": {
             "colorbar": {
              "outlinewidth": 0,
              "ticks": ""
             }
            },
            "type": "scatterternary"
           }
          ],
          "surface": [
           {
            "colorbar": {
             "outlinewidth": 0,
             "ticks": ""
            },
            "colorscale": [
             [
              0,
              "#0d0887"
             ],
             [
              0.1111111111111111,
              "#46039f"
             ],
             [
              0.2222222222222222,
              "#7201a8"
             ],
             [
              0.3333333333333333,
              "#9c179e"
             ],
             [
              0.4444444444444444,
              "#bd3786"
             ],
             [
              0.5555555555555556,
              "#d8576b"
             ],
             [
              0.6666666666666666,
              "#ed7953"
             ],
             [
              0.7777777777777778,
              "#fb9f3a"
             ],
             [
              0.8888888888888888,
              "#fdca26"
             ],
             [
              1,
              "#f0f921"
             ]
            ],
            "type": "surface"
           }
          ],
          "table": [
           {
            "cells": {
             "fill": {
              "color": "#EBF0F8"
             },
             "line": {
              "color": "white"
             }
            },
            "header": {
             "fill": {
              "color": "#C8D4E3"
             },
             "line": {
              "color": "white"
             }
            },
            "type": "table"
           }
          ]
         },
         "layout": {
          "annotationdefaults": {
           "arrowcolor": "#2a3f5f",
           "arrowhead": 0,
           "arrowwidth": 1
          },
          "autotypenumbers": "strict",
          "coloraxis": {
           "colorbar": {
            "outlinewidth": 0,
            "ticks": ""
           }
          },
          "colorscale": {
           "diverging": [
            [
             0,
             "#8e0152"
            ],
            [
             0.1,
             "#c51b7d"
            ],
            [
             0.2,
             "#de77ae"
            ],
            [
             0.3,
             "#f1b6da"
            ],
            [
             0.4,
             "#fde0ef"
            ],
            [
             0.5,
             "#f7f7f7"
            ],
            [
             0.6,
             "#e6f5d0"
            ],
            [
             0.7,
             "#b8e186"
            ],
            [
             0.8,
             "#7fbc41"
            ],
            [
             0.9,
             "#4d9221"
            ],
            [
             1,
             "#276419"
            ]
           ],
           "sequential": [
            [
             0,
             "#0d0887"
            ],
            [
             0.1111111111111111,
             "#46039f"
            ],
            [
             0.2222222222222222,
             "#7201a8"
            ],
            [
             0.3333333333333333,
             "#9c179e"
            ],
            [
             0.4444444444444444,
             "#bd3786"
            ],
            [
             0.5555555555555556,
             "#d8576b"
            ],
            [
             0.6666666666666666,
             "#ed7953"
            ],
            [
             0.7777777777777778,
             "#fb9f3a"
            ],
            [
             0.8888888888888888,
             "#fdca26"
            ],
            [
             1,
             "#f0f921"
            ]
           ],
           "sequentialminus": [
            [
             0,
             "#0d0887"
            ],
            [
             0.1111111111111111,
             "#46039f"
            ],
            [
             0.2222222222222222,
             "#7201a8"
            ],
            [
             0.3333333333333333,
             "#9c179e"
            ],
            [
             0.4444444444444444,
             "#bd3786"
            ],
            [
             0.5555555555555556,
             "#d8576b"
            ],
            [
             0.6666666666666666,
             "#ed7953"
            ],
            [
             0.7777777777777778,
             "#fb9f3a"
            ],
            [
             0.8888888888888888,
             "#fdca26"
            ],
            [
             1,
             "#f0f921"
            ]
           ]
          },
          "colorway": [
           "#636efa",
           "#EF553B",
           "#00cc96",
           "#ab63fa",
           "#FFA15A",
           "#19d3f3",
           "#FF6692",
           "#B6E880",
           "#FF97FF",
           "#FECB52"
          ],
          "font": {
           "color": "#2a3f5f"
          },
          "geo": {
           "bgcolor": "white",
           "lakecolor": "white",
           "landcolor": "#E5ECF6",
           "showlakes": true,
           "showland": true,
           "subunitcolor": "white"
          },
          "hoverlabel": {
           "align": "left"
          },
          "hovermode": "closest",
          "mapbox": {
           "style": "light"
          },
          "paper_bgcolor": "white",
          "plot_bgcolor": "#E5ECF6",
          "polar": {
           "angularaxis": {
            "gridcolor": "white",
            "linecolor": "white",
            "ticks": ""
           },
           "bgcolor": "#E5ECF6",
           "radialaxis": {
            "gridcolor": "white",
            "linecolor": "white",
            "ticks": ""
           }
          },
          "scene": {
           "xaxis": {
            "backgroundcolor": "#E5ECF6",
            "gridcolor": "white",
            "gridwidth": 2,
            "linecolor": "white",
            "showbackground": true,
            "ticks": "",
            "zerolinecolor": "white"
           },
           "yaxis": {
            "backgroundcolor": "#E5ECF6",
            "gridcolor": "white",
            "gridwidth": 2,
            "linecolor": "white",
            "showbackground": true,
            "ticks": "",
            "zerolinecolor": "white"
           },
           "zaxis": {
            "backgroundcolor": "#E5ECF6",
            "gridcolor": "white",
            "gridwidth": 2,
            "linecolor": "white",
            "showbackground": true,
            "ticks": "",
            "zerolinecolor": "white"
           }
          },
          "shapedefaults": {
           "line": {
            "color": "#2a3f5f"
           }
          },
          "ternary": {
           "aaxis": {
            "gridcolor": "white",
            "linecolor": "white",
            "ticks": ""
           },
           "baxis": {
            "gridcolor": "white",
            "linecolor": "white",
            "ticks": ""
           },
           "bgcolor": "#E5ECF6",
           "caxis": {
            "gridcolor": "white",
            "linecolor": "white",
            "ticks": ""
           }
          },
          "title": {
           "x": 0.05
          },
          "xaxis": {
           "automargin": true,
           "gridcolor": "white",
           "linecolor": "white",
           "ticks": "",
           "title": {
            "standoff": 15
           },
           "zerolinecolor": "white",
           "zerolinewidth": 2
          },
          "yaxis": {
           "automargin": true,
           "gridcolor": "white",
           "linecolor": "white",
           "ticks": "",
           "title": {
            "standoff": 15
           },
           "zerolinecolor": "white",
           "zerolinewidth": 2
          }
         }
        },
        "title": {
         "font": {
          "color": "white"
         },
         "text": "Topic Clustering using LDA and t-SNE"
        },
        "xaxis": {
         "anchor": "y",
         "domain": [
          0,
          1
         ],
         "title": {
          "text": ""
         }
        },
        "yaxis": {
         "anchor": "x",
         "domain": [
          0,
          1
         ],
         "title": {
          "text": ""
         }
        }
       }
      }
     },
     "metadata": {},
     "output_type": "display_data"
    }
   ],
   "source": [
    "# Plot tweets as colored points\n",
    "df_topics_cluster.sort_values('Cluster', key=lambda x: pd.to_numeric(x, errors='coerce'), inplace=True)\n",
    "\n",
    "fig = px.scatter(df_topics_cluster, x='X', y='Y', color='Cluster', \n",
    "                 title='Topic Clustering using LDA and t-SNE',\n",
    "                 hover_name='Tweet',\n",
    "                 hover_data={'X':False, 'Y':False, 'Cluster':False, 'Tweet':False, 'Breakdown':True, 'post_year': True})\n",
    "\n",
    "for i, keyword in enumerate(df_topics['Keywords']):\n",
    "  fig.add_annotation(\n",
    "    x=0,\n",
    "    y=-0.2*(i/5)-0.08,\n",
    "    text=\"Topic %d: %s\"%(i+1, keyword.replace(' ', '-').replace(',-', ', ')),\n",
    "    showarrow=False,\n",
    "    xref='paper',\n",
    "    yref='paper',\n",
    "    align='left',\n",
    "    font=dict(color=fig.data[i].marker['color'])\n",
    "  )\n",
    "\n",
    "fig.update_layout(height=710,\n",
    "                  xaxis_title='', yaxis_title='',\n",
    "                  margin=dict(b=200),\n",
    "                  paper_bgcolor='#2c3e50',\n",
    "                  title=dict(font=dict(color='white')),\n",
    "                  legend=dict(title=\"Topic\", font=dict(color='white')))\n",
    "fig.show()"
   ]
  },
  {
   "cell_type": "code",
   "execution_count": 25,
   "metadata": {},
   "outputs": [],
   "source": [
    "# df_topics_cluster[['post_year', 'Cluster', 'Content type']].to_csv('year_cluster.csv')"
   ]
  },
  {
   "cell_type": "code",
   "execution_count": 26,
   "metadata": {},
   "outputs": [],
   "source": [
    "df_topics_cluster['Content type'] = df['Content type']"
   ]
  },
  {
   "cell_type": "code",
   "execution_count": 27,
   "metadata": {},
   "outputs": [
    {
     "name": "stderr",
     "output_type": "stream",
     "text": [
      "c:\\Users\\james\\AppData\\Local\\Programs\\Python\\Python310\\lib\\site-packages\\requests\\__init__.py:102: RequestsDependencyWarning:\n",
      "\n",
      "urllib3 (1.26.7) or chardet (5.1.0)/charset_normalizer (2.0.12) doesn't match a supported version!\n",
      "\n"
     ]
    }
   ],
   "source": [
    "import gensim\n",
    "lda_model_tfidf = gensim.models.LdaModel(corpus=gensim.matutils.Sparse2Corpus(tfs), id2word=id2word, num_topics=4, random_state=41, chunksize=100, passes=10, alpha='auto', per_word_topics=True)"
   ]
  },
  {
   "cell_type": "code",
   "execution_count": 28,
   "metadata": {},
   "outputs": [],
   "source": [
    "id2word = gensim.corpora.Dictionary(df['working_tweet'].map(lambda x: x.split()).to_list())"
   ]
  },
  {
   "cell_type": "code",
   "execution_count": 29,
   "metadata": {},
   "outputs": [
    {
     "name": "stdout",
     "output_type": "stream",
     "text": [
      "[(0,\n",
      "  '0.222*\"according ferdinand\" + 0.061*\"accept\" + 0.059*\"another\" + '\n",
      "  '0.053*\"accrue\" + 0.051*\"accord last\" + 0.046*\"aint like\" + 0.044*\"50 years\" '\n",
      "  '+ 0.043*\"also help\" + 0.042*\"already mature\" + 0.039*\"amp\"'),\n",
      " (1,\n",
      "  '0.097*\"amp marcos\" + 0.074*\"accord\" + 0.059*\"add\" + 0.059*\"anti marcos\" + '\n",
      "  '0.051*\"according marcos\" + 0.051*\"amazing\" + 0.051*\"6m homeless\" + '\n",
      "  '0.050*\"6m\" + 0.046*\"2020 say\" + 0.045*\"ahhh\"'),\n",
      " (2,\n",
      "  '0.127*\"actually late\" + 0.092*\"987\" + 0.078*\"ahhh hope\" + 0.073*\"alt text\" '\n",
      "  '+ 0.059*\"accrue filipino\" + 0.043*\"90s\" + 0.041*\"50\" + 0.041*\"also fulfil\" '\n",
      "  '+ 0.038*\"amp good\" + 0.034*\"90s imelda\"'),\n",
      " (3,\n",
      "  '0.060*\"1998 imelda\" + 0.057*\"amp new\" + 0.051*\"according\" + 0.045*\"allege '\n",
      "  'personal\" + 0.039*\"amount many\" + 0.038*\"another bank\" + 0.037*\"amount\" + '\n",
      "  '0.036*\"34\" + 0.033*\"agree even\" + 0.031*\"accept marcos\"')]\n"
     ]
    }
   ],
   "source": [
    "from pprint import pprint\n",
    "pprint(lda_model_tfidf.print_topics())"
   ]
  },
  {
   "cell_type": "code",
   "execution_count": 30,
   "metadata": {},
   "outputs": [],
   "source": [
    "corpus = gensim.matutils.Sparse2Corpus(tfs)"
   ]
  },
  {
   "cell_type": "code",
   "execution_count": 31,
   "metadata": {},
   "outputs": [
    {
     "data": {
      "text/plain": [
       "[['statement',\n",
       "  'last',\n",
       "  'will',\n",
       "  'testament',\n",
       "  'frm',\n",
       "  'former',\n",
       "  'pres',\n",
       "  'e',\n",
       "  'marcos',\n",
       "  'heart',\n",
       "  'entire',\n",
       "  'people',\n",
       "  'phil'],\n",
       " ['last',\n",
       "  'will',\n",
       "  'testament',\n",
       "  'marcos',\n",
       "  'clear',\n",
       "  'deposit',\n",
       "  'will',\n",
       "  'accrue',\n",
       "  'filipino',\n",
       "  'people'],\n",
       " ['last',\n",
       "  'will',\n",
       "  'testament',\n",
       "  'pfemarcos',\n",
       "  'people',\n",
       "  'devine',\n",
       "  'wealth',\n",
       "  'marcos',\n",
       "  'tallano',\n",
       "  'clan'],\n",
       " ['richest', 'last', 'will', 'testament', 'president', 'ferdinand', 'marcos'],\n",
       " ['philippines',\n",
       "  'wealthiest',\n",
       "  'nation',\n",
       "  'earth',\n",
       "  'last',\n",
       "  'will',\n",
       "  'amp',\n",
       "  'testament',\n",
       "  'pres',\n",
       "  'ferdinand',\n",
       "  'marcos',\n",
       "  'via',\n",
       "  'news',\n",
       "  'feed'],\n",
       " ['philippines',\n",
       "  'wealthiest',\n",
       "  'nation',\n",
       "  'earth',\n",
       "  '–',\n",
       "  'last',\n",
       "  'will',\n",
       "  'testament',\n",
       "  'president',\n",
       "  'ferdinand',\n",
       "  'marcos',\n",
       "  'via'],\n",
       " ['last',\n",
       "  'will',\n",
       "  'testament',\n",
       "  'ferdinand',\n",
       "  'edralin',\n",
       "  'marcos',\n",
       "  'people',\n",
       "  'philippines✌️❤️🇵🇭'],\n",
       " ['last',\n",
       "  'will',\n",
       "  'testament',\n",
       "  'ferdinand',\n",
       "  'e',\n",
       "  'marcos',\n",
       "  'reason',\n",
       "  'longest',\n",
       "  'time',\n",
       "  'implement',\n",
       "  '1',\n",
       "  '7'],\n",
       " ['worry', 'marcos', 'sr', 'say', 'last', 'will', 'country'],\n",
       " ['madam',\n",
       "  'imelda',\n",
       "  'go',\n",
       "  'senate',\n",
       "  'congress',\n",
       "  'ask',\n",
       "  'help',\n",
       "  'implement',\n",
       "  'last',\n",
       "  'will',\n",
       "  'testament',\n",
       "  'fem',\n",
       "  'marcos',\n",
       "  'humanitarian',\n",
       "  'foundation',\n",
       "  'help',\n",
       "  'filipino',\n",
       "  'people',\n",
       "  'agony',\n",
       "  'suffer',\n",
       "  'reject',\n",
       "  'insist',\n",
       "  'fake',\n",
       "  'news'],\n",
       " ['bring',\n",
       "  'marcos',\n",
       "  'back',\n",
       "  'malakaniang',\n",
       "  'fulfill',\n",
       "  'president',\n",
       "  'ferdinand',\n",
       "  'e',\n",
       "  'marcos',\n",
       "  'last',\n",
       "  'will',\n",
       "  'testament',\n",
       "  'people'],\n",
       " ['awaken',\n",
       "  'truth',\n",
       "  'great',\n",
       "  'former',\n",
       "  'president',\n",
       "  'marcos',\n",
       "  'last',\n",
       "  'will',\n",
       "  'testament',\n",
       "  'please',\n",
       "  'wake',\n",
       "  'try',\n",
       "  'research',\n",
       "  'rely',\n",
       "  'bias',\n",
       "  'mainstream',\n",
       "  'media',\n",
       "  '🤗'],\n",
       " ['last',\n",
       "  'will',\n",
       "  'testament',\n",
       "  'ferdinand',\n",
       "  'marcos',\n",
       "  'president',\n",
       "  'philippines'],\n",
       " ['last',\n",
       "  'will',\n",
       "  'testament',\n",
       "  'ferdinand',\n",
       "  'marcos',\n",
       "  'president',\n",
       "  'philippines'],\n",
       " ['vote',\n",
       "  'bong',\n",
       "  'bong',\n",
       "  'marcos',\n",
       "  'president',\n",
       "  'retrieve',\n",
       "  'wealth',\n",
       "  'philippines',\n",
       "  'keep',\n",
       "  'countries',\n",
       "  'return',\n",
       "  'back',\n",
       "  'national',\n",
       "  'treasury',\n",
       "  'read',\n",
       "  'comprehensively',\n",
       "  'last',\n",
       "  'will',\n",
       "  'amp',\n",
       "  'testament',\n",
       "  'late',\n",
       "  'ferdinand',\n",
       "  'marcos'],\n",
       " ['hidden',\n",
       "  'truth',\n",
       "  'marcos',\n",
       "  'last',\n",
       "  'will',\n",
       "  'people',\n",
       "  'government',\n",
       "  'block'],\n",
       " ['hidden',\n",
       "  'truth',\n",
       "  'last',\n",
       "  'will',\n",
       "  'marcos',\n",
       "  'people',\n",
       "  'block',\n",
       "  'government'],\n",
       " ['hidden',\n",
       "  'truth',\n",
       "  'marcos',\n",
       "  'last',\n",
       "  'will',\n",
       "  'people',\n",
       "  'government',\n",
       "  'block'],\n",
       " ['video',\n",
       "  'kept',\n",
       "  'secret',\n",
       "  'media',\n",
       "  'last',\n",
       "  'will',\n",
       "  'marcos',\n",
       "  'filipino',\n",
       "  'people'],\n",
       " ['mang', 'ferdie', 'marcos', 'last', 'will', 'testament', 'give', 'people'],\n",
       " ['true',\n",
       "  'imelda',\n",
       "  'marcos',\n",
       "  'give',\n",
       "  'legacy',\n",
       "  'grandchild',\n",
       "  'last',\n",
       "  'will',\n",
       "  'testament',\n",
       "  'edsa',\n",
       "  '1',\n",
       "  'block'],\n",
       " ['last', 'will', 'former', 'president', 'ferdinand', 'marcos', 'via'],\n",
       " ['find',\n",
       "  'block',\n",
       "  'last',\n",
       "  'will',\n",
       "  'marcos',\n",
       "  'fund',\n",
       "  'will',\n",
       "  'use',\n",
       "  'marcos',\n",
       "  'humanitarian',\n",
       "  'foundation',\n",
       "  'fund',\n",
       "  'will',\n",
       "  'give',\n",
       "  'trustees',\n",
       "  'project',\n",
       "  'one',\n",
       "  'help',\n",
       "  'correct',\n",
       "  'im',\n",
       "  'wrong'],\n",
       " ['last',\n",
       "  'will',\n",
       "  'testament',\n",
       "  'marcos',\n",
       "  'humanitarian',\n",
       "  'foundation',\n",
       "  'something',\n",
       "  'like',\n",
       "  'n',\n",
       "  'hope',\n",
       "  'will',\n",
       "  'distribute'],\n",
       " ['marcos', 'last', 'will', 'testament'],\n",
       " ['marcos',\n",
       "  'last',\n",
       "  'will',\n",
       "  'testament',\n",
       "  'give',\n",
       "  'away',\n",
       "  'gold',\n",
       "  'filipinos',\n",
       "  'yellow',\n",
       "  'stop'],\n",
       " ['amazing',\n",
       "  'facts',\n",
       "  'mr',\n",
       "  'marcos',\n",
       "  'last',\n",
       "  'will',\n",
       "  'testament',\n",
       "  'soak',\n",
       "  'water',\n",
       "  'kin',\n",
       "  'via'],\n",
       " ['last', 'will', 'testament', 'ferdinand', 'e', 'marcos', 'via'],\n",
       " ['like',\n",
       "  'video',\n",
       "  'ferdinand',\n",
       "  'marcos',\n",
       "  'last',\n",
       "  'will',\n",
       "  'amp',\n",
       "  'testament',\n",
       "  'filipinos',\n",
       "  'denied',\n",
       "  'cory'],\n",
       " ['check',\n",
       "  'last',\n",
       "  'will',\n",
       "  'n',\n",
       "  'testament',\n",
       "  'marcos',\n",
       "  'n',\n",
       "  'start',\n",
       "  '10',\n",
       "  'family',\n",
       "  '90',\n",
       "  'filipino',\n",
       "  'nation',\n",
       "  'via',\n",
       "  'foundation',\n",
       "  'last',\n",
       "  'will',\n",
       "  'lawyer',\n",
       "  'guide',\n",
       "  'us',\n",
       "  'enrique',\n",
       "  'zobel',\n",
       "  'video',\n",
       "  'use',\n",
       "  '90'],\n",
       " ['marcos', 'last', 'will', 'testament', 'via'],\n",
       " ['marcos',\n",
       "  'earn',\n",
       "  '987',\n",
       "  'billion',\n",
       "  'us',\n",
       "  'dollars',\n",
       "  'last',\n",
       "  'will',\n",
       "  'one',\n",
       "  'proclaim',\n",
       "  'money',\n",
       "  'within',\n",
       "  '50',\n",
       "  'years',\n",
       "  'legally',\n",
       "  'will',\n",
       "  'use',\n",
       "  'sake',\n",
       "  'humanity',\n",
       "  'baitt'],\n",
       " ['still',\n",
       "  '1973',\n",
       "  'plan',\n",
       "  'project',\n",
       "  'write',\n",
       "  'fem',\n",
       "  'last',\n",
       "  'will',\n",
       "  'testament',\n",
       "  'country',\n",
       "  'people',\n",
       "  'cory',\n",
       "  'freeze',\n",
       "  'bank',\n",
       "  'want',\n",
       "  'money',\n",
       "  'marcos',\n",
       "  't',\n",
       "  'co',\n",
       "  'lw4i9ch7jb'],\n",
       " ['wealth',\n",
       "  'humanity',\n",
       "  'ferdinand',\n",
       "  'marcos',\n",
       "  'gold',\n",
       "  'via',\n",
       "  'world',\n",
       "  'needs',\n",
       "  'know',\n",
       "  'president',\n",
       "  'marcos',\n",
       "  'gold',\n",
       "  'humanity',\n",
       "  'gold',\n",
       "  'deposits',\n",
       "  'matured',\n",
       "  '2005',\n",
       "  'used',\n",
       "  'humanity',\n",
       "  'president',\n",
       "  'marcos',\n",
       "  'last',\n",
       "  'will',\n",
       "  'testament'],\n",
       " ['marcos',\n",
       "  'gold',\n",
       "  'richest',\n",
       "  'country',\n",
       "  'world',\n",
       "  'philippines',\n",
       "  'videos',\n",
       "  'make',\n",
       "  'speechless',\n",
       "  'confuse',\n",
       "  'last',\n",
       "  'will',\n",
       "  'marcos',\n",
       "  'state',\n",
       "  'welfare',\n",
       "  'filipino'],\n",
       " ['time',\n",
       "  'philippine',\n",
       "  'government',\n",
       "  'pressure',\n",
       "  'consider',\n",
       "  'implement',\n",
       "  'last',\n",
       "  'will',\n",
       "  'testament',\n",
       "  'late',\n",
       "  'president',\n",
       "  'f',\n",
       "  'marcos',\n",
       "  'use',\n",
       "  'wealth',\n",
       "  'welfare',\n",
       "  'filipino',\n",
       "  'people'],\n",
       " ['time',\n",
       "  'philippine',\n",
       "  'government',\n",
       "  'pressure',\n",
       "  'consider',\n",
       "  'implement',\n",
       "  'last',\n",
       "  'will',\n",
       "  'testament',\n",
       "  'late',\n",
       "  'president',\n",
       "  'f',\n",
       "  'marcos',\n",
       "  'use',\n",
       "  'wealth',\n",
       "  'welfare',\n",
       "  'filipino',\n",
       "  'people'],\n",
       " ['time',\n",
       "  'deposit',\n",
       "  '50',\n",
       "  'years',\n",
       "  'accord',\n",
       "  'last',\n",
       "  'will',\n",
       "  'testament',\n",
       "  'give',\n",
       "  'claimants',\n",
       "  '50',\n",
       "  'years',\n",
       "  'prove',\n",
       "  'money',\n",
       "  'one',\n",
       "  'could',\n",
       "  'prove',\n",
       "  'will',\n",
       "  'release',\n",
       "  'filipinos',\n",
       "  'pretty',\n",
       "  'sure',\n",
       "  'know',\n",
       "  'anti',\n",
       "  'marcos'],\n",
       " ['immense',\n",
       "  'wealth',\n",
       "  'save',\n",
       "  'deposit',\n",
       "  'future',\n",
       "  'filipino',\n",
       "  'people',\n",
       "  'imelda',\n",
       "  'plead',\n",
       "  'senate',\n",
       "  'help',\n",
       "  'execute',\n",
       "  'last',\n",
       "  'will',\n",
       "  'marcos',\n",
       "  'distribution',\n",
       "  'wealth',\n",
       "  'due',\n",
       "  'politics',\n",
       "  'wealth',\n",
       "  'could',\n",
       "  'release'],\n",
       " ['actually',\n",
       "  'late',\n",
       "  'president',\n",
       "  'ferdinand',\n",
       "  'marcos',\n",
       "  'insure',\n",
       "  'last',\n",
       "  'will',\n",
       "  'testament',\n",
       "  'gold',\n",
       "  'bar',\n",
       "  'wealth',\n",
       "  'will',\n",
       "  'own',\n",
       "  'people',\n",
       "  'philippines',\n",
       "  '50',\n",
       "  'years',\n",
       "  'time',\n",
       "  'youtube',\n",
       "  'perception',\n",
       "  'towards',\n",
       "  'aquino',\n",
       "  'change',\n",
       "  'lot',\n",
       "  '🤢'],\n",
       " ['last',\n",
       "  'will',\n",
       "  'past',\n",
       "  'great',\n",
       "  'president',\n",
       "  'ferdinand',\n",
       "  'edralin',\n",
       "  'marcos',\n",
       "  'sr',\n",
       "  'ferdinand',\n",
       "  'romualdez',\n",
       "  'marcos',\n",
       "  'jr',\n",
       "  'bbm',\n",
       "  'hope',\n",
       "  'uplift',\n",
       "  'lives',\n",
       "  'every',\n",
       "  'filipinos',\n",
       "  'make',\n",
       "  'nation',\n",
       "  'great',\n",
       "  'marikina',\n",
       "  'heights'],\n",
       " ['manny',\n",
       "  'will',\n",
       "  'puppet',\n",
       "  'need',\n",
       "  'lawyer',\n",
       "  'profession',\n",
       "  'next',\n",
       "  'president',\n",
       "  'one',\n",
       "  'best',\n",
       "  'fit',\n",
       "  'bbm',\n",
       "  'nobody',\n",
       "  'else',\n",
       "  'completely',\n",
       "  'fulfill',\n",
       "  'last',\n",
       "  'will',\n",
       "  'marcos',\n",
       "  'project',\n",
       "  'initiate',\n",
       "  'prdd',\n",
       "  'marcos',\n",
       "  'legal',\n",
       "  'son',\n",
       "  'peace'],\n",
       " ['ahhh',\n",
       "  'hope',\n",
       "  'last',\n",
       "  'will',\n",
       "  'testament',\n",
       "  'marcos',\n",
       "  'will',\n",
       "  'fulfil',\n",
       "  'elitists',\n",
       "  'yellow',\n",
       "  'people',\n",
       "  'get'],\n",
       " ['fulfillment',\n",
       "  'president',\n",
       "  'marcos',\n",
       "  'last',\n",
       "  'will',\n",
       "  'testament',\n",
       "  'people',\n",
       "  'via'],\n",
       " ['marcos', 'last', 'will', 'testament'],\n",
       " ['filipinos',\n",
       "  'let',\n",
       "  'vote',\n",
       "  'bongbong',\n",
       "  'marcos',\n",
       "  'become',\n",
       "  'president',\n",
       "  'will',\n",
       "  'implement',\n",
       "  'last',\n",
       "  'will',\n",
       "  'testament',\n",
       "  'redeem',\n",
       "  'wealth',\n",
       "  'ferdinand',\n",
       "  'marcos',\n",
       "  'entrust',\n",
       "  'bank',\n",
       "  'world',\n",
       "  'already',\n",
       "  'mature',\n",
       "  'time',\n",
       "  'bongbong',\n",
       "  'marcos',\n",
       "  'will',\n",
       "  'recover',\n",
       "  'gold',\n",
       "  'us'],\n",
       " ['vote',\n",
       "  'bongnong',\n",
       "  'marcos',\n",
       "  'will',\n",
       "  'save',\n",
       "  'country',\n",
       "  'poverty',\n",
       "  'will',\n",
       "  'open',\n",
       "  'last',\n",
       "  'will',\n",
       "  'late',\n",
       "  'ferfinand',\n",
       "  'e',\n",
       "  'marcos',\n",
       "  'gold',\n",
       "  'filipinos',\n",
       "  'people',\n",
       "  'believe',\n",
       "  'phillippines',\n",
       "  'will',\n",
       "  'great',\n",
       "  'listen',\n",
       "  'aquinos',\n",
       "  'rant',\n",
       "  'marcoses'],\n",
       " ['members',\n",
       "  'npa',\n",
       "  'cpa',\n",
       "  'want',\n",
       "  'marcos',\n",
       "  'oligarchy',\n",
       "  'system',\n",
       "  'will',\n",
       "  'destroy',\n",
       "  'people',\n",
       "  'afraid',\n",
       "  'sit',\n",
       "  'bbm',\n",
       "  'will',\n",
       "  'clear',\n",
       "  'name',\n",
       "  'family',\n",
       "  'well',\n",
       "  'last',\n",
       "  'will',\n",
       "  'testament',\n",
       "  'will',\n",
       "  'also',\n",
       "  'fulfil',\n",
       "  'filipinos',\n",
       "  'want',\n",
       "  'will',\n",
       "  'equal'],\n",
       " ['see',\n",
       "  'imelda',\n",
       "  'go',\n",
       "  'senate',\n",
       "  'hear',\n",
       "  'implement',\n",
       "  'marcos',\n",
       "  'humanitarian',\n",
       "  'foundation',\n",
       "  'last',\n",
       "  'will',\n",
       "  'testament',\n",
       "  'suppose',\n",
       "  'help',\n",
       "  'country',\n",
       "  'pay',\n",
       "  'debt',\n",
       "  'deny',\n",
       "  'people',\n",
       "  'still',\n",
       "  'want',\n",
       "  'steal',\n",
       "  'matter',\n",
       "  'still',\n",
       "  'high'],\n",
       " ['steal',\n",
       "  'item',\n",
       "  'steal',\n",
       "  'will',\n",
       "  'give',\n",
       "  'return',\n",
       "  'think',\n",
       "  'people',\n",
       "  'say',\n",
       "  'recover',\n",
       "  'never',\n",
       "  'see',\n",
       "  'right',\n",
       "  'replace',\n",
       "  'tao',\n",
       "  'would',\n",
       "  'happen',\n",
       "  'bbm',\n",
       "  'win',\n",
       "  'last',\n",
       "  'will',\n",
       "  'pres',\n",
       "  'marcos',\n",
       "  'will',\n",
       "  'give',\n",
       "  'people',\n",
       "  'steal'],\n",
       " ['know',\n",
       "  'gold',\n",
       "  'marcos',\n",
       "  'last',\n",
       "  'will',\n",
       "  'testament',\n",
       "  'gold',\n",
       "  'bar',\n",
       "  'save',\n",
       "  'young',\n",
       "  'lawyer',\n",
       "  'put',\n",
       "  'trust',\n",
       "  'fund',\n",
       "  '1973',\n",
       "  'state',\n",
       "  'newspaper',\n",
       "  'imelda',\n",
       "  'already',\n",
       "  'approach',\n",
       "  'government',\n",
       "  'help',\n",
       "  'implement',\n",
       "  'last',\n",
       "  'will'],\n",
       " ['rebuttal',\n",
       "  'even',\n",
       "  'worth',\n",
       "  'debate',\n",
       "  '🤡🤭',\n",
       "  'thief',\n",
       "  'will',\n",
       "  'share',\n",
       "  'wealth',\n",
       "  'search',\n",
       "  'last',\n",
       "  'will',\n",
       "  'testament',\n",
       "  'marcos',\n",
       "  'imagine',\n",
       "  'implement',\n",
       "  '🤭🤭🤭'],\n",
       " ['candidates',\n",
       "  'aint',\n",
       "  'like',\n",
       "  'will',\n",
       "  'eagerly',\n",
       "  'throw',\n",
       "  'horrendous',\n",
       "  'attack',\n",
       "  'return',\n",
       "  'ill',\n",
       "  'gotten',\n",
       "  'wealth',\n",
       "  'late',\n",
       "  'pres',\n",
       "  'fdm',\n",
       "  'even',\n",
       "  'bear',\n",
       "  'happen',\n",
       "  'far',\n",
       "  'know',\n",
       "  'marcos',\n",
       "  'last',\n",
       "  'will',\n",
       "  'testament',\n",
       "  'give',\n",
       "  'wealth',\n",
       "  'filipinos',\n",
       "  'government',\n",
       "  'block'],\n",
       " ['2',\n",
       "  '2',\n",
       "  'try',\n",
       "  'stop',\n",
       "  'marcos',\n",
       "  'family',\n",
       "  'go',\n",
       "  'back',\n",
       "  'palace',\n",
       "  'afraid',\n",
       "  'last',\n",
       "  'will',\n",
       "  'testament',\n",
       "  'fdm',\n",
       "  'lwat',\n",
       "  'will',\n",
       "  'impose',\n",
       "  'oligarchs',\n",
       "  'longer',\n",
       "  'use',\n",
       "  'poor',\n",
       "  'people',\n",
       "  'longer',\n",
       "  'poor',\n",
       "  'jobless',\n",
       "  'country',\n",
       "  '✌️👊'],\n",
       " ['bbm',\n",
       "  'qualify',\n",
       "  'amp',\n",
       "  'good',\n",
       "  'vision',\n",
       "  'us',\n",
       "  'return',\n",
       "  'investment',\n",
       "  'marcos',\n",
       "  'wealth',\n",
       "  'w',\n",
       "  'c',\n",
       "  'hand',\n",
       "  'private',\n",
       "  'bank',\n",
       "  'esp',\n",
       "  'rothschild',\n",
       "  'world',\n",
       "  'bank',\n",
       "  'amp',\n",
       "  'swiss',\n",
       "  'bank…w',\n",
       "  'c',\n",
       "  'give',\n",
       "  'us',\n",
       "  'accdg',\n",
       "  'last',\n",
       "  'will',\n",
       "  'amp',\n",
       "  'testament',\n",
       "  'marcos',\n",
       "  'sr',\n",
       "  'die'],\n",
       " ['money',\n",
       "  'give',\n",
       "  'back',\n",
       "  '248',\n",
       "  'billion',\n",
       "  'dollars',\n",
       "  'interest',\n",
       "  'different',\n",
       "  'marcos',\n",
       "  'money',\n",
       "  'put',\n",
       "  'world',\n",
       "  'bank',\n",
       "  'put',\n",
       "  'last',\n",
       "  'will',\n",
       "  'testament',\n",
       "  'give',\n",
       "  'philippines',\n",
       "  '2020',\n",
       "  'say',\n",
       "  'bank',\n",
       "  'will',\n",
       "  'give',\n",
       "  'money',\n",
       "  'philippines'],\n",
       " ['late',\n",
       "  'pres',\n",
       "  'ferdinand',\n",
       "  'e',\n",
       "  'marcos',\n",
       "  'last',\n",
       "  'will',\n",
       "  'testament',\n",
       "  'need',\n",
       "  'mailplemented',\n",
       "  'government',\n",
       "  'pres',\n",
       "  'fem',\n",
       "  'will',\n",
       "  'give',\n",
       "  'lot',\n",
       "  'money',\n",
       "  'free',\n",
       "  '🙏🙏🙏',\n",
       "  'rich',\n",
       "  'much',\n",
       "  'hope',\n",
       "  'filipinos',\n",
       "  'will',\n",
       "  'unite',\n",
       "  'time',\n",
       "  'deposit',\n",
       "  'fully',\n",
       "  'mature'],\n",
       " ['follow',\n",
       "  'nesara',\n",
       "  'gesara',\n",
       "  'timeline',\n",
       "  'know',\n",
       "  'bong',\n",
       "  'bong',\n",
       "  'run',\n",
       "  'president',\n",
       "  'strong',\n",
       "  'indication',\n",
       "  'things',\n",
       "  'come',\n",
       "  'fruition',\n",
       "  '4',\n",
       "  'ferdinand',\n",
       "  'first',\n",
       "  'bear',\n",
       "  'son',\n",
       "  'become',\n",
       "  'president',\n",
       "  'marcos',\n",
       "  'fund',\n",
       "  'will',\n",
       "  'unlock',\n",
       "  'filipinos',\n",
       "  'last',\n",
       "  'will'],\n",
       " ['last',\n",
       "  'will',\n",
       "  'n',\n",
       "  'late',\n",
       "  'pres',\n",
       "  'marcos',\n",
       "  'give',\n",
       "  'filipino',\n",
       "  'people',\n",
       "  'interest',\n",
       "  'gold',\n",
       "  'bar',\n",
       "  'trillion',\n",
       "  'good',\n",
       "  'luck'],\n",
       " ['marcos',\n",
       "  'foundation',\n",
       "  'humanity',\n",
       "  'really',\n",
       "  'need',\n",
       "  'elect',\n",
       "  'bbm',\n",
       "  'executive',\n",
       "  'order',\n",
       "  'president',\n",
       "  'open',\n",
       "  'bbm',\n",
       "  'filipinos',\n",
       "  'fem',\n",
       "  'last',\n",
       "  'will',\n",
       "  'will',\n",
       "  'fulfill',\n",
       "  'late',\n",
       "  'president',\n",
       "  'people',\n",
       "  'philippines'],\n",
       " ['father',\n",
       "  'last',\n",
       "  'will',\n",
       "  'testament',\n",
       "  'will',\n",
       "  'fulfil',\n",
       "  'country',\n",
       "  'noble',\n",
       "  'imelda',\n",
       "  'marcos',\n",
       "  'give',\n",
       "  'long',\n",
       "  'time',\n",
       "  'watch',\n",
       "  'news'],\n",
       " ['leni',\n",
       "  'maybe',\n",
       "  'puppet',\n",
       "  'illuminati',\n",
       "  'globalist',\n",
       "  'bbm',\n",
       "  'sit',\n",
       "  'remember',\n",
       "  'illuminati',\n",
       "  'strong',\n",
       "  'desire',\n",
       "  'marcos',\n",
       "  'gold',\n",
       "  'wealth',\n",
       "  'wake',\n",
       "  'let',\n",
       "  'bbm',\n",
       "  'fulfillment',\n",
       "  'marcos',\n",
       "  'last',\n",
       "  'will',\n",
       "  'google',\n",
       "  'ok'],\n",
       " ['yes',\n",
       "  'philippines',\n",
       "  'steal',\n",
       "  'marcos',\n",
       "  'last',\n",
       "  'will',\n",
       "  'testament',\n",
       "  'marcos',\n",
       "  'sr',\n",
       "  'marcos',\n",
       "  'sit',\n",
       "  'president',\n",
       "  'order',\n",
       "  'lift',\n",
       "  'philippines',\n",
       "  'entrust',\n",
       "  'people'],\n",
       " ['marcos',\n",
       "  'foundation',\n",
       "  'will',\n",
       "  'use',\n",
       "  'filipino',\n",
       "  'people',\n",
       "  'new',\n",
       "  'society',\n",
       "  'bong',\n",
       "  'bong',\n",
       "  'marcos',\n",
       "  'will',\n",
       "  'next',\n",
       "  'president',\n",
       "  'philippines',\n",
       "  'one',\n",
       "  'authority',\n",
       "  'sign',\n",
       "  'last',\n",
       "  'will',\n",
       "  'testament',\n",
       "  'make',\n",
       "  'ferdinand',\n",
       "  'marcos'],\n",
       " ['say',\n",
       "  'marcos',\n",
       "  'last',\n",
       "  'will',\n",
       "  'testament',\n",
       "  'will',\n",
       "  'bequeath',\n",
       "  'treasures',\n",
       "  'gold',\n",
       "  'supporters'],\n",
       " ['marcos',\n",
       "  'change',\n",
       "  'get',\n",
       "  'gold',\n",
       "  'develop',\n",
       "  'philippines',\n",
       "  'long',\n",
       "  'time',\n",
       "  'imelda',\n",
       "  'want',\n",
       "  'execute',\n",
       "  'marcos',\n",
       "  'last',\n",
       "  'will',\n",
       "  'distribute',\n",
       "  'money',\n",
       "  'philippines',\n",
       "  'time',\n",
       "  'deposit',\n",
       "  'various',\n",
       "  'bank',\n",
       "  'around',\n",
       "  'world',\n",
       "  'us',\n",
       "  'obstacle'],\n",
       " ['know',\n",
       "  'placed',\n",
       "  'last',\n",
       "  'will',\n",
       "  'amp',\n",
       "  'marcos',\n",
       "  'testament',\n",
       "  'wealth',\n",
       "  'earn',\n",
       "  'gold',\n",
       "  'trade',\n",
       "  'europe',\n",
       "  'bequeath',\n",
       "  'people',\n",
       "  'philippines',\n",
       "  'decent',\n",
       "  'abnoy',\n",
       "  'dilawan',\n",
       "  'oligarchs',\n",
       "  'intercept',\n",
       "  'pocket',\n",
       "  'good',\n",
       "  'right'],\n",
       " ['damaso',\n",
       "  'villegas',\n",
       "  'behind',\n",
       "  'petition',\n",
       "  'panic',\n",
       "  'mode',\n",
       "  '1',\n",
       "  'last',\n",
       "  'will',\n",
       "  'testament',\n",
       "  'grandson',\n",
       "  'ferdinand',\n",
       "  'marcos',\n",
       "  '2',\n",
       "  'marcos',\n",
       "  'wealth',\n",
       "  'gold',\n",
       "  'people',\n",
       "  'world',\n",
       "  'will',\n",
       "  'return',\n",
       "  'country',\n",
       "  'bbm2022',\n",
       "  'alt',\n",
       "  'text',\n",
       "  'behind',\n",
       "  'fall',\n",
       "  'great',\n",
       "  'men',\n",
       "  'jesuit',\n",
       "  'priest',\n",
       "  'damaso',\n",
       "  '25',\n",
       "  'million',\n",
       "  'hybrid',\n",
       "  'dds',\n",
       "  'loyalist',\n",
       "  'social',\n",
       "  'media',\n",
       "  'warriors',\n",
       "  'pro',\n",
       "  'government',\n",
       "  'picture',\n",
       "  'jose',\n",
       "  'rizal',\n",
       "  'padre',\n",
       "  'damaso',\n",
       "  'marcos',\n",
       "  'sr',\n",
       "  'duterte',\n",
       "  'bongbong',\n",
       "  'marcos'],\n",
       " ['really',\n",
       "  'stupid',\n",
       "  'watch',\n",
       "  'tv',\n",
       "  'gaga',\n",
       "  'know',\n",
       "  'last',\n",
       "  'will',\n",
       "  'ferdinand',\n",
       "  'marcos',\n",
       "  'humanity',\n",
       "  'mean',\n",
       "  'filipinos',\n",
       "  'research',\n",
       "  'add',\n",
       "  'reference',\n",
       "  'fool',\n",
       "  'pink',\n",
       "  'yellowtards'],\n",
       " ['freeze',\n",
       "  'yellow',\n",
       "  'ones',\n",
       "  'chase',\n",
       "  '34',\n",
       "  'years',\n",
       "  'get',\n",
       "  'full',\n",
       "  'fem',\n",
       "  'last',\n",
       "  'will',\n",
       "  'intend',\n",
       "  'marcos',\n",
       "  'foundation',\n",
       "  'oppose',\n",
       "  'greedy',\n",
       "  'want',\n",
       "  'marcoses',\n",
       "  'stand',\n",
       "  'people'],\n",
       " ['read',\n",
       "  'fem',\n",
       "  'last',\n",
       "  'will',\n",
       "  'testament',\n",
       "  'say',\n",
       "  'philippines',\n",
       "  'marcos',\n",
       "  'sit',\n",
       "  'malacañang',\n",
       "  'know',\n",
       "  'imitation',\n",
       "  'others',\n",
       "  'say',\n",
       "  'obtain',\n",
       "  'search',\n",
       "  'search',\n",
       "  'ahhh😏🥴'],\n",
       " ['watch',\n",
       "  'video',\n",
       "  'mrs',\n",
       "  'approve',\n",
       "  'imelda',\n",
       "  'marcos',\n",
       "  'last',\n",
       "  'will',\n",
       "  'pres',\n",
       "  'marcos',\n",
       "  'sr',\n",
       "  'cabinet',\n",
       "  'state',\n",
       "  'philippines',\n",
       "  'will',\n",
       "  'bequeath',\n",
       "  'unimaginable',\n",
       "  'wealth',\n",
       "  'know',\n",
       "  'yellowtards',\n",
       "  'sign',\n",
       "  'want',\n",
       "  'put',\n",
       "  'pocket'],\n",
       " ['fem',\n",
       "  'corrupt',\n",
       "  'evil',\n",
       "  'hope',\n",
       "  'put',\n",
       "  'marcos',\n",
       "  'humanitarian',\n",
       "  'foundation',\n",
       "  'last',\n",
       "  'will',\n",
       "  'testament',\n",
       "  'cory',\n",
       "  'allow',\n",
       "  'implement',\n",
       "  'time'],\n",
       " ['vote',\n",
       "  'bong',\n",
       "  'bong',\n",
       "  'marcos',\n",
       "  'president',\n",
       "  'retrieve',\n",
       "  'wealth',\n",
       "  'philippines',\n",
       "  'keep',\n",
       "  'countries',\n",
       "  'return',\n",
       "  'back',\n",
       "  'national',\n",
       "  'treasury',\n",
       "  'read',\n",
       "  'last',\n",
       "  'will',\n",
       "  'testament',\n",
       "  'late',\n",
       "  'ferdinand',\n",
       "  'marcos'],\n",
       " ['marcos',\n",
       "  'foundation',\n",
       "  'will',\n",
       "  'use',\n",
       "  'filipino',\n",
       "  'people',\n",
       "  'new',\n",
       "  'society',\n",
       "  'bong',\n",
       "  'bong',\n",
       "  'marcos',\n",
       "  'will',\n",
       "  'next',\n",
       "  'president',\n",
       "  'philippines',\n",
       "  'one',\n",
       "  'authority',\n",
       "  'sign',\n",
       "  'last',\n",
       "  'will',\n",
       "  'testament',\n",
       "  'make',\n",
       "  'ferdinand',\n",
       "  'marcos'],\n",
       " ['filipino',\n",
       "  'future',\n",
       "  '1998',\n",
       "  'imelda',\n",
       "  'marcos',\n",
       "  'go',\n",
       "  'senate',\n",
       "  'beg',\n",
       "  'help',\n",
       "  'implement',\n",
       "  'last',\n",
       "  'will',\n",
       "  'testament',\n",
       "  'president',\n",
       "  'ferdinand',\n",
       "  'e',\n",
       "  'marcos',\n",
       "  'complete',\n",
       "  'marcos',\n",
       "  'humanitarian',\n",
       "  'foundation'],\n",
       " ['1st',\n",
       "  'place',\n",
       "  'thing',\n",
       "  'marcos',\n",
       "  'wealth',\n",
       "  'bequeth',\n",
       "  'majority',\n",
       "  'assets',\n",
       "  '2',\n",
       "  'fil',\n",
       "  'peopke',\n",
       "  'per',\n",
       "  'last',\n",
       "  'will',\n",
       "  'testament',\n",
       "  'secondly',\n",
       "  'assets',\n",
       "  'earn',\n",
       "  'financial',\n",
       "  'play',\n",
       "  'insurance',\n",
       "  'cert',\n",
       "  'cover',\n",
       "  'gold',\n",
       "  'bar',\n",
       "  'always',\n",
       "  'favor',\n",
       "  'phil'],\n",
       " ['want',\n",
       "  'charge',\n",
       "  'marcos',\n",
       "  '203b',\n",
       "  'estate',\n",
       "  'tax',\n",
       "  'give',\n",
       "  'filipinos',\n",
       "  'base',\n",
       "  'fem',\n",
       "  'last',\n",
       "  'will',\n",
       "  'testament'],\n",
       " ['grandpa',\n",
       "  'lakay',\n",
       "  'choose',\n",
       "  'distribute',\n",
       "  'property',\n",
       "  'poor',\n",
       "  'filipinos',\n",
       "  'rather',\n",
       "  'let',\n",
       "  'go',\n",
       "  'oligarchs',\n",
       "  'last',\n",
       "  'will',\n",
       "  'grandpa',\n",
       "  'lakay',\n",
       "  'great',\n",
       "  'marcos',\n",
       "  'will',\n",
       "  'let',\n",
       "  'oligarchs',\n",
       "  'take',\n",
       "  'wealth',\n",
       "  'grandpa',\n",
       "  'lakay',\n",
       "  'wealth',\n",
       "  'pcgg'],\n",
       " ['video',\n",
       "  'yt',\n",
       "  'marcos',\n",
       "  'last',\n",
       "  'will',\n",
       "  'testament',\n",
       "  'imelda',\n",
       "  'even',\n",
       "  'go',\n",
       "  'government',\n",
       "  'ask',\n",
       "  'help',\n",
       "  'implement',\n",
       "  'last',\n",
       "  'will',\n",
       "  'testament',\n",
       "  'pfem',\n",
       "  'case',\n",
       "  'government',\n",
       "  'want',\n",
       "  'yellow'],\n",
       " ['cory',\n",
       "  'one',\n",
       "  'make',\n",
       "  'false',\n",
       "  'news',\n",
       "  'marcos',\n",
       "  'open',\n",
       "  'eye',\n",
       "  'false',\n",
       "  'news',\n",
       "  'haaayss',\n",
       "  'hard',\n",
       "  'like',\n",
       "  'marcos',\n",
       "  'last',\n",
       "  'will',\n",
       "  'testament',\n",
       "  'philippines',\n",
       "  'eh',\n",
       "  'still',\n",
       "  'want',\n",
       "  'make',\n",
       "  'aware',\n",
       "  'eye'],\n",
       " ['1',\n",
       "  'real',\n",
       "  'bongbong',\n",
       "  'marcos',\n",
       "  'according',\n",
       "  'ferdinand',\n",
       "  'edralin',\n",
       "  'marcos',\n",
       "  'died',\n",
       "  '1975',\n",
       "  'proclaimed',\n",
       "  'hawaii',\n",
       "  '2',\n",
       "  'real',\n",
       "  'bongbong',\n",
       "  'marcos',\n",
       "  'died',\n",
       "  '1975',\n",
       "  'according',\n",
       "  'ferdinand',\n",
       "  'edralin',\n",
       "  'marcos',\n",
       "  'last',\n",
       "  'will',\n",
       "  'testament'],\n",
       " ['get',\n",
       "  'driver',\n",
       "  'marcos',\n",
       "  'allege',\n",
       "  'personal',\n",
       "  'assets',\n",
       "  'will',\n",
       "  'transfer',\n",
       "  'filipinos',\n",
       "  '50',\n",
       "  'years',\n",
       "  'last',\n",
       "  'will',\n",
       "  'testament',\n",
       "  'bbm',\n",
       "  'become',\n",
       "  'president',\n",
       "  'get',\n",
       "  'earlier',\n",
       "  'blow',\n",
       "  'mind',\n",
       "  '🤯'],\n",
       " ['wow',\n",
       "  'mdm',\n",
       "  'imelda',\n",
       "  'even',\n",
       "  'catch',\n",
       "  'son',\n",
       "  'become',\n",
       "  'president',\n",
       "  'joy',\n",
       "  'marcos',\n",
       "  'family',\n",
       "  'could',\n",
       "  'see',\n",
       "  'mdm',\n",
       "  'imelda',\n",
       "  'request',\n",
       "  'pay',\n",
       "  'attention',\n",
       "  'last',\n",
       "  'will',\n",
       "  'amp',\n",
       "  'testament',\n",
       "  'fem',\n",
       "  'distribute',\n",
       "  'filipinos',\n",
       "  'philippine',\n",
       "  'nation',\n",
       "  '✌🇵🇭'],\n",
       " ['bbm',\n",
       "  'father',\n",
       "  'will',\n",
       "  'fulfill',\n",
       "  'last',\n",
       "  'will',\n",
       "  'testament',\n",
       "  'marcos',\n",
       "  'trillions',\n",
       "  'interest',\n",
       "  'earn',\n",
       "  'marcos',\n",
       "  'gold',\n",
       "  'mature',\n",
       "  'since',\n",
       "  '2000',\n",
       "  'imelda',\n",
       "  'beg',\n",
       "  'senate',\n",
       "  'help',\n",
       "  'implement',\n",
       "  'last',\n",
       "  'will',\n",
       "  'ignore'],\n",
       " ['hope',\n",
       "  'senate',\n",
       "  'also',\n",
       "  'help',\n",
       "  'c',\n",
       "  'emelda',\n",
       "  'marcos',\n",
       "  'share',\n",
       "  'last',\n",
       "  'will',\n",
       "  'amp',\n",
       "  'wife',\n",
       "  'testament',\n",
       "  'filipinos',\n",
       "  'want',\n",
       "  'agree',\n",
       "  'even',\n",
       "  'use',\n",
       "  'freeze',\n",
       "  'switzerland',\n",
       "  'another',\n",
       "  'bank'],\n",
       " ['documents',\n",
       "  'identity',\n",
       "  'theft',\n",
       "  'malicious',\n",
       "  'impersonation',\n",
       "  'personal',\n",
       "  'gain',\n",
       "  'according',\n",
       "  'marcos',\n",
       "  'sr',\n",
       "  'real',\n",
       "  'bbm',\n",
       "  'died',\n",
       "  '1975',\n",
       "  'according',\n",
       "  'declaration',\n",
       "  'hawaii',\n",
       "  'last',\n",
       "  'will',\n",
       "  'testament'],\n",
       " ['lmao',\n",
       "  'face',\n",
       "  'one',\n",
       "  'ounce',\n",
       "  'gold',\n",
       "  'released',\n",
       "  'bank',\n",
       "  'yet',\n",
       "  'state',\n",
       "  'last',\n",
       "  'will',\n",
       "  'testament',\n",
       "  'late',\n",
       "  'president',\n",
       "  'fem',\n",
       "  'marcos',\n",
       "  'will',\n",
       "  'handle',\n",
       "  'release',\n",
       "  'gold',\n",
       "  'give',\n",
       "  'yellow',\n",
       "  'tards',\n",
       "  'must',\n",
       "  'steal'],\n",
       " ['cna',\n",
       "  'singapore',\n",
       "  'insight',\n",
       "  'program',\n",
       "  'last',\n",
       "  'tuesday',\n",
       "  'interview',\n",
       "  'marcos',\n",
       "  'loyalist',\n",
       "  'say',\n",
       "  'last',\n",
       "  'will',\n",
       "  'sr',\n",
       "  'un',\n",
       "  'yamashitreasure',\n",
       "  '10',\n",
       "  '1st',\n",
       "  'family',\n",
       "  'marcos',\n",
       "  'family',\n",
       "  '10',\n",
       "  'religion',\n",
       "  'mention',\n",
       "  'sect',\n",
       "  'rest',\n",
       "  'filipino',\n",
       "  'people',\n",
       "  'bbm'],\n",
       " ['know',\n",
       "  'give',\n",
       "  'people',\n",
       "  'government',\n",
       "  'know',\n",
       "  'will',\n",
       "  'corrupt',\n",
       "  'even',\n",
       "  'say',\n",
       "  'last',\n",
       "  'will',\n",
       "  'money',\n",
       "  'will',\n",
       "  'release',\n",
       "  'marcos',\n",
       "  'seat',\n",
       "  'see',\n",
       "  'good',\n",
       "  'heart',\n",
       "  'us'],\n",
       " ['despicable',\n",
       "  'line',\n",
       "  'think',\n",
       "  'marcos',\n",
       "  'create',\n",
       "  'lot',\n",
       "  'project',\n",
       "  'benefit',\n",
       "  'filipinos',\n",
       "  'even',\n",
       "  'last',\n",
       "  'will',\n",
       "  'intend',\n",
       "  'filipinos'],\n",
       " ['vindictive',\n",
       "  'kc',\n",
       "  'take',\n",
       "  'cory',\n",
       "  'shut',\n",
       "  'bataan',\n",
       "  'would',\n",
       "  'help',\n",
       "  'people',\n",
       "  'lot',\n",
       "  'accept',\n",
       "  'marcos',\n",
       "  'last',\n",
       "  'will',\n",
       "  'foundation',\n",
       "  'philippines',\n",
       "  'would',\n",
       "  'suffer'],\n",
       " ['90s',\n",
       "  'imelda',\n",
       "  'go',\n",
       "  'congress',\n",
       "  'execute',\n",
       "  'last',\n",
       "  'will',\n",
       "  'fem',\n",
       "  'marcos',\n",
       "  'humanitarian',\n",
       "  'foundation',\n",
       "  'ignore',\n",
       "  'elect',\n",
       "  'politicians',\n",
       "  'back',\n",
       "  'demand',\n",
       "  'case',\n",
       "  'file',\n",
       "  'really',\n",
       "  'wait',\n",
       "  'case',\n",
       "  '🤷🏻\\u200d♀️'],\n",
       " ['present',\n",
       "  'story',\n",
       "  'last',\n",
       "  'will',\n",
       "  'testament',\n",
       "  'former',\n",
       "  'president',\n",
       "  'ferdinand',\n",
       "  'marcos',\n",
       "  'hand',\n",
       "  'bbm',\n",
       "  'public',\n",
       "  'watch',\n",
       "  'full',\n",
       "  'video',\n",
       "  'click',\n",
       "  'link',\n",
       "  '🡻🡻🡻'],\n",
       " ['know',\n",
       "  'marcos',\n",
       "  'sr',\n",
       "  'last',\n",
       "  'will',\n",
       "  'testament',\n",
       "  'include',\n",
       "  'find',\n",
       "  'archive',\n",
       "  'say',\n",
       "  'give',\n",
       "  'people',\n",
       "  'benefit',\n",
       "  'also',\n",
       "  'promise',\n",
       "  'copper'],\n",
       " ['question',\n",
       "  'marcos',\n",
       "  'wealth',\n",
       "  'research',\n",
       "  'imelda',\n",
       "  'ask',\n",
       "  'legislature',\n",
       "  'execute',\n",
       "  'fem',\n",
       "  'last',\n",
       "  'will',\n",
       "  'will',\n",
       "  'give',\n",
       "  'philippines',\n",
       "  'amount',\n",
       "  'many',\n",
       "  'zero',\n",
       "  'even',\n",
       "  'count',\n",
       "  'country',\n",
       "  'could',\n",
       "  'richest',\n",
       "  'country'],\n",
       " ['wait', 'teachers', 'share', 'marcos', 'last', 'will', 'take', 'care'],\n",
       " ['check',\n",
       "  'philippines',\n",
       "  'farmers',\n",
       "  'debt',\n",
       "  'will',\n",
       "  'waive',\n",
       "  'amp',\n",
       "  'new',\n",
       "  'house',\n",
       "  '6m',\n",
       "  'homeless',\n",
       "  'will',\n",
       "  'build',\n",
       "  '1m',\n",
       "  'house',\n",
       "  'year',\n",
       "  'phil',\n",
       "  'president',\n",
       "  'amp',\n",
       "  'gold',\n",
       "  'marcoses',\n",
       "  'part',\n",
       "  'gesara',\n",
       "  'nesara',\n",
       "  'elder',\n",
       "  'marcos',\n",
       "  'last',\n",
       "  'will',\n",
       "  'amp',\n",
       "  'testament',\n",
       "  'say',\n",
       "  'look'],\n",
       " ['maybe',\n",
       "  'dream',\n",
       "  'post',\n",
       "  'bbm',\n",
       "  'will',\n",
       "  'win',\n",
       "  'debts',\n",
       "  'arise',\n",
       "  'father',\n",
       "  'regime',\n",
       "  'together',\n",
       "  'supreme',\n",
       "  'court',\n",
       "  'birs',\n",
       "  'rule',\n",
       "  'will',\n",
       "  'pay',\n",
       "  'release',\n",
       "  'marcos',\n",
       "  'sr',\n",
       "  'last',\n",
       "  'will',\n",
       "  'else',\n",
       "  'opposition',\n",
       "  'say'],\n",
       " ['girl',\n",
       "  'philippines',\n",
       "  'debt',\n",
       "  'marcos',\n",
       "  'leave',\n",
       "  'marcos',\n",
       "  'die',\n",
       "  'imelda',\n",
       "  'ask',\n",
       "  'senators',\n",
       "  'help',\n",
       "  'read',\n",
       "  'fem',\n",
       "  'last',\n",
       "  'will',\n",
       "  'testament',\n",
       "  'promise',\n",
       "  'would',\n",
       "  'leave',\n",
       "  'possessions',\n",
       "  'people',\n",
       "  'country'],\n",
       " ['fem',\n",
       "  'marcos',\n",
       "  'last',\n",
       "  'will',\n",
       "  'wants',\n",
       "  'share',\n",
       "  'divine',\n",
       "  'wealth',\n",
       "  'humanity',\n",
       "  'w',\n",
       "  'c',\n",
       "  'maybe',\n",
       "  'instructed',\n",
       "  'god',\n",
       "  'visions',\n",
       "  'says',\n",
       "  'received',\n",
       "  'god'],\n",
       " ['freeze',\n",
       "  'golds',\n",
       "  'king',\n",
       "  'solomon',\n",
       "  'gold',\n",
       "  'marcos',\n",
       "  'want',\n",
       "  'break',\n",
       "  'people',\n",
       "  'lives',\n",
       "  'marcos',\n",
       "  'ata',\n",
       "  'last',\n",
       "  'will',\n",
       "  'filipinos',\n",
       "  'whole',\n",
       "  'world']]"
      ]
     },
     "execution_count": 31,
     "metadata": {},
     "output_type": "execute_result"
    }
   ],
   "source": [
    "df['working_tweet'].map(lambda x: x.split()).to_list()"
   ]
  },
  {
   "cell_type": "code",
   "execution_count": 32,
   "metadata": {},
   "outputs": [
    {
     "name": "stdout",
     "output_type": "stream",
     "text": [
      "\n",
      "Perplexity:  -4.260977522851804\n",
      "\n",
      "Coherence Score:  0.6310069598751221\n"
     ]
    }
   ],
   "source": [
    "# Compute Perplexity\n",
    "print('\\nPerplexity: ', lda_model_tfidf.log_perplexity(corpus))  \n",
    "# a measure of how good the model is. lower the better\n",
    "# .\n",
    "coherence_model_lda = gensim.models.CoherenceModel(model=lda_model_tfidf, texts=df['working_tweet'].map(lambda x: x.split()).to_list(), dictionary=id2word, coherence='c_v')\n",
    "coherence_lda = coherence_model_lda.get_coherence()\n",
    "print('\\nCoherence Score: ', coherence_lda)"
   ]
  },
  {
   "cell_type": "code",
   "execution_count": 33,
   "metadata": {},
   "outputs": [
    {
     "name": "stdout",
     "output_type": "stream",
     "text": [
      "1\n",
      "2\n",
      "3\n",
      "4\n",
      "5\n",
      "6\n",
      "7\n",
      "8\n",
      "9\n",
      "10\n",
      "11\n",
      "12\n",
      "13\n",
      "14\n",
      "15\n",
      "16\n",
      "17\n",
      "18\n",
      "19\n"
     ]
    }
   ],
   "source": [
    "perp_coh = [] # 1 -> 10\n",
    "for i in range(1,20):\n",
    "    lda_model_tfidf = gensim.models.LdaModel(corpus=gensim.matutils.Sparse2Corpus(tfs), id2word=id2word, num_topics=i, random_state=41, chunksize=100, passes=10, alpha='auto', per_word_topics=True)\n",
    "    coherence_model_lda = gensim.models.CoherenceModel(model=lda_model_tfidf, texts=df['working_tweet'].map(lambda x: x.split()).to_list(), dictionary=id2word, coherence='c_v')\n",
    "    coherence_lda = coherence_model_lda.get_coherence()\n",
    "    print(i)\n",
    "    perp_coh.append((lda_model_tfidf.log_perplexity(corpus), coherence_lda)) "
   ]
  },
  {
   "cell_type": "code",
   "execution_count": 34,
   "metadata": {},
   "outputs": [
    {
     "data": {
      "application/vnd.plotly.v1+json": {
       "config": {
        "plotlyServerURL": "https://plot.ly"
       },
       "data": [
        {
         "hovertemplate": "variable=0<br>index=%{x}<br>value=%{y}<extra></extra>",
         "legendgroup": "0",
         "line": {
          "color": "#636efa",
          "dash": "solid"
         },
         "marker": {
          "symbol": "circle"
         },
         "mode": "lines",
         "name": "0",
         "orientation": "v",
         "showlegend": true,
         "type": "scatter",
         "x": [
          0,
          1,
          2,
          3,
          4,
          5,
          6,
          7,
          8,
          9,
          10,
          11,
          12,
          13,
          14,
          15,
          16,
          17,
          18
         ],
         "xaxis": "x",
         "y": [
          -4.729637701810898,
          -4.386747108659514,
          -4.170162502092583,
          -4.024428571188623,
          -3.919938679678488,
          -3.8247735212655334,
          -3.7014178204898185,
          -3.7047842422918085,
          -3.5274799070477636,
          -3.4584708864374707,
          -3.408358444284533,
          -3.342445349130834,
          -3.344162111226292,
          -3.2632158360660384,
          -3.7284532489085698,
          -4.137561598031079,
          -7.798252142957699,
          -19.388582954623352,
          -22.448585366880582
         ],
         "yaxis": "y"
        }
       ],
       "layout": {
        "legend": {
         "title": {
          "text": "variable"
         },
         "tracegroupgap": 0
        },
        "template": {
         "data": {
          "bar": [
           {
            "error_x": {
             "color": "#2a3f5f"
            },
            "error_y": {
             "color": "#2a3f5f"
            },
            "marker": {
             "line": {
              "color": "#E5ECF6",
              "width": 0.5
             },
             "pattern": {
              "fillmode": "overlay",
              "size": 10,
              "solidity": 0.2
             }
            },
            "type": "bar"
           }
          ],
          "barpolar": [
           {
            "marker": {
             "line": {
              "color": "#E5ECF6",
              "width": 0.5
             },
             "pattern": {
              "fillmode": "overlay",
              "size": 10,
              "solidity": 0.2
             }
            },
            "type": "barpolar"
           }
          ],
          "carpet": [
           {
            "aaxis": {
             "endlinecolor": "#2a3f5f",
             "gridcolor": "white",
             "linecolor": "white",
             "minorgridcolor": "white",
             "startlinecolor": "#2a3f5f"
            },
            "baxis": {
             "endlinecolor": "#2a3f5f",
             "gridcolor": "white",
             "linecolor": "white",
             "minorgridcolor": "white",
             "startlinecolor": "#2a3f5f"
            },
            "type": "carpet"
           }
          ],
          "choropleth": [
           {
            "colorbar": {
             "outlinewidth": 0,
             "ticks": ""
            },
            "type": "choropleth"
           }
          ],
          "contour": [
           {
            "colorbar": {
             "outlinewidth": 0,
             "ticks": ""
            },
            "colorscale": [
             [
              0,
              "#0d0887"
             ],
             [
              0.1111111111111111,
              "#46039f"
             ],
             [
              0.2222222222222222,
              "#7201a8"
             ],
             [
              0.3333333333333333,
              "#9c179e"
             ],
             [
              0.4444444444444444,
              "#bd3786"
             ],
             [
              0.5555555555555556,
              "#d8576b"
             ],
             [
              0.6666666666666666,
              "#ed7953"
             ],
             [
              0.7777777777777778,
              "#fb9f3a"
             ],
             [
              0.8888888888888888,
              "#fdca26"
             ],
             [
              1,
              "#f0f921"
             ]
            ],
            "type": "contour"
           }
          ],
          "contourcarpet": [
           {
            "colorbar": {
             "outlinewidth": 0,
             "ticks": ""
            },
            "type": "contourcarpet"
           }
          ],
          "heatmap": [
           {
            "colorbar": {
             "outlinewidth": 0,
             "ticks": ""
            },
            "colorscale": [
             [
              0,
              "#0d0887"
             ],
             [
              0.1111111111111111,
              "#46039f"
             ],
             [
              0.2222222222222222,
              "#7201a8"
             ],
             [
              0.3333333333333333,
              "#9c179e"
             ],
             [
              0.4444444444444444,
              "#bd3786"
             ],
             [
              0.5555555555555556,
              "#d8576b"
             ],
             [
              0.6666666666666666,
              "#ed7953"
             ],
             [
              0.7777777777777778,
              "#fb9f3a"
             ],
             [
              0.8888888888888888,
              "#fdca26"
             ],
             [
              1,
              "#f0f921"
             ]
            ],
            "type": "heatmap"
           }
          ],
          "heatmapgl": [
           {
            "colorbar": {
             "outlinewidth": 0,
             "ticks": ""
            },
            "colorscale": [
             [
              0,
              "#0d0887"
             ],
             [
              0.1111111111111111,
              "#46039f"
             ],
             [
              0.2222222222222222,
              "#7201a8"
             ],
             [
              0.3333333333333333,
              "#9c179e"
             ],
             [
              0.4444444444444444,
              "#bd3786"
             ],
             [
              0.5555555555555556,
              "#d8576b"
             ],
             [
              0.6666666666666666,
              "#ed7953"
             ],
             [
              0.7777777777777778,
              "#fb9f3a"
             ],
             [
              0.8888888888888888,
              "#fdca26"
             ],
             [
              1,
              "#f0f921"
             ]
            ],
            "type": "heatmapgl"
           }
          ],
          "histogram": [
           {
            "marker": {
             "pattern": {
              "fillmode": "overlay",
              "size": 10,
              "solidity": 0.2
             }
            },
            "type": "histogram"
           }
          ],
          "histogram2d": [
           {
            "colorbar": {
             "outlinewidth": 0,
             "ticks": ""
            },
            "colorscale": [
             [
              0,
              "#0d0887"
             ],
             [
              0.1111111111111111,
              "#46039f"
             ],
             [
              0.2222222222222222,
              "#7201a8"
             ],
             [
              0.3333333333333333,
              "#9c179e"
             ],
             [
              0.4444444444444444,
              "#bd3786"
             ],
             [
              0.5555555555555556,
              "#d8576b"
             ],
             [
              0.6666666666666666,
              "#ed7953"
             ],
             [
              0.7777777777777778,
              "#fb9f3a"
             ],
             [
              0.8888888888888888,
              "#fdca26"
             ],
             [
              1,
              "#f0f921"
             ]
            ],
            "type": "histogram2d"
           }
          ],
          "histogram2dcontour": [
           {
            "colorbar": {
             "outlinewidth": 0,
             "ticks": ""
            },
            "colorscale": [
             [
              0,
              "#0d0887"
             ],
             [
              0.1111111111111111,
              "#46039f"
             ],
             [
              0.2222222222222222,
              "#7201a8"
             ],
             [
              0.3333333333333333,
              "#9c179e"
             ],
             [
              0.4444444444444444,
              "#bd3786"
             ],
             [
              0.5555555555555556,
              "#d8576b"
             ],
             [
              0.6666666666666666,
              "#ed7953"
             ],
             [
              0.7777777777777778,
              "#fb9f3a"
             ],
             [
              0.8888888888888888,
              "#fdca26"
             ],
             [
              1,
              "#f0f921"
             ]
            ],
            "type": "histogram2dcontour"
           }
          ],
          "mesh3d": [
           {
            "colorbar": {
             "outlinewidth": 0,
             "ticks": ""
            },
            "type": "mesh3d"
           }
          ],
          "parcoords": [
           {
            "line": {
             "colorbar": {
              "outlinewidth": 0,
              "ticks": ""
             }
            },
            "type": "parcoords"
           }
          ],
          "pie": [
           {
            "automargin": true,
            "type": "pie"
           }
          ],
          "scatter": [
           {
            "fillpattern": {
             "fillmode": "overlay",
             "size": 10,
             "solidity": 0.2
            },
            "type": "scatter"
           }
          ],
          "scatter3d": [
           {
            "line": {
             "colorbar": {
              "outlinewidth": 0,
              "ticks": ""
             }
            },
            "marker": {
             "colorbar": {
              "outlinewidth": 0,
              "ticks": ""
             }
            },
            "type": "scatter3d"
           }
          ],
          "scattercarpet": [
           {
            "marker": {
             "colorbar": {
              "outlinewidth": 0,
              "ticks": ""
             }
            },
            "type": "scattercarpet"
           }
          ],
          "scattergeo": [
           {
            "marker": {
             "colorbar": {
              "outlinewidth": 0,
              "ticks": ""
             }
            },
            "type": "scattergeo"
           }
          ],
          "scattergl": [
           {
            "marker": {
             "colorbar": {
              "outlinewidth": 0,
              "ticks": ""
             }
            },
            "type": "scattergl"
           }
          ],
          "scattermapbox": [
           {
            "marker": {
             "colorbar": {
              "outlinewidth": 0,
              "ticks": ""
             }
            },
            "type": "scattermapbox"
           }
          ],
          "scatterpolar": [
           {
            "marker": {
             "colorbar": {
              "outlinewidth": 0,
              "ticks": ""
             }
            },
            "type": "scatterpolar"
           }
          ],
          "scatterpolargl": [
           {
            "marker": {
             "colorbar": {
              "outlinewidth": 0,
              "ticks": ""
             }
            },
            "type": "scatterpolargl"
           }
          ],
          "scatterternary": [
           {
            "marker": {
             "colorbar": {
              "outlinewidth": 0,
              "ticks": ""
             }
            },
            "type": "scatterternary"
           }
          ],
          "surface": [
           {
            "colorbar": {
             "outlinewidth": 0,
             "ticks": ""
            },
            "colorscale": [
             [
              0,
              "#0d0887"
             ],
             [
              0.1111111111111111,
              "#46039f"
             ],
             [
              0.2222222222222222,
              "#7201a8"
             ],
             [
              0.3333333333333333,
              "#9c179e"
             ],
             [
              0.4444444444444444,
              "#bd3786"
             ],
             [
              0.5555555555555556,
              "#d8576b"
             ],
             [
              0.6666666666666666,
              "#ed7953"
             ],
             [
              0.7777777777777778,
              "#fb9f3a"
             ],
             [
              0.8888888888888888,
              "#fdca26"
             ],
             [
              1,
              "#f0f921"
             ]
            ],
            "type": "surface"
           }
          ],
          "table": [
           {
            "cells": {
             "fill": {
              "color": "#EBF0F8"
             },
             "line": {
              "color": "white"
             }
            },
            "header": {
             "fill": {
              "color": "#C8D4E3"
             },
             "line": {
              "color": "white"
             }
            },
            "type": "table"
           }
          ]
         },
         "layout": {
          "annotationdefaults": {
           "arrowcolor": "#2a3f5f",
           "arrowhead": 0,
           "arrowwidth": 1
          },
          "autotypenumbers": "strict",
          "coloraxis": {
           "colorbar": {
            "outlinewidth": 0,
            "ticks": ""
           }
          },
          "colorscale": {
           "diverging": [
            [
             0,
             "#8e0152"
            ],
            [
             0.1,
             "#c51b7d"
            ],
            [
             0.2,
             "#de77ae"
            ],
            [
             0.3,
             "#f1b6da"
            ],
            [
             0.4,
             "#fde0ef"
            ],
            [
             0.5,
             "#f7f7f7"
            ],
            [
             0.6,
             "#e6f5d0"
            ],
            [
             0.7,
             "#b8e186"
            ],
            [
             0.8,
             "#7fbc41"
            ],
            [
             0.9,
             "#4d9221"
            ],
            [
             1,
             "#276419"
            ]
           ],
           "sequential": [
            [
             0,
             "#0d0887"
            ],
            [
             0.1111111111111111,
             "#46039f"
            ],
            [
             0.2222222222222222,
             "#7201a8"
            ],
            [
             0.3333333333333333,
             "#9c179e"
            ],
            [
             0.4444444444444444,
             "#bd3786"
            ],
            [
             0.5555555555555556,
             "#d8576b"
            ],
            [
             0.6666666666666666,
             "#ed7953"
            ],
            [
             0.7777777777777778,
             "#fb9f3a"
            ],
            [
             0.8888888888888888,
             "#fdca26"
            ],
            [
             1,
             "#f0f921"
            ]
           ],
           "sequentialminus": [
            [
             0,
             "#0d0887"
            ],
            [
             0.1111111111111111,
             "#46039f"
            ],
            [
             0.2222222222222222,
             "#7201a8"
            ],
            [
             0.3333333333333333,
             "#9c179e"
            ],
            [
             0.4444444444444444,
             "#bd3786"
            ],
            [
             0.5555555555555556,
             "#d8576b"
            ],
            [
             0.6666666666666666,
             "#ed7953"
            ],
            [
             0.7777777777777778,
             "#fb9f3a"
            ],
            [
             0.8888888888888888,
             "#fdca26"
            ],
            [
             1,
             "#f0f921"
            ]
           ]
          },
          "colorway": [
           "#636efa",
           "#EF553B",
           "#00cc96",
           "#ab63fa",
           "#FFA15A",
           "#19d3f3",
           "#FF6692",
           "#B6E880",
           "#FF97FF",
           "#FECB52"
          ],
          "font": {
           "color": "#2a3f5f"
          },
          "geo": {
           "bgcolor": "white",
           "lakecolor": "white",
           "landcolor": "#E5ECF6",
           "showlakes": true,
           "showland": true,
           "subunitcolor": "white"
          },
          "hoverlabel": {
           "align": "left"
          },
          "hovermode": "closest",
          "mapbox": {
           "style": "light"
          },
          "paper_bgcolor": "white",
          "plot_bgcolor": "#E5ECF6",
          "polar": {
           "angularaxis": {
            "gridcolor": "white",
            "linecolor": "white",
            "ticks": ""
           },
           "bgcolor": "#E5ECF6",
           "radialaxis": {
            "gridcolor": "white",
            "linecolor": "white",
            "ticks": ""
           }
          },
          "scene": {
           "xaxis": {
            "backgroundcolor": "#E5ECF6",
            "gridcolor": "white",
            "gridwidth": 2,
            "linecolor": "white",
            "showbackground": true,
            "ticks": "",
            "zerolinecolor": "white"
           },
           "yaxis": {
            "backgroundcolor": "#E5ECF6",
            "gridcolor": "white",
            "gridwidth": 2,
            "linecolor": "white",
            "showbackground": true,
            "ticks": "",
            "zerolinecolor": "white"
           },
           "zaxis": {
            "backgroundcolor": "#E5ECF6",
            "gridcolor": "white",
            "gridwidth": 2,
            "linecolor": "white",
            "showbackground": true,
            "ticks": "",
            "zerolinecolor": "white"
           }
          },
          "shapedefaults": {
           "line": {
            "color": "#2a3f5f"
           }
          },
          "ternary": {
           "aaxis": {
            "gridcolor": "white",
            "linecolor": "white",
            "ticks": ""
           },
           "baxis": {
            "gridcolor": "white",
            "linecolor": "white",
            "ticks": ""
           },
           "bgcolor": "#E5ECF6",
           "caxis": {
            "gridcolor": "white",
            "linecolor": "white",
            "ticks": ""
           }
          },
          "title": {
           "x": 0.05
          },
          "xaxis": {
           "automargin": true,
           "gridcolor": "white",
           "linecolor": "white",
           "ticks": "",
           "title": {
            "standoff": 15
           },
           "zerolinecolor": "white",
           "zerolinewidth": 2
          },
          "yaxis": {
           "automargin": true,
           "gridcolor": "white",
           "linecolor": "white",
           "ticks": "",
           "title": {
            "standoff": 15
           },
           "zerolinecolor": "white",
           "zerolinewidth": 2
          }
         }
        },
        "title": {
         "text": "Perplexity over N-Topics"
        },
        "xaxis": {
         "anchor": "y",
         "domain": [
          0,
          1
         ],
         "title": {
          "text": "No. of Topics"
         }
        },
        "yaxis": {
         "anchor": "x",
         "domain": [
          0,
          1
         ],
         "title": {
          "text": "Perplexity Metric"
         }
        }
       }
      }
     },
     "metadata": {},
     "output_type": "display_data"
    }
   ],
   "source": [
    "fig = px.line([x[0] for x in perp_coh], title='Perplexity over N-Topics')\n",
    "fig.update_layout(xaxis_title=\"No. of Topics\", yaxis_title=\"Perplexity Metric\")\n",
    "fig.show()"
   ]
  },
  {
   "cell_type": "code",
   "execution_count": 35,
   "metadata": {},
   "outputs": [
    {
     "data": {
      "application/vnd.plotly.v1+json": {
       "config": {
        "plotlyServerURL": "https://plot.ly"
       },
       "data": [
        {
         "hovertemplate": "variable=0<br>index=%{x}<br>value=%{y}<extra></extra>",
         "legendgroup": "0",
         "line": {
          "color": "#636efa",
          "dash": "solid"
         },
         "marker": {
          "symbol": "circle"
         },
         "mode": "lines",
         "name": "0",
         "orientation": "v",
         "showlegend": true,
         "type": "scatter",
         "x": [
          0,
          1,
          2,
          3,
          4,
          5,
          6,
          7,
          8,
          9,
          10,
          11,
          12,
          13,
          14,
          15,
          16,
          17,
          18
         ],
         "xaxis": "x",
         "y": [
          0.5871485756919226,
          0.5802228129249098,
          0.5791308736051504,
          0.5907903708251854,
          0.6036140902988092,
          0.6178977896635578,
          0.6207636093670619,
          0.6161989265634579,
          0.6434524353985914,
          0.6292638892953233,
          0.6192628426305303,
          0.6220628639418413,
          0.6155051526156399,
          0.6152330505446209,
          0.5907273957335111,
          0.6236995975493707,
          0.5635136182413414,
          0.6290364299074096,
          0.6041999310691826
         ],
         "yaxis": "y"
        },
        {
         "marker": {
          "size": 10,
          "symbol": "star"
         },
         "mode": "markers",
         "type": "scatter",
         "x": [
          7
         ],
         "y": [
          0.6222036
         ]
        }
       ],
       "layout": {
        "legend": {
         "title": {
          "text": "variable"
         },
         "tracegroupgap": 0
        },
        "showlegend": false,
        "template": {
         "data": {
          "bar": [
           {
            "error_x": {
             "color": "#2a3f5f"
            },
            "error_y": {
             "color": "#2a3f5f"
            },
            "marker": {
             "line": {
              "color": "#E5ECF6",
              "width": 0.5
             },
             "pattern": {
              "fillmode": "overlay",
              "size": 10,
              "solidity": 0.2
             }
            },
            "type": "bar"
           }
          ],
          "barpolar": [
           {
            "marker": {
             "line": {
              "color": "#E5ECF6",
              "width": 0.5
             },
             "pattern": {
              "fillmode": "overlay",
              "size": 10,
              "solidity": 0.2
             }
            },
            "type": "barpolar"
           }
          ],
          "carpet": [
           {
            "aaxis": {
             "endlinecolor": "#2a3f5f",
             "gridcolor": "white",
             "linecolor": "white",
             "minorgridcolor": "white",
             "startlinecolor": "#2a3f5f"
            },
            "baxis": {
             "endlinecolor": "#2a3f5f",
             "gridcolor": "white",
             "linecolor": "white",
             "minorgridcolor": "white",
             "startlinecolor": "#2a3f5f"
            },
            "type": "carpet"
           }
          ],
          "choropleth": [
           {
            "colorbar": {
             "outlinewidth": 0,
             "ticks": ""
            },
            "type": "choropleth"
           }
          ],
          "contour": [
           {
            "colorbar": {
             "outlinewidth": 0,
             "ticks": ""
            },
            "colorscale": [
             [
              0,
              "#0d0887"
             ],
             [
              0.1111111111111111,
              "#46039f"
             ],
             [
              0.2222222222222222,
              "#7201a8"
             ],
             [
              0.3333333333333333,
              "#9c179e"
             ],
             [
              0.4444444444444444,
              "#bd3786"
             ],
             [
              0.5555555555555556,
              "#d8576b"
             ],
             [
              0.6666666666666666,
              "#ed7953"
             ],
             [
              0.7777777777777778,
              "#fb9f3a"
             ],
             [
              0.8888888888888888,
              "#fdca26"
             ],
             [
              1,
              "#f0f921"
             ]
            ],
            "type": "contour"
           }
          ],
          "contourcarpet": [
           {
            "colorbar": {
             "outlinewidth": 0,
             "ticks": ""
            },
            "type": "contourcarpet"
           }
          ],
          "heatmap": [
           {
            "colorbar": {
             "outlinewidth": 0,
             "ticks": ""
            },
            "colorscale": [
             [
              0,
              "#0d0887"
             ],
             [
              0.1111111111111111,
              "#46039f"
             ],
             [
              0.2222222222222222,
              "#7201a8"
             ],
             [
              0.3333333333333333,
              "#9c179e"
             ],
             [
              0.4444444444444444,
              "#bd3786"
             ],
             [
              0.5555555555555556,
              "#d8576b"
             ],
             [
              0.6666666666666666,
              "#ed7953"
             ],
             [
              0.7777777777777778,
              "#fb9f3a"
             ],
             [
              0.8888888888888888,
              "#fdca26"
             ],
             [
              1,
              "#f0f921"
             ]
            ],
            "type": "heatmap"
           }
          ],
          "heatmapgl": [
           {
            "colorbar": {
             "outlinewidth": 0,
             "ticks": ""
            },
            "colorscale": [
             [
              0,
              "#0d0887"
             ],
             [
              0.1111111111111111,
              "#46039f"
             ],
             [
              0.2222222222222222,
              "#7201a8"
             ],
             [
              0.3333333333333333,
              "#9c179e"
             ],
             [
              0.4444444444444444,
              "#bd3786"
             ],
             [
              0.5555555555555556,
              "#d8576b"
             ],
             [
              0.6666666666666666,
              "#ed7953"
             ],
             [
              0.7777777777777778,
              "#fb9f3a"
             ],
             [
              0.8888888888888888,
              "#fdca26"
             ],
             [
              1,
              "#f0f921"
             ]
            ],
            "type": "heatmapgl"
           }
          ],
          "histogram": [
           {
            "marker": {
             "pattern": {
              "fillmode": "overlay",
              "size": 10,
              "solidity": 0.2
             }
            },
            "type": "histogram"
           }
          ],
          "histogram2d": [
           {
            "colorbar": {
             "outlinewidth": 0,
             "ticks": ""
            },
            "colorscale": [
             [
              0,
              "#0d0887"
             ],
             [
              0.1111111111111111,
              "#46039f"
             ],
             [
              0.2222222222222222,
              "#7201a8"
             ],
             [
              0.3333333333333333,
              "#9c179e"
             ],
             [
              0.4444444444444444,
              "#bd3786"
             ],
             [
              0.5555555555555556,
              "#d8576b"
             ],
             [
              0.6666666666666666,
              "#ed7953"
             ],
             [
              0.7777777777777778,
              "#fb9f3a"
             ],
             [
              0.8888888888888888,
              "#fdca26"
             ],
             [
              1,
              "#f0f921"
             ]
            ],
            "type": "histogram2d"
           }
          ],
          "histogram2dcontour": [
           {
            "colorbar": {
             "outlinewidth": 0,
             "ticks": ""
            },
            "colorscale": [
             [
              0,
              "#0d0887"
             ],
             [
              0.1111111111111111,
              "#46039f"
             ],
             [
              0.2222222222222222,
              "#7201a8"
             ],
             [
              0.3333333333333333,
              "#9c179e"
             ],
             [
              0.4444444444444444,
              "#bd3786"
             ],
             [
              0.5555555555555556,
              "#d8576b"
             ],
             [
              0.6666666666666666,
              "#ed7953"
             ],
             [
              0.7777777777777778,
              "#fb9f3a"
             ],
             [
              0.8888888888888888,
              "#fdca26"
             ],
             [
              1,
              "#f0f921"
             ]
            ],
            "type": "histogram2dcontour"
           }
          ],
          "mesh3d": [
           {
            "colorbar": {
             "outlinewidth": 0,
             "ticks": ""
            },
            "type": "mesh3d"
           }
          ],
          "parcoords": [
           {
            "line": {
             "colorbar": {
              "outlinewidth": 0,
              "ticks": ""
             }
            },
            "type": "parcoords"
           }
          ],
          "pie": [
           {
            "automargin": true,
            "type": "pie"
           }
          ],
          "scatter": [
           {
            "fillpattern": {
             "fillmode": "overlay",
             "size": 10,
             "solidity": 0.2
            },
            "type": "scatter"
           }
          ],
          "scatter3d": [
           {
            "line": {
             "colorbar": {
              "outlinewidth": 0,
              "ticks": ""
             }
            },
            "marker": {
             "colorbar": {
              "outlinewidth": 0,
              "ticks": ""
             }
            },
            "type": "scatter3d"
           }
          ],
          "scattercarpet": [
           {
            "marker": {
             "colorbar": {
              "outlinewidth": 0,
              "ticks": ""
             }
            },
            "type": "scattercarpet"
           }
          ],
          "scattergeo": [
           {
            "marker": {
             "colorbar": {
              "outlinewidth": 0,
              "ticks": ""
             }
            },
            "type": "scattergeo"
           }
          ],
          "scattergl": [
           {
            "marker": {
             "colorbar": {
              "outlinewidth": 0,
              "ticks": ""
             }
            },
            "type": "scattergl"
           }
          ],
          "scattermapbox": [
           {
            "marker": {
             "colorbar": {
              "outlinewidth": 0,
              "ticks": ""
             }
            },
            "type": "scattermapbox"
           }
          ],
          "scatterpolar": [
           {
            "marker": {
             "colorbar": {
              "outlinewidth": 0,
              "ticks": ""
             }
            },
            "type": "scatterpolar"
           }
          ],
          "scatterpolargl": [
           {
            "marker": {
             "colorbar": {
              "outlinewidth": 0,
              "ticks": ""
             }
            },
            "type": "scatterpolargl"
           }
          ],
          "scatterternary": [
           {
            "marker": {
             "colorbar": {
              "outlinewidth": 0,
              "ticks": ""
             }
            },
            "type": "scatterternary"
           }
          ],
          "surface": [
           {
            "colorbar": {
             "outlinewidth": 0,
             "ticks": ""
            },
            "colorscale": [
             [
              0,
              "#0d0887"
             ],
             [
              0.1111111111111111,
              "#46039f"
             ],
             [
              0.2222222222222222,
              "#7201a8"
             ],
             [
              0.3333333333333333,
              "#9c179e"
             ],
             [
              0.4444444444444444,
              "#bd3786"
             ],
             [
              0.5555555555555556,
              "#d8576b"
             ],
             [
              0.6666666666666666,
              "#ed7953"
             ],
             [
              0.7777777777777778,
              "#fb9f3a"
             ],
             [
              0.8888888888888888,
              "#fdca26"
             ],
             [
              1,
              "#f0f921"
             ]
            ],
            "type": "surface"
           }
          ],
          "table": [
           {
            "cells": {
             "fill": {
              "color": "#EBF0F8"
             },
             "line": {
              "color": "white"
             }
            },
            "header": {
             "fill": {
              "color": "#C8D4E3"
             },
             "line": {
              "color": "white"
             }
            },
            "type": "table"
           }
          ]
         },
         "layout": {
          "annotationdefaults": {
           "arrowcolor": "#2a3f5f",
           "arrowhead": 0,
           "arrowwidth": 1
          },
          "autotypenumbers": "strict",
          "coloraxis": {
           "colorbar": {
            "outlinewidth": 0,
            "ticks": ""
           }
          },
          "colorscale": {
           "diverging": [
            [
             0,
             "#8e0152"
            ],
            [
             0.1,
             "#c51b7d"
            ],
            [
             0.2,
             "#de77ae"
            ],
            [
             0.3,
             "#f1b6da"
            ],
            [
             0.4,
             "#fde0ef"
            ],
            [
             0.5,
             "#f7f7f7"
            ],
            [
             0.6,
             "#e6f5d0"
            ],
            [
             0.7,
             "#b8e186"
            ],
            [
             0.8,
             "#7fbc41"
            ],
            [
             0.9,
             "#4d9221"
            ],
            [
             1,
             "#276419"
            ]
           ],
           "sequential": [
            [
             0,
             "#0d0887"
            ],
            [
             0.1111111111111111,
             "#46039f"
            ],
            [
             0.2222222222222222,
             "#7201a8"
            ],
            [
             0.3333333333333333,
             "#9c179e"
            ],
            [
             0.4444444444444444,
             "#bd3786"
            ],
            [
             0.5555555555555556,
             "#d8576b"
            ],
            [
             0.6666666666666666,
             "#ed7953"
            ],
            [
             0.7777777777777778,
             "#fb9f3a"
            ],
            [
             0.8888888888888888,
             "#fdca26"
            ],
            [
             1,
             "#f0f921"
            ]
           ],
           "sequentialminus": [
            [
             0,
             "#0d0887"
            ],
            [
             0.1111111111111111,
             "#46039f"
            ],
            [
             0.2222222222222222,
             "#7201a8"
            ],
            [
             0.3333333333333333,
             "#9c179e"
            ],
            [
             0.4444444444444444,
             "#bd3786"
            ],
            [
             0.5555555555555556,
             "#d8576b"
            ],
            [
             0.6666666666666666,
             "#ed7953"
            ],
            [
             0.7777777777777778,
             "#fb9f3a"
            ],
            [
             0.8888888888888888,
             "#fdca26"
            ],
            [
             1,
             "#f0f921"
            ]
           ]
          },
          "colorway": [
           "#636efa",
           "#EF553B",
           "#00cc96",
           "#ab63fa",
           "#FFA15A",
           "#19d3f3",
           "#FF6692",
           "#B6E880",
           "#FF97FF",
           "#FECB52"
          ],
          "font": {
           "color": "#2a3f5f"
          },
          "geo": {
           "bgcolor": "white",
           "lakecolor": "white",
           "landcolor": "#E5ECF6",
           "showlakes": true,
           "showland": true,
           "subunitcolor": "white"
          },
          "hoverlabel": {
           "align": "left"
          },
          "hovermode": "closest",
          "mapbox": {
           "style": "light"
          },
          "paper_bgcolor": "white",
          "plot_bgcolor": "#E5ECF6",
          "polar": {
           "angularaxis": {
            "gridcolor": "white",
            "linecolor": "white",
            "ticks": ""
           },
           "bgcolor": "#E5ECF6",
           "radialaxis": {
            "gridcolor": "white",
            "linecolor": "white",
            "ticks": ""
           }
          },
          "scene": {
           "xaxis": {
            "backgroundcolor": "#E5ECF6",
            "gridcolor": "white",
            "gridwidth": 2,
            "linecolor": "white",
            "showbackground": true,
            "ticks": "",
            "zerolinecolor": "white"
           },
           "yaxis": {
            "backgroundcolor": "#E5ECF6",
            "gridcolor": "white",
            "gridwidth": 2,
            "linecolor": "white",
            "showbackground": true,
            "ticks": "",
            "zerolinecolor": "white"
           },
           "zaxis": {
            "backgroundcolor": "#E5ECF6",
            "gridcolor": "white",
            "gridwidth": 2,
            "linecolor": "white",
            "showbackground": true,
            "ticks": "",
            "zerolinecolor": "white"
           }
          },
          "shapedefaults": {
           "line": {
            "color": "#2a3f5f"
           }
          },
          "ternary": {
           "aaxis": {
            "gridcolor": "white",
            "linecolor": "white",
            "ticks": ""
           },
           "baxis": {
            "gridcolor": "white",
            "linecolor": "white",
            "ticks": ""
           },
           "bgcolor": "#E5ECF6",
           "caxis": {
            "gridcolor": "white",
            "linecolor": "white",
            "ticks": ""
           }
          },
          "title": {
           "x": 0.05
          },
          "xaxis": {
           "automargin": true,
           "gridcolor": "white",
           "linecolor": "white",
           "ticks": "",
           "title": {
            "standoff": 15
           },
           "zerolinecolor": "white",
           "zerolinewidth": 2
          },
          "yaxis": {
           "automargin": true,
           "gridcolor": "white",
           "linecolor": "white",
           "ticks": "",
           "title": {
            "standoff": 15
           },
           "zerolinecolor": "white",
           "zerolinewidth": 2
          }
         }
        },
        "title": {
         "text": "Coherence over N-Topics"
        },
        "xaxis": {
         "anchor": "y",
         "domain": [
          0,
          1
         ],
         "title": {
          "text": "No. of Topics"
         }
        },
        "yaxis": {
         "anchor": "x",
         "domain": [
          0,
          1
         ],
         "title": {
          "text": "Coherence Metric"
         }
        }
       }
      }
     },
     "metadata": {},
     "output_type": "display_data"
    }
   ],
   "source": [
    "import plotly.graph_objects as go\n",
    "\n",
    "fig = px.line([x[1] for x in perp_coh], title='Coherence over N-Topics')\n",
    "fig.update_layout(xaxis_title=\"No. of Topics\", yaxis_title=\"Coherence Metric\", showlegend=False)\n",
    "fig.add_trace(go.Scatter(x=[7], y=[0.6222036], mode = 'markers',\n",
    "                         marker_symbol = 'star',\n",
    "                         marker_size = 10))\n",
    "fig.show()"
   ]
  },
  {
   "cell_type": "code",
   "execution_count": 36,
   "metadata": {},
   "outputs": [],
   "source": [
    "lda_model_tfidf_best = gensim.models.LdaModel(corpus=gensim.matutils.Sparse2Corpus(tfs), id2word=id2word, num_topics=7, random_state=41, chunksize=100, passes=10, alpha='auto', per_word_topics=True)"
   ]
  },
  {
   "cell_type": "code",
   "execution_count": 37,
   "metadata": {},
   "outputs": [
    {
     "name": "stdout",
     "output_type": "stream",
     "text": [
      "[(0,\n",
      "  '0.137*\"worry\" + 0.133*\"news\" + 0.115*\"congress\" + 0.100*\"wealthiest\" + '\n",
      "  '0.097*\"countries\" + 0.096*\"fem\" + 0.089*\"government\" + 0.067*\"pres\" + '\n",
      "  '0.048*\"phil\" + 0.035*\"research\"'),\n",
      " (1,\n",
      "  '0.111*\"ask\" + 0.109*\"grandchild\" + 0.089*\"madam\" + 0.087*\"read\" + '\n",
      "  '0.086*\"kept\" + 0.081*\"mainstream\" + 0.075*\"give\" + 0.067*\"bias\" + '\n",
      "  '0.065*\"reason\" + 0.063*\"keep\"'),\n",
      " (2,\n",
      "  '0.160*\"national\" + 0.094*\"7\" + 0.090*\"via\" + 0.089*\"comprehensively\" + '\n",
      "  '0.086*\"true\" + 0.078*\"media\" + 0.074*\"edralin\" + 0.067*\"ferdinand\" + '\n",
      "  '0.045*\"mang\" + 0.037*\"malakaniang\"'),\n",
      " (3,\n",
      "  '0.147*\"edsa\" + 0.111*\"implement\" + 0.108*\"–\" + 0.097*\"imelda\" + 0.096*\"1\" + '\n",
      "  '0.096*\"philippines✌️❤️🇵🇭\" + 0.073*\"suffer\" + 0.067*\"treasury\" + '\n",
      "  '0.051*\"late\" + 0.045*\"devine\"'),\n",
      " (4,\n",
      "  '0.297*\"foundation\" + 0.223*\"insist\" + 0.136*\"great\" + 0.102*\"humanitarian\" '\n",
      "  '+ 0.040*\"last\" + 0.038*\"heart\" + 0.024*\"bong\" + 0.023*\"people\" + '\n",
      "  '0.020*\"nation\" + 0.014*\"frm\"'),\n",
      " (5,\n",
      "  '0.103*\"longest\" + 0.086*\"testament\" + 0.081*\"video\" + 0.073*\"secret\" + '\n",
      "  '0.064*\"rely\" + 0.052*\"vote\" + 0.047*\"awaken\" + 0.045*\"help\" + 0.045*\"agony\" '\n",
      "  '+ 0.039*\"time\"'),\n",
      " (6,\n",
      "  '0.170*\"fake\" + 0.131*\"block\" + 0.090*\"go\" + 0.089*\"return\" + 0.078*\"bring\" '\n",
      "  '+ 0.077*\"please\" + 0.074*\"retrieve\" + 0.045*\"ferdie\" + 0.039*\"e\" + '\n",
      "  '0.037*\"wake\"')]\n"
     ]
    }
   ],
   "source": [
    "pprint(lda_model_tfidf_best.print_topics())"
   ]
  },
  {
   "cell_type": "code",
   "execution_count": 38,
   "metadata": {},
   "outputs": [
    {
     "data": {
      "text/plain": [
       "[(7, 4.025291075795535),\n",
       " (20, 4.025291075795535),\n",
       " (67, 4.025291075795535),\n",
       " (81, 4.025291075795535)]"
      ]
     },
     "execution_count": 38,
     "metadata": {},
     "output_type": "execute_result"
    }
   ],
   "source": [
    "gensim.matutils.Sparse2Corpus(tfs)[0]"
   ]
  },
  {
   "cell_type": "code",
   "execution_count": 39,
   "metadata": {},
   "outputs": [
    {
     "data": {
      "text/plain": [
       "0      [(3, 0.2483041), (4, 0.49580854), (6, 0.248582...\n",
       "1                                       [(4, 0.9686331)]\n",
       "2                                       [(6, 0.9684543)]\n",
       "3                                      [(4, 0.96863323)]\n",
       "4                                       [(3, 0.9675465)]\n",
       "                             ...                        \n",
       "97                                     [(4, 0.96863323)]\n",
       "98                                      [(5, 0.9729292)]\n",
       "99                                      [(5, 0.9729292)]\n",
       "100                                     [(5, 0.9729291)]\n",
       "101                                     [(5, 0.9729291)]\n",
       "Length: 102, dtype: object"
      ]
     },
     "execution_count": 39,
     "metadata": {},
     "output_type": "execute_result"
    }
   ],
   "source": [
    "topic_id_assign = pd.Series(map(lambda x: lda_model_tfidf_best.get_document_topics(gensim.matutils.Sparse2Corpus(tfs)[x]), range(tfs.shape[0])))\n",
    "topic_id_assign"
   ]
  },
  {
   "cell_type": "code",
   "execution_count": 40,
   "metadata": {},
   "outputs": [
    {
     "data": {
      "text/plain": [
       "1910"
      ]
     },
     "execution_count": 40,
     "metadata": {},
     "output_type": "execute_result"
    }
   ],
   "source": [
    "tfs.shape[1]"
   ]
  },
  {
   "cell_type": "code",
   "execution_count": 41,
   "metadata": {},
   "outputs": [
    {
     "data": {
      "text/plain": [
       "'statement last will testament frm former pres e marcos heart entire people phil'"
      ]
     },
     "execution_count": 41,
     "metadata": {},
     "output_type": "execute_result"
    }
   ],
   "source": [
    "df['working_tweet'].iloc[0]"
   ]
  },
  {
   "cell_type": "code",
   "execution_count": 42,
   "metadata": {},
   "outputs": [],
   "source": [
    "df['topic_id_assign'] = topic_id_assign"
   ]
  },
  {
   "cell_type": "code",
   "execution_count": 43,
   "metadata": {},
   "outputs": [
    {
     "data": {
      "text/plain": [
       "topic_id_assign\n",
       "[(6, 0.96845436)]                                     11\n",
       "[(3, 0.9675466)]                                      10\n",
       "[(4, 0.96863323)]                                      8\n",
       "[(1, 0.96955585)]                                      8\n",
       "[(5, 0.97292924)]                                      7\n",
       "[(2, 0.96862346)]                                      7\n",
       "[(0, 0.96778256)]                                      6\n",
       "[(3, 0.9675465)]                                       5\n",
       "[(4, 0.9686331)]                                       4\n",
       "[(6, 0.9684543)]                                       4\n",
       "[(1, 0.9695558)]                                       4\n",
       "[(5, 0.9729292)]                                       4\n",
       "[(0, 0.96778244)]                                      2\n",
       "[(0, 0.9677825)]                                       2\n",
       "[(2, 0.9686233)]                                       2\n",
       "[(5, 0.9729291)]                                       2\n",
       "[(0, 0.9821583)]                                       2\n",
       "[(3, 0.19909222), (4, 0.19936918), (5, 0.5968105)]     1\n",
       "[(5, 0.4949923), (6, 0.49252677)]                      1\n",
       "[(2, 0.7939053), (5, 0.20044895)]                      1\n",
       "[(2, 0.7939054), (5, 0.20044895)]                      1\n",
       "[(0, 0.9835953)]                                       1\n",
       "[(3, 0.98202765)]                                      1\n",
       "[(3, 0.9909231)]                                       1\n",
       "[(3, 0.9834752)]                                       1\n",
       "[(3, 0.9879381)]                                       1\n",
       "[(1, 0.49313438), (5, 0.49499467)]                     1\n",
       "[(2, 0.9686235)]                                       1\n",
       "[(0, 0.3302973), (6, 0.6594134)]                       1\n",
       "[(1, 0.33079842), (6, 0.6589286)]                      1\n",
       "[(3, 0.2483041), (4, 0.49580854), (6, 0.24858208)]     1\n",
       "Name: count, dtype: int64"
      ]
     },
     "execution_count": 43,
     "metadata": {},
     "output_type": "execute_result"
    }
   ],
   "source": [
    "df['topic_id_assign'] = topic_id_assign\n",
    "df['topic_id_assign'].value_counts()"
   ]
  },
  {
   "cell_type": "code",
   "execution_count": 44,
   "metadata": {},
   "outputs": [],
   "source": [
    "pd.set_option('display.max_colwidth', None)"
   ]
  },
  {
   "cell_type": "code",
   "execution_count": 45,
   "metadata": {},
   "outputs": [
    {
     "data": {
      "text/html": [
       "<div>\n",
       "<style scoped>\n",
       "    .dataframe tbody tr th:only-of-type {\n",
       "        vertical-align: middle;\n",
       "    }\n",
       "\n",
       "    .dataframe tbody tr th {\n",
       "        vertical-align: top;\n",
       "    }\n",
       "\n",
       "    .dataframe thead th {\n",
       "        text-align: right;\n",
       "    }\n",
       "</style>\n",
       "<table border=\"1\" class=\"dataframe\">\n",
       "  <thead>\n",
       "    <tr style=\"text-align: right;\">\n",
       "      <th></th>\n",
       "      <th>topic_id_assign</th>\n",
       "      <th>working_tweet</th>\n",
       "    </tr>\n",
       "  </thead>\n",
       "  <tbody>\n",
       "    <tr>\n",
       "      <th>11</th>\n",
       "      <td>[(0, 0.96778256)]</td>\n",
       "      <td>awaken truth great former president marcos last will testament please wake try research rely bias mainstream media 🤗</td>\n",
       "    </tr>\n",
       "  </tbody>\n",
       "</table>\n",
       "</div>"
      ],
      "text/plain": [
       "      topic_id_assign  \\\n",
       "11  [(0, 0.96778256)]   \n",
       "\n",
       "                                                                                                           working_tweet  \n",
       "11  awaken truth great former president marcos last will testament please wake try research rely bias mainstream media 🤗  "
      ]
     },
     "execution_count": 45,
     "metadata": {},
     "output_type": "execute_result"
    }
   ],
   "source": [
    "df.loc[df['working_tweet'].str.find('bias')!=-1, ['topic_id_assign','working_tweet']]"
   ]
  },
  {
   "cell_type": "code",
   "execution_count": 46,
   "metadata": {},
   "outputs": [
    {
     "data": {
      "text/html": [
       "<div>\n",
       "<style scoped>\n",
       "    .dataframe tbody tr th:only-of-type {\n",
       "        vertical-align: middle;\n",
       "    }\n",
       "\n",
       "    .dataframe tbody tr th {\n",
       "        vertical-align: top;\n",
       "    }\n",
       "\n",
       "    .dataframe thead th {\n",
       "        text-align: right;\n",
       "    }\n",
       "</style>\n",
       "<table border=\"1\" class=\"dataframe\">\n",
       "  <thead>\n",
       "    <tr style=\"text-align: right;\">\n",
       "      <th></th>\n",
       "      <th>topic_id_assign</th>\n",
       "      <th>working_tweet</th>\n",
       "    </tr>\n",
       "  </thead>\n",
       "  <tbody>\n",
       "    <tr>\n",
       "      <th>42</th>\n",
       "      <td>[(1, 0.96955585)]</td>\n",
       "      <td>ahhh hope last will testament marcos will fulfil elitists yellow people get</td>\n",
       "    </tr>\n",
       "    <tr>\n",
       "      <th>43</th>\n",
       "      <td>[(1, 0.96955585)]</td>\n",
       "      <td>fulfillment president marcos last will testament people via</td>\n",
       "    </tr>\n",
       "    <tr>\n",
       "      <th>55</th>\n",
       "      <td>[(1, 0.9695558)]</td>\n",
       "      <td>money give back 248 billion dollars interest different marcos money put world bank put last will testament give philippines 2020 say bank will give money philippines</td>\n",
       "    </tr>\n",
       "    <tr>\n",
       "      <th>56</th>\n",
       "      <td>[(1, 0.9695558)]</td>\n",
       "      <td>late pres ferdinand e marcos last will testament need mailplemented government pres fem will give lot money free 🙏🙏🙏 rich much hope filipinos will unite time deposit fully mature</td>\n",
       "    </tr>\n",
       "    <tr>\n",
       "      <th>59</th>\n",
       "      <td>[(1, 0.96955585)]</td>\n",
       "      <td>marcos foundation humanity really need elect bbm executive order president open bbm filipinos fem last will will fulfill late president people philippines</td>\n",
       "    </tr>\n",
       "    <tr>\n",
       "      <th>60</th>\n",
       "      <td>[(1, 0.96955585)]</td>\n",
       "      <td>father last will testament will fulfil country noble imelda marcos give long time watch news</td>\n",
       "    </tr>\n",
       "    <tr>\n",
       "      <th>71</th>\n",
       "      <td>[(1, 0.96955585)]</td>\n",
       "      <td>watch video mrs approve imelda marcos last will pres marcos sr cabinet state philippines will bequeath unimaginable wealth know yellowtards sign want put pocket</td>\n",
       "    </tr>\n",
       "    <tr>\n",
       "      <th>72</th>\n",
       "      <td>[(1, 0.96955585)]</td>\n",
       "      <td>fem corrupt evil hope put marcos humanitarian foundation last will testament cory allow implement time</td>\n",
       "    </tr>\n",
       "    <tr>\n",
       "      <th>73</th>\n",
       "      <td>[(1, 0.49313438), (5, 0.49499467)]</td>\n",
       "      <td>vote bong bong marcos president retrieve wealth philippines keep countries return back national treasury read last will testament late ferdinand marcos</td>\n",
       "    </tr>\n",
       "    <tr>\n",
       "      <th>75</th>\n",
       "      <td>[(1, 0.96955585)]</td>\n",
       "      <td>filipino future 1998 imelda marcos go senate beg help implement last will testament president ferdinand e marcos complete marcos humanitarian foundation</td>\n",
       "    </tr>\n",
       "    <tr>\n",
       "      <th>80</th>\n",
       "      <td>[(1, 0.9695558)]</td>\n",
       "      <td>cory one make false news marcos open eye false news haaayss hard like marcos last will testament philippines eh still want make aware eye</td>\n",
       "    </tr>\n",
       "    <tr>\n",
       "      <th>81</th>\n",
       "      <td>[(1, 0.9695558)]</td>\n",
       "      <td>1 real bongbong marcos according ferdinand edralin marcos died 1975 proclaimed hawaii 2 real bongbong marcos died 1975 according ferdinand edralin marcos last will testament</td>\n",
       "    </tr>\n",
       "    <tr>\n",
       "      <th>92</th>\n",
       "      <td>[(1, 0.33079842), (6, 0.6589286)]</td>\n",
       "      <td>90s imelda go congress execute last will fem marcos humanitarian foundation ignore elect politicians back demand case file really wait case 🤷🏻‍♀️</td>\n",
       "    </tr>\n",
       "    <tr>\n",
       "      <th>93</th>\n",
       "      <td>[(1, 0.96955585)]</td>\n",
       "      <td>present story last will testament former president ferdinand marcos hand bbm public watch full video click link 🡻🡻🡻</td>\n",
       "    </tr>\n",
       "  </tbody>\n",
       "</table>\n",
       "</div>"
      ],
      "text/plain": [
       "                       topic_id_assign  \\\n",
       "42                   [(1, 0.96955585)]   \n",
       "43                   [(1, 0.96955585)]   \n",
       "55                    [(1, 0.9695558)]   \n",
       "56                    [(1, 0.9695558)]   \n",
       "59                   [(1, 0.96955585)]   \n",
       "60                   [(1, 0.96955585)]   \n",
       "71                   [(1, 0.96955585)]   \n",
       "72                   [(1, 0.96955585)]   \n",
       "73  [(1, 0.49313438), (5, 0.49499467)]   \n",
       "75                   [(1, 0.96955585)]   \n",
       "80                    [(1, 0.9695558)]   \n",
       "81                    [(1, 0.9695558)]   \n",
       "92   [(1, 0.33079842), (6, 0.6589286)]   \n",
       "93                   [(1, 0.96955585)]   \n",
       "\n",
       "                                                                                                                                                                         working_tweet  \n",
       "42                                                                                                         ahhh hope last will testament marcos will fulfil elitists yellow people get  \n",
       "43                                                                                                                         fulfillment president marcos last will testament people via  \n",
       "55               money give back 248 billion dollars interest different marcos money put world bank put last will testament give philippines 2020 say bank will give money philippines  \n",
       "56  late pres ferdinand e marcos last will testament need mailplemented government pres fem will give lot money free 🙏🙏🙏 rich much hope filipinos will unite time deposit fully mature  \n",
       "59                          marcos foundation humanity really need elect bbm executive order president open bbm filipinos fem last will will fulfill late president people philippines  \n",
       "60                                                                                        father last will testament will fulfil country noble imelda marcos give long time watch news  \n",
       "71                    watch video mrs approve imelda marcos last will pres marcos sr cabinet state philippines will bequeath unimaginable wealth know yellowtards sign want put pocket  \n",
       "72                                                                              fem corrupt evil hope put marcos humanitarian foundation last will testament cory allow implement time  \n",
       "73                             vote bong bong marcos president retrieve wealth philippines keep countries return back national treasury read last will testament late ferdinand marcos  \n",
       "75                            filipino future 1998 imelda marcos go senate beg help implement last will testament president ferdinand e marcos complete marcos humanitarian foundation  \n",
       "80                                           cory one make false news marcos open eye false news haaayss hard like marcos last will testament philippines eh still want make aware eye  \n",
       "81       1 real bongbong marcos according ferdinand edralin marcos died 1975 proclaimed hawaii 2 real bongbong marcos died 1975 according ferdinand edralin marcos last will testament  \n",
       "92                                   90s imelda go congress execute last will fem marcos humanitarian foundation ignore elect politicians back demand case file really wait case 🤷🏻‍♀️  \n",
       "93                                                                 present story last will testament former president ferdinand marcos hand bbm public watch full video click link 🡻🡻🡻  "
      ]
     },
     "execution_count": 46,
     "metadata": {},
     "output_type": "execute_result"
    }
   ],
   "source": [
    "df.loc[df['topic_id_assign'].map(lambda x: 1 in [i[0] for i in x]), ['topic_id_assign','working_tweet']]"
   ]
  },
  {
   "cell_type": "code",
   "execution_count": 47,
   "metadata": {},
   "outputs": [
    {
     "data": {
      "text/html": [
       "\n",
       "<link rel=\"stylesheet\" type=\"text/css\" href=\"https://cdn.jsdelivr.net/gh/bmabey/pyLDAvis@3.4.0/pyLDAvis/js/ldavis.v1.0.0.css\">\n",
       "\n",
       "\n",
       "<div id=\"ldavis_el3127216998473633129303654765\" style=\"background-color:white;\"></div>\n",
       "<script type=\"text/javascript\">\n",
       "\n",
       "var ldavis_el3127216998473633129303654765_data = {\"mdsDat\": {\"x\": [-0.4379845838294314, 0.07550547809408169, 0.07161149223675078, 0.07813538549717958, 0.08086975391723449, 0.06487835952149464, 0.0669841145626899], \"y\": [-0.0068971575627623455, 0.10649444682527603, 0.07852275628955643, 0.11194995215977357, -0.42273713451706474, 0.06272803592103442, 0.06993910088418626], \"topics\": [1, 2, 3, 4, 5, 6, 7], \"cluster\": [1, 1, 1, 1, 1, 1, 1], \"Freq\": [24.888102800214522, 15.782141210641457, 12.93161897194048, 12.42404008505873, 11.48507435274586, 11.35937663475041, 11.129645944648546]}, \"tinfo\": {\"Term\": [\"foundation\", \"insist\", \"fake\", \"national\", \"edsa\", \"longest\", \"block\", \"great\", \"worry\", \"news\", \"ask\", \"grandchild\", \"testament\", \"congress\", \"video\", \"implement\", \"\\u2013\", \"madam\", \"humanitarian\", \"read\", \"kept\", \"secret\", \"7\", \"wealthiest\", \"imelda\", \"1\", \"philippines\\u270c\\ufe0f\\u2764\\ufe0f\\ud83c\\uddf5\\ud83c\\udded\", \"countries\", \"go\", \"fem\", \"longest\", \"testament\", \"video\", \"secret\", \"rely\", \"vote\", \"awaken\", \"help\", \"agony\", \"time\", \"back\", \"clear\", \"\\ud83e\\udd17\", \"truth\", \"fulfill\", \"try\", \"legacy\", \"correct\", \"earth\", \"reject\", \"statement\", \"say\", \"find\", \"fund\", \"im\", \"one\", \"project\", \"trustees\", \"use\", \"wrong\", \"richest\", \"sr\", \"philippines\", \"amp\", \"will\", \"accrue\", \"frm\", \"worry\", \"ask\", \"grandchild\", \"madam\", \"read\", \"kept\", \"mainstream\", \"give\", \"bias\", \"reason\", \"keep\", \"senate\", \"country\", \"amp\", \"find\", \"fund\", \"im\", \"one\", \"project\", \"trustees\", \"use\", \"wrong\", \"distribute\", \"hope\", \"like\", \"n\", \"something\", \"away\", \"filipinos\", \"gold\", \"stop\", \"richest\", \"sr\", \"phil\", \"philippines\", \"frm\", \"rely\", \"legacy\", \"bong\", \"media\", \"malakaniang\", \"suffer\", \"vote\", \"edralin\", \"return\", \"will\", \"accrue\", \"clear\", \"fake\", \"block\", \"go\", \"return\", \"bring\", \"please\", \"retrieve\", \"ferdie\", \"e\", \"wake\", \"tallano\", \"deposit\", \"clan\", \"filipino\", \"find\", \"fund\", \"im\", \"one\", \"project\", \"trustees\", \"use\", \"wrong\", \"distribute\", \"hope\", \"like\", \"n\", \"something\", \"away\", \"filipinos\", \"gold\", \"phil\", \"richest\", \"sr\", \"malakaniang\", \"philippines\", \"amp\", \"rely\", \"country\", \"entire\", \"legacy\", \"pfemarcos\", \"vote\", \"testament\", \"frm\", \"say\", \"nation\", \"national\", \"7\", \"via\", \"comprehensively\", \"true\", \"media\", \"edralin\", \"ferdinand\", \"mang\", \"malakaniang\", \"former\", \"hidden\", \"president\", \"entire\", \"philippines\", \"find\", \"fund\", \"im\", \"one\", \"project\", \"trustees\", \"use\", \"wrong\", \"distribute\", \"hope\", \"like\", \"n\", \"something\", \"away\", \"filipinos\", \"richest\", \"sr\", \"amp\", \"country\", \"longest\", \"awaken\", \"filipino\", \"frm\", \"pfemarcos\", \"return\", \"say\", \"fulfill\", \"try\", \"time\", \"give\", \"foundation\", \"insist\", \"great\", \"humanitarian\", \"last\", \"heart\", \"bong\", \"people\", \"nation\", \"frm\", \"wealth\", \"feed\", \"will\", \"accrue\", \"find\", \"fund\", \"im\", \"one\", \"project\", \"trustees\", \"use\", \"wrong\", \"distribute\", \"hope\", \"like\", \"n\", \"something\", \"away\", \"filipinos\", \"gold\", \"philippines\", \"richest\", \"sr\", \"phil\", \"say\", \"marcos\", \"awaken\", \"country\", \"amp\", \"clear\", \"entire\", \"worry\", \"return\", \"statement\", \"earth\", \"wake\", \"edsa\", \"implement\", \"\\u2013\", \"imelda\", \"philippines\\u270c\\ufe0f\\u2764\\ufe0f\\ud83c\\uddf5\\ud83c\\udded\", \"1\", \"suffer\", \"treasury\", \"late\", \"devine\", \"marcos\", \"richest\", \"sr\", \"find\", \"fund\", \"im\", \"one\", \"project\", \"trustees\", \"use\", \"wrong\", \"distribute\", \"hope\", \"like\", \"n\", \"something\", \"away\", \"filipinos\", \"gold\", \"stop\", \"philippines\", \"amp\", \"malakaniang\", \"country\", \"edralin\", \"phil\", \"say\", \"filipino\", \"worry\", \"awaken\", \"pfemarcos\", \"will\", \"accrue\", \"go\", \"feed\", \"rely\", \"entire\", \"worry\", \"news\", \"congress\", \"wealthiest\", \"countries\", \"fem\", \"government\", \"pres\", \"phil\", \"research\", \"pfemarcos\", \"find\", \"fund\", \"im\", \"one\", \"project\", \"trustees\", \"use\", \"wrong\", \"distribute\", \"hope\", \"like\", \"n\", \"something\", \"away\", \"filipinos\", \"gold\", \"stop\", \"yellow\", \"amazing\", \"richest\", \"sr\", \"philippines\", \"amp\", \"country\", \"malakaniang\", \"awaken\", \"bong\", \"reject\", \"rely\", \"entire\", \"say\", \"keep\", \"nation\", \"vote\", \"media\", \"president\", \"wake\", \"return\"], \"Freq\": [463.0, 347.0, 298.0, 269.0, 227.0, 348.0, 230.0, 212.0, 207.0, 201.0, 239.0, 233.0, 289.0, 174.0, 275.0, 171.0, 167.0, 191.0, 160.0, 187.0, 184.0, 245.0, 159.0, 150.0, 149.0, 149.0, 149.0, 147.0, 157.0, 146.0, 347.82733544353613, 288.88778837950144, 274.65958522294926, 244.82808856691693, 216.94469307083168, 176.50084320478993, 157.2130996953603, 153.32858814226685, 150.0163465305305, 132.0566540381051, 130.08710515560662, 125.87156031100155, 121.49749318917767, 120.63330567981468, 118.73402697026584, 118.73402697026584, 112.37270529334535, 100.93269978987664, 67.42507855718034, 64.97863805688421, 32.86639648661973, 32.48254127185712, 0.13674622765178354, 0.13674622765178354, 0.13674622765178354, 0.13674622765178354, 0.13674622765178354, 0.13674622765178354, 0.13674622765178354, 0.13674622765178354, 0.1378858439291324, 0.1378858439291324, 0.137582251192741, 0.13724334129026294, 0.13710784845412008, 0.13710784845412008, 0.13708500266230778, 0.13702774715937077, 238.1342152219791, 232.17134545388197, 190.33833084990897, 186.94842667010607, 184.1105695756309, 172.14490440930405, 160.98213140218547, 142.91348250928255, 138.01769567752567, 134.9806722765334, 108.7446122504093, 77.46539729582626, 64.6856880267329, 0.17410482290575707, 0.17410482290575707, 0.17410482290575707, 0.17410482290575707, 0.17410482290575707, 0.17410482290575707, 0.17410482290575707, 0.17410482290575707, 0.17410482290575707, 0.17410482290575707, 0.17410482290575707, 0.17410482290575707, 0.17410482290575707, 0.17410482290575707, 0.17410482290575707, 0.17410482290575707, 0.17410482290575707, 0.1749490228682168, 0.1749490228682168, 0.17480996883707606, 0.17462553289531355, 0.17452033644450982, 0.17449876526218208, 0.17445297898909423, 0.17445203029253908, 0.17443178106442753, 0.17440453325517144, 0.17438938521509414, 0.17435986675506673, 0.17435145290529072, 0.17435056641834576, 0.1743190728031953, 0.1743190728031953, 0.1743157290366485, 298.01222731332007, 229.32044961810448, 156.96545685899824, 156.1390630587712, 136.79622322737126, 134.51279311594476, 129.42954931743793, 77.9514165507383, 67.60468013308109, 65.45919328401783, 56.92847710979088, 47.123798600272615, 47.123798600272615, 46.886547541825806, 0.16666177049900413, 0.16666177049900413, 0.16666177049900413, 0.16666177049900413, 0.16666177049900413, 0.16666177049900413, 0.16666177049900413, 0.16666177049900413, 0.16666177049900413, 0.16666177049900413, 0.16666177049900413, 0.16666177049900413, 0.16666177049900413, 0.16666177049900413, 0.16666177049900413, 0.16666177049900413, 0.168445333264356, 0.16810711134841427, 0.16810711134841427, 0.16778047316034983, 0.16752140034654872, 0.16731268935075755, 0.1671760931141056, 0.16717418160785522, 0.16705469972383166, 0.16700237542607133, 0.16698713434956833, 0.1669266288050564, 0.1669221176503055, 0.1669220411900555, 0.16691388543005387, 0.1669099604705531, 269.0431485054274, 158.60960523120778, 151.5352399173649, 150.0948239273682, 145.10505183275274, 130.7178921336896, 124.25723908728088, 112.62249465887687, 75.30523580703645, 63.00873724551742, 61.882066482450675, 58.8998476110792, 50.285929811187636, 29.83836773972236, 20.68980866583317, 0.13330477641053778, 0.13330477641053778, 0.13330477641053778, 0.13330477641053778, 0.13330477641053778, 0.13330477641053778, 0.13330477641053778, 0.13330477641053778, 0.13330477641053778, 0.13330477641053778, 0.13330477641053778, 0.13330477641053778, 0.13330477641053778, 0.13330477641053778, 0.13330477641053778, 0.13446210019072083, 0.13446210019072083, 0.13395819518749666, 0.1338393995646218, 0.13381690883400021, 0.13371258465565158, 0.13364206391075215, 0.133536882709462, 0.1335367235480586, 0.13352804312997985, 0.13352547206115536, 0.1335212114328177, 0.1335212114328177, 0.13351712220906833, 0.13350290787142452, 462.199250139285, 346.3795757045008, 211.63220366996455, 159.30985796052073, 62.78983507942494, 59.640273773734435, 36.61770143913764, 36.1310431395103, 30.833857439256796, 21.556324609717134, 19.49153049211509, 16.58994862987623, 16.3443421400006, 16.3443421400006, 0.09826418595254913, 0.09826418595254913, 0.09826418595254913, 0.09826418595254913, 0.09826418595254913, 0.09826418595254913, 0.09826418595254913, 0.09826418595254913, 0.09826418595254913, 0.09826418595254913, 0.09826418595254913, 0.09826418595254913, 0.09826418595254913, 0.09826418595254913, 0.09826418595254913, 0.09826418595254913, 0.09955911073909232, 0.09925147923750134, 0.09925147923750134, 0.09876035082500588, 0.09866187388540311, 0.0986357974724799, 0.09863386211370825, 0.09862720719582681, 0.09860334908886409, 0.09853945961362473, 0.09852299208723442, 0.09848084427398528, 0.09847903341197672, 0.09847710937109264, 0.09847635107262656, 0.09847323865354934, 226.26790697892756, 170.84756464702667, 166.31201297887083, 148.83844712687747, 148.42644416082277, 148.42644416082277, 112.30513323340415, 103.01312120383355, 78.9249149604271, 69.43857045207041, 34.84372403747247, 10.014526711321562, 10.014526711321562, 0.18223584060800954, 0.18223584060800954, 0.18223584060800954, 0.18223584060800954, 0.18223584060800954, 0.18223584060800954, 0.18223584060800954, 0.18223584060800954, 0.18223584060800954, 0.18223584060800954, 0.18223584060800954, 0.18223584060800954, 0.18223584060800954, 0.18223584060800954, 0.18223584060800954, 0.18223584060800954, 0.18223584060800954, 0.1840109770424006, 0.18327338070281657, 0.1830167354154123, 0.18293889220310325, 0.18290148178959495, 0.1828879818019555, 0.18287226539843496, 0.18284806392805644, 0.18276019087418444, 0.18274579536497687, 0.18267531781756563, 0.1826539484341463, 0.1826539484341463, 0.18263676561405795, 0.18263167233513927, 0.1826275081598475, 0.18261255294965983, 206.86478036565916, 200.9146502540825, 173.23198218393048, 150.00404448264646, 146.63394528854874, 145.27849324577392, 133.80117583875162, 100.41779251298401, 72.77605529849438, 53.319158360013574, 26.480345944853557, 0.16006243769755346, 0.16006243769755346, 0.16006243769755346, 0.16006243769755346, 0.16006243769755346, 0.16006243769755346, 0.16006243769755346, 0.16006243769755346, 0.16006243769755346, 0.16006243769755346, 0.16006243769755346, 0.16006243769755346, 0.16006243769755346, 0.16006243769755346, 0.16006243769755346, 0.16006243769755346, 0.16006243769755346, 0.16006243769755346, 0.16006243769755346, 0.161744740999281, 0.161744740999281, 0.16138809550702882, 0.16109303327447885, 0.16067206261425634, 0.16066934264125438, 0.16066611815713105, 0.16050471846883585, 0.16048128063695988, 0.16047546779143146, 0.16044218102505636, 0.16040937683453646, 0.1604035310861088, 0.16039557955213124, 0.1603860486789912, 0.16036504566165732, 0.1603602747412708, 0.16032864408748965, 0.16032822731743288], \"Total\": [463.0, 347.0, 298.0, 269.0, 227.0, 348.0, 230.0, 212.0, 207.0, 201.0, 239.0, 233.0, 289.0, 174.0, 275.0, 171.0, 167.0, 191.0, 160.0, 187.0, 184.0, 245.0, 159.0, 150.0, 149.0, 149.0, 149.0, 147.0, 157.0, 146.0, 348.7432369475759, 289.80314829347213, 275.5748151074612, 245.74315522752607, 217.86137876641396, 177.41673515186645, 158.12974676329156, 154.24373694680835, 150.93134297085763, 132.97201862230182, 131.00219433956454, 126.78724896602186, 122.41255975231638, 121.5486266531066, 119.64944062540586, 119.64944062540586, 113.28843445959905, 101.84818326940382, 68.34048764552392, 65.89425414637792, 33.78213821376129, 33.3992260173127, 1.0513800617251947, 1.0513800617251947, 1.0513800617251947, 1.0513800617251947, 1.0513800617251947, 1.0513800617251947, 1.0513800617251947, 1.0513800617251947, 10.890927009894828, 10.890927009894828, 21.614496033556296, 65.56717201562758, 17.298945354109144, 17.298945354109144, 22.51119923250001, 207.75759501538755, 239.01219990129755, 233.04920622266917, 191.21583513253, 187.82614316514298, 184.98844748572293, 173.02248723999077, 161.86040765905813, 143.79150370682095, 138.8953071989698, 135.85881869763304, 109.62230497897308, 78.34566288003715, 65.56717201562758, 1.0513800617251947, 1.0513800617251947, 1.0513800617251947, 1.0513800617251947, 1.0513800617251947, 1.0513800617251947, 1.0513800617251947, 1.0513800617251947, 1.0513800617251947, 1.0513800617251947, 1.0513800617251947, 1.0513800617251947, 1.0513800617251947, 1.0513800617251947, 1.0513800617251947, 1.0513800617251947, 1.0513800617251947, 10.890927009894828, 10.890927009894828, 73.67123203521643, 21.614496033556296, 22.51119923250001, 217.86137876641396, 113.28843445959905, 37.57220867558639, 131.63688344132026, 63.929838605901864, 113.17510548509058, 177.41673515186645, 125.17686220934915, 157.02509855648344, 17.298945354109144, 17.298945354109144, 126.78724896602186, 298.8974959791415, 230.2053166456846, 157.85126082992863, 157.02509855648344, 137.68181107013402, 135.39802147356085, 130.31489916653325, 78.83667598878088, 68.48993050663596, 66.34488395419031, 57.81380457407721, 48.00878173900711, 48.00878173900711, 47.772390322348514, 1.0513800617251947, 1.0513800617251947, 1.0513800617251947, 1.0513800617251947, 1.0513800617251947, 1.0513800617251947, 1.0513800617251947, 1.0513800617251947, 1.0513800617251947, 1.0513800617251947, 1.0513800617251947, 1.0513800617251947, 1.0513800617251947, 1.0513800617251947, 1.0513800617251947, 1.0513800617251947, 73.67123203521643, 10.890927009894828, 10.890927009894828, 63.929838605901864, 21.614496033556296, 65.56717201562758, 217.86137876641396, 78.34566288003715, 30.758205585255922, 113.28843445959905, 27.373104981825893, 177.41673515186645, 289.80314829347213, 22.51119923250001, 33.3992260173127, 31.78822360647469, 269.9618491998927, 159.52853076210533, 152.45377986553666, 151.01322735368726, 146.02362107134522, 131.63688344132026, 125.17686220934915, 113.54129030727464, 76.22391103920013, 63.929838605901864, 62.801103690066086, 59.81809490093093, 51.204946963471734, 30.758205585255922, 21.614496033556296, 1.0513800617251947, 1.0513800617251947, 1.0513800617251947, 1.0513800617251947, 1.0513800617251947, 1.0513800617251947, 1.0513800617251947, 1.0513800617251947, 1.0513800617251947, 1.0513800617251947, 1.0513800617251947, 1.0513800617251947, 1.0513800617251947, 1.0513800617251947, 1.0513800617251947, 10.890927009894828, 10.890927009894828, 65.56717201562758, 78.34566288003715, 348.7432369475759, 158.12974676329156, 47.772390322348514, 22.51119923250001, 27.373104981825893, 157.02509855648344, 33.3992260173127, 119.64944062540586, 119.64944062540586, 132.97201862230182, 161.86040765905813, 463.15294456510026, 347.3332449833064, 212.585692323561, 160.2635852659472, 63.74358516435018, 60.593819387270244, 37.57220867558639, 37.084820830990225, 31.78822360647469, 22.51119923250001, 20.445357395949838, 17.544339384666774, 17.298945354109144, 17.298945354109144, 1.0513800617251947, 1.0513800617251947, 1.0513800617251947, 1.0513800617251947, 1.0513800617251947, 1.0513800617251947, 1.0513800617251947, 1.0513800617251947, 1.0513800617251947, 1.0513800617251947, 1.0513800617251947, 1.0513800617251947, 1.0513800617251947, 1.0513800617251947, 1.0513800617251947, 1.0513800617251947, 21.614496033556296, 10.890927009894828, 10.890927009894828, 73.67123203521643, 33.3992260173127, 35.71388250082358, 158.12974676329156, 78.34566288003715, 65.56717201562758, 126.78724896602186, 30.758205585255922, 207.75759501538755, 157.02509855648344, 33.78213821376129, 68.34048764552392, 66.34488395419031, 227.13741161345897, 171.71731664555014, 167.1818723716286, 149.7083522225746, 149.2962069966153, 149.2962069966153, 113.17510548509058, 103.88264618308511, 79.79426784576398, 70.30828147977063, 35.71388250082358, 10.890927009894828, 10.890927009894828, 1.0513800617251947, 1.0513800617251947, 1.0513800617251947, 1.0513800617251947, 1.0513800617251947, 1.0513800617251947, 1.0513800617251947, 1.0513800617251947, 1.0513800617251947, 1.0513800617251947, 1.0513800617251947, 1.0513800617251947, 1.0513800617251947, 1.0513800617251947, 1.0513800617251947, 1.0513800617251947, 1.0513800617251947, 21.614496033556296, 65.56717201562758, 63.929838605901864, 78.34566288003715, 125.17686220934915, 73.67123203521643, 33.3992260173127, 47.772390322348514, 207.75759501538755, 158.12974676329156, 27.373104981825893, 17.298945354109144, 17.298945354109144, 157.85126082992863, 17.544339384666774, 217.86137876641396, 30.758205585255922, 207.75759501538755, 201.806847811277, 174.1237212251604, 150.89573960557377, 147.5260633670531, 146.17018808219066, 134.69296489916817, 101.30949293820844, 73.67123203521643, 54.21106821332951, 27.373104981825893, 1.0513800617251947, 1.0513800617251947, 1.0513800617251947, 1.0513800617251947, 1.0513800617251947, 1.0513800617251947, 1.0513800617251947, 1.0513800617251947, 1.0513800617251947, 1.0513800617251947, 1.0513800617251947, 1.0513800617251947, 1.0513800617251947, 1.0513800617251947, 1.0513800617251947, 1.0513800617251947, 1.0513800617251947, 1.0513800617251947, 1.0513800617251947, 10.890927009894828, 10.890927009894828, 21.614496033556296, 65.56717201562758, 78.34566288003715, 63.929838605901864, 158.12974676329156, 37.57220867558639, 65.89425414637792, 217.86137876641396, 30.758205585255922, 33.3992260173127, 135.85881869763304, 31.78822360647469, 177.41673515186645, 131.63688344132026, 51.204946963471734, 66.34488395419031, 157.02509855648344], \"Category\": [\"Default\", \"Default\", \"Default\", \"Default\", \"Default\", \"Default\", \"Default\", \"Default\", \"Default\", \"Default\", \"Default\", \"Default\", \"Default\", \"Default\", \"Default\", \"Default\", \"Default\", \"Default\", \"Default\", \"Default\", \"Default\", \"Default\", \"Default\", \"Default\", \"Default\", \"Default\", \"Default\", \"Default\", \"Default\", \"Default\", \"Topic1\", \"Topic1\", \"Topic1\", \"Topic1\", \"Topic1\", \"Topic1\", \"Topic1\", \"Topic1\", \"Topic1\", \"Topic1\", \"Topic1\", \"Topic1\", \"Topic1\", \"Topic1\", \"Topic1\", \"Topic1\", \"Topic1\", \"Topic1\", \"Topic1\", \"Topic1\", \"Topic1\", \"Topic1\", \"Topic1\", \"Topic1\", \"Topic1\", \"Topic1\", \"Topic1\", \"Topic1\", \"Topic1\", \"Topic1\", \"Topic1\", \"Topic1\", \"Topic1\", \"Topic1\", \"Topic1\", \"Topic1\", \"Topic1\", \"Topic1\", \"Topic2\", \"Topic2\", \"Topic2\", \"Topic2\", \"Topic2\", \"Topic2\", \"Topic2\", \"Topic2\", \"Topic2\", \"Topic2\", \"Topic2\", \"Topic2\", \"Topic2\", \"Topic2\", \"Topic2\", \"Topic2\", \"Topic2\", \"Topic2\", \"Topic2\", \"Topic2\", \"Topic2\", \"Topic2\", \"Topic2\", \"Topic2\", \"Topic2\", \"Topic2\", \"Topic2\", \"Topic2\", \"Topic2\", \"Topic2\", \"Topic2\", \"Topic2\", \"Topic2\", \"Topic2\", \"Topic2\", \"Topic2\", \"Topic2\", \"Topic2\", \"Topic2\", \"Topic2\", \"Topic2\", \"Topic2\", \"Topic2\", \"Topic2\", \"Topic2\", \"Topic2\", \"Topic2\", \"Topic3\", \"Topic3\", \"Topic3\", \"Topic3\", \"Topic3\", \"Topic3\", \"Topic3\", \"Topic3\", \"Topic3\", \"Topic3\", \"Topic3\", \"Topic3\", \"Topic3\", \"Topic3\", \"Topic3\", \"Topic3\", \"Topic3\", \"Topic3\", \"Topic3\", \"Topic3\", \"Topic3\", \"Topic3\", \"Topic3\", \"Topic3\", \"Topic3\", \"Topic3\", \"Topic3\", \"Topic3\", \"Topic3\", \"Topic3\", \"Topic3\", \"Topic3\", \"Topic3\", \"Topic3\", \"Topic3\", \"Topic3\", \"Topic3\", \"Topic3\", \"Topic3\", \"Topic3\", \"Topic3\", \"Topic3\", \"Topic3\", \"Topic3\", \"Topic3\", \"Topic3\", \"Topic4\", \"Topic4\", \"Topic4\", \"Topic4\", \"Topic4\", \"Topic4\", \"Topic4\", \"Topic4\", \"Topic4\", \"Topic4\", \"Topic4\", \"Topic4\", \"Topic4\", \"Topic4\", \"Topic4\", \"Topic4\", \"Topic4\", \"Topic4\", \"Topic4\", \"Topic4\", \"Topic4\", \"Topic4\", \"Topic4\", \"Topic4\", \"Topic4\", \"Topic4\", \"Topic4\", \"Topic4\", \"Topic4\", \"Topic4\", \"Topic4\", \"Topic4\", \"Topic4\", \"Topic4\", \"Topic4\", \"Topic4\", \"Topic4\", \"Topic4\", \"Topic4\", \"Topic4\", \"Topic4\", \"Topic4\", \"Topic4\", \"Topic4\", \"Topic4\", \"Topic5\", \"Topic5\", \"Topic5\", \"Topic5\", \"Topic5\", \"Topic5\", \"Topic5\", \"Topic5\", \"Topic5\", \"Topic5\", \"Topic5\", \"Topic5\", \"Topic5\", \"Topic5\", \"Topic5\", \"Topic5\", \"Topic5\", \"Topic5\", \"Topic5\", \"Topic5\", \"Topic5\", \"Topic5\", \"Topic5\", \"Topic5\", \"Topic5\", \"Topic5\", \"Topic5\", \"Topic5\", \"Topic5\", \"Topic5\", \"Topic5\", \"Topic5\", \"Topic5\", \"Topic5\", \"Topic5\", \"Topic5\", \"Topic5\", \"Topic5\", \"Topic5\", \"Topic5\", \"Topic5\", \"Topic5\", \"Topic5\", \"Topic5\", \"Topic5\", \"Topic5\", \"Topic6\", \"Topic6\", \"Topic6\", \"Topic6\", \"Topic6\", \"Topic6\", \"Topic6\", \"Topic6\", \"Topic6\", \"Topic6\", \"Topic6\", \"Topic6\", \"Topic6\", \"Topic6\", \"Topic6\", \"Topic6\", \"Topic6\", \"Topic6\", \"Topic6\", \"Topic6\", \"Topic6\", \"Topic6\", \"Topic6\", \"Topic6\", \"Topic6\", \"Topic6\", \"Topic6\", \"Topic6\", \"Topic6\", \"Topic6\", \"Topic6\", \"Topic6\", \"Topic6\", \"Topic6\", \"Topic6\", \"Topic6\", \"Topic6\", \"Topic6\", \"Topic6\", \"Topic6\", \"Topic6\", \"Topic6\", \"Topic6\", \"Topic6\", \"Topic6\", \"Topic6\", \"Topic6\", \"Topic7\", \"Topic7\", \"Topic7\", \"Topic7\", \"Topic7\", \"Topic7\", \"Topic7\", \"Topic7\", \"Topic7\", \"Topic7\", \"Topic7\", \"Topic7\", \"Topic7\", \"Topic7\", \"Topic7\", \"Topic7\", \"Topic7\", \"Topic7\", \"Topic7\", \"Topic7\", \"Topic7\", \"Topic7\", \"Topic7\", \"Topic7\", \"Topic7\", \"Topic7\", \"Topic7\", \"Topic7\", \"Topic7\", \"Topic7\", \"Topic7\", \"Topic7\", \"Topic7\", \"Topic7\", \"Topic7\", \"Topic7\", \"Topic7\", \"Topic7\", \"Topic7\", \"Topic7\", \"Topic7\", \"Topic7\", \"Topic7\", \"Topic7\", \"Topic7\", \"Topic7\", \"Topic7\", \"Topic7\", \"Topic7\"], \"logprob\": [30.0, 29.0, 28.0, 27.0, 26.0, 25.0, 24.0, 23.0, 22.0, 21.0, 20.0, 19.0, 18.0, 17.0, 16.0, 15.0, 14.0, 13.0, 12.0, 11.0, 10.0, 9.0, 8.0, 7.0, 6.0, 5.0, 4.0, 3.0, 2.0, 1.0, -2.2712, -2.4569, -2.5074, -2.6223, -2.7433, -2.9496, -3.0653, -3.0903, -3.1122, -3.2397, -3.2547, -3.2876, -3.323, -3.3302, -3.346, -3.346, -3.4011, -3.5085, -3.9119, -3.9488, -4.6305, -4.6422, -10.1125, -10.1125, -10.1125, -10.1125, -10.1125, -10.1125, -10.1125, -10.1125, -10.1042, -10.1042, -10.1064, -10.1089, -10.1099, -10.1099, -10.1101, -10.1105, -2.1946, -2.2199, -2.4186, -2.4366, -2.4519, -2.5191, -2.5861, -2.7052, -2.74, -2.7623, -2.9784, -3.3176, -3.4979, -9.4155, -9.4155, -9.4155, -9.4155, -9.4155, -9.4155, -9.4155, -9.4155, -9.4155, -9.4155, -9.4155, -9.4155, -9.4155, -9.4155, -9.4155, -9.4155, -9.4155, -9.4107, -9.4107, -9.4115, -9.4125, -9.4131, -9.4132, -9.4135, -9.4135, -9.4136, -9.4138, -9.4139, -9.414, -9.4141, -9.4141, -9.4143, -9.4143, -9.4143, -1.7711, -2.0331, -2.4122, -2.4174, -2.5497, -2.5665, -2.6051, -3.1121, -3.2545, -3.2868, -3.4264, -3.6154, -3.6154, -3.6205, -9.26, -9.26, -9.26, -9.26, -9.26, -9.26, -9.26, -9.26, -9.26, -9.26, -9.26, -9.26, -9.26, -9.26, -9.26, -9.26, -9.2493, -9.2513, -9.2513, -9.2533, -9.2548, -9.2561, -9.2569, -9.2569, -9.2576, -9.2579, -9.258, -9.2584, -9.2584, -9.2584, -9.2585, -9.2585, -1.8333, -2.3617, -2.4073, -2.4169, -2.4507, -2.5551, -2.6058, -2.7041, -3.1066, -3.2849, -3.3029, -3.3523, -3.5104, -4.0324, -4.3985, -9.4433, -9.4433, -9.4433, -9.4433, -9.4433, -9.4433, -9.4433, -9.4433, -9.4433, -9.4433, -9.4433, -9.4433, -9.4433, -9.4433, -9.4433, -9.4346, -9.4346, -9.4384, -9.4393, -9.4394, -9.4402, -9.4407, -9.4415, -9.4415, -9.4416, -9.4416, -9.4416, -9.4416, -9.4417, -9.4418, -1.2136, -1.502, -1.9947, -2.2787, -3.2098, -3.2612, -3.749, -3.7624, -3.921, -4.2789, -4.3796, -4.5408, -4.5557, -4.5557, -9.6697, -9.6697, -9.6697, -9.6697, -9.6697, -9.6697, -9.6697, -9.6697, -9.6697, -9.6697, -9.6697, -9.6697, -9.6697, -9.6697, -9.6697, -9.6697, -9.6566, -9.6597, -9.6597, -9.6646, -9.6656, -9.6659, -9.6659, -9.666, -9.6662, -9.6669, -9.667, -9.6675, -9.6675, -9.6675, -9.6675, -9.6675, -1.9168, -2.1978, -2.2247, -2.3357, -2.3385, -2.3385, -2.6173, -2.7037, -2.9701, -3.0981, -3.7877, -5.0345, -5.0345, -9.041, -9.041, -9.041, -9.041, -9.041, -9.041, -9.041, -9.041, -9.041, -9.041, -9.041, -9.041, -9.041, -9.041, -9.041, -9.041, -9.041, -9.0313, -9.0353, -9.0367, -9.0372, -9.0374, -9.0374, -9.0375, -9.0377, -9.0381, -9.0382, -9.0386, -9.0387, -9.0387, -9.0388, -9.0388, -9.0389, -9.0389, -1.9861, -2.0152, -2.1635, -2.3075, -2.3302, -2.3395, -2.4218, -2.7088, -3.0307, -3.3418, -4.0417, -9.1503, -9.1503, -9.1503, -9.1503, -9.1503, -9.1503, -9.1503, -9.1503, -9.1503, -9.1503, -9.1503, -9.1503, -9.1503, -9.1503, -9.1503, -9.1503, -9.1503, -9.1503, -9.1503, -9.1399, -9.1399, -9.1421, -9.1439, -9.1465, -9.1465, -9.1466, -9.1476, -9.1477, -9.1477, -9.1479, -9.1482, -9.1482, -9.1482, -9.1483, -9.1484, -9.1485, -9.1487, -9.1487], \"loglift\": [30.0, 29.0, 28.0, 27.0, 26.0, 25.0, 24.0, 23.0, 22.0, 21.0, 20.0, 19.0, 18.0, 17.0, 16.0, 15.0, 14.0, 13.0, 12.0, 11.0, 10.0, 9.0, 8.0, 7.0, 6.0, 5.0, 4.0, 3.0, 2.0, 1.0, 1.3882, 1.3876, 1.3875, 1.387, 1.3866, 1.3856, 1.385, 1.3848, 1.3847, 1.3839, 1.3838, 1.3835, 1.3833, 1.3832, 1.3831, 1.3831, 1.3827, 1.3818, 1.3773, 1.3768, 1.3633, 1.363, -0.649, -0.649, -0.649, -0.649, -0.649, -0.649, -0.649, -0.649, -2.9785, -2.9785, -3.6661, -4.7783, -3.4469, -3.4469, -3.7104, -5.9332, 1.8426, 1.8425, 1.8417, 1.8416, 1.8415, 1.8412, 1.8409, 1.8402, 1.84, 1.8398, 1.8383, 1.835, 1.8328, 0.0481, 0.0481, 0.0481, 0.0481, 0.0481, 0.0481, 0.0481, 0.0481, 0.0481, 0.0481, 0.0481, 0.0481, 0.0481, 0.0481, 0.0481, 0.0481, 0.0481, -2.2849, -2.2849, -4.1974, -2.9722, -3.0134, -5.2834, -4.6297, -3.5261, -4.78, -4.0579, -4.6291, -5.0788, -4.7301, -4.9568, -2.7512, -2.7512, -4.7431, 2.0425, 2.0416, 2.0399, 2.0398, 2.039, 2.0389, 2.0387, 2.0342, 2.0325, 2.0321, 2.0301, 2.0269, 2.0269, 2.0268, 0.2036, 0.2036, 0.2036, 0.2036, 0.2036, 0.2036, 0.2036, 0.2036, 0.2036, 0.2036, 0.2036, 0.2036, 0.2036, 0.2036, 0.2036, 0.2036, -4.0353, -2.1256, -2.1256, -3.8974, -2.8145, -3.9255, -5.1271, -4.1044, -3.1701, -4.4742, -3.0539, -4.9232, -5.4139, -2.8587, -3.2533, -3.2039, 2.0821, 2.0798, 2.0795, 2.0794, 2.0792, 2.0785, 2.0782, 2.0774, 2.0734, 2.071, 2.0708, 2.0701, 2.0674, 2.0552, 2.0418, 0.0203, 0.0203, 0.0203, 0.0203, 0.0203, 0.0203, 0.0203, 0.0203, 0.0203, 0.0203, 0.0203, 0.0203, 0.0203, 0.0203, 0.0203, -2.3089, -2.3089, -4.1078, -4.2867, -5.7801, -4.9899, -3.7935, -3.0419, -3.2374, -4.9843, -3.4365, -4.7125, -4.7125, -4.8181, -5.0148, 2.1621, 2.1614, 2.1596, 2.1582, 2.149, 2.1483, 2.1384, 2.1381, 2.1336, 2.1208, 2.1163, 2.1082, 2.1074, 2.1074, -0.2061, -0.2061, -0.2061, -0.2061, -0.2061, -0.2061, -0.2061, -0.2061, -0.2061, -0.2061, -0.2061, -0.2061, -0.2061, -0.2061, -0.2061, -0.2061, -3.2162, -2.5339, -2.5339, -4.4505, -3.6605, -3.7277, -5.2156, -4.5134, -4.3356, -4.9957, -3.5795, -5.4901, -5.2102, -3.6737, -4.3783, -4.3487, 2.1713, 2.17, 2.1699, 2.1693, 2.1693, 2.1693, 2.1674, 2.1667, 2.1642, 2.1627, 2.1505, 2.0912, 2.0912, 0.4226, 0.4226, 0.4226, 0.4226, 0.4226, 0.4226, 0.4226, 0.4226, 0.4226, 0.4226, 0.4226, 0.4226, 0.4226, 0.4226, 0.4226, 0.4226, 0.4226, -2.591, -3.7047, -3.6808, -3.8846, -4.3534, -3.8234, -3.0324, -3.3904, -4.8608, -4.5879, -2.8345, -2.3757, -2.3757, -4.5868, -2.3899, -4.909, -2.9514, 2.1913, 2.1911, 2.1904, 2.1896, 2.1895, 2.1894, 2.1889, 2.1867, 2.1833, 2.179, 2.1624, 0.3133, 0.3133, 0.3133, 0.3133, 0.3133, 0.3133, 0.3133, 0.3133, 0.3133, 0.3133, 0.3133, 0.3133, 0.3133, 0.3133, 0.3133, 0.3133, 0.3133, 0.3133, 0.3133, -2.0141, -2.0141, -2.7017, -3.8133, -3.994, -3.7906, -4.6963, -3.2601, -3.8221, -5.0179, -3.0604, -3.143, -4.5461, -3.0937, -4.8131, -4.5148, -3.5706, -3.8298, -4.6914]}, \"token.table\": {\"Topic\": [6, 4, 5, 1, 2, 2, 1, 1, 2, 3, 5, 3, 3, 1, 4, 7, 1, 7, 2, 3, 6, 3, 1, 4, 6, 4, 3, 5, 7, 3, 4, 3, 4, 5, 5, 1, 2, 3, 7, 2, 5, 5, 1, 4, 5, 6, 6, 5, 2, 2, 5, 6, 1, 1, 2, 2, 4, 4, 6, 4, 5, 4, 7, 5, 7, 7, 4, 6, 3, 7, 4, 2, 2, 1, 1, 7, 3, 3, 6, 1, 1, 2, 6, 1, 6, 3, 1, 1, 6, 4, 1, 1, 4, 1, 1, 3, 5, 7, 5, 7, 6, 1], \"Freq\": [0.9913178839389759, 0.9966869201416172, 0.9249118759832029, 0.9938293600750809, 0.9913497563156698, 0.9957650701440531, 0.9928555709067016, 0.9923497896762951, 0.9944954765308335, 0.9947641667740466, 0.9847704275112739, 0.9950479219815992, 0.9789875580577901, 0.9937907875402135, 0.9932904728185553, 0.9935464208020955, 0.9916720824841789, 0.9964340987955178, 0.9828240284073206, 0.9789875580577901, 0.9813922136591113, 0.992846678292534, 0.9803851612461867, 0.9905984046206484, 0.9949924074357481, 0.9753494857444034, 0.9969973118168773, 0.9689735034912451, 0.9919943451018023, 0.9893872239248145, 0.9952326567206542, 0.9838318677977648, 0.9872437960004705, 0.9975106612650755, 0.9772913372041957, 0.9945721382230353, 0.9946842611389533, 0.9946071965123814, 0.9948552257373877, 0.9954979197755057, 0.9972449118416231, 0.9902000007051049, 0.9919365481449839, 0.9863236216016936, 0.9921155809421688, 0.9952684522135312, 0.9958226889427186, 0.996161481797199, 0.9936785943977298, 0.9946567069503126, 0.988334745175801, 0.9900460538431252, 0.9886269550308021, 0.9978688133020696, 0.9936415562461796, 0.9940904372818746, 0.985455326868039, 0.9839432138483329, 0.9800110643023167, 0.9951618161667876, 0.9752039114788993, 0.9964370921197072, 0.9960018809072745, 0.97074757793939, 0.9498374414324735, 0.9908888175659181, 0.9715701891636845, 0.9913178839389759, 0.9970603597509837, 0.9870743313362832, 0.9764681532756725, 0.9956015539092627, 0.993554086044914, 0.9864289510828756, 0.9960462071281688, 0.9776601300575049, 0.9899098324524435, 0.9934717534591153, 0.9181954842700363, 0.9581060346551923, 0.9969758863605458, 0.9943231901656105, 0.9181954842700363, 0.9768475811444438, 0.9896169260894094, 0.9859236979805667, 0.9972286419309054, 0.9926900513929718, 0.991503429922939, 0.9929900309016094, 0.9954863607412666, 0.9945721382230353, 0.9970234921958846, 0.9979141232219024, 0.9976510944612428, 0.9797288973311202, 0.9293063276929481, 0.9940638509217349, 0.9249118759832029, 0.9963534665708301, 0.9929306188831202, 0.9884606632262696], \"Term\": [\"1\", \"7\", \"accrue\", \"agony\", \"amp\", \"ask\", \"awaken\", \"back\", \"bias\", \"block\", \"bong\", \"bring\", \"clan\", \"clear\", \"comprehensively\", \"congress\", \"correct\", \"countries\", \"country\", \"deposit\", \"devine\", \"e\", \"earth\", \"edralin\", \"edsa\", \"entire\", \"fake\", \"feed\", \"fem\", \"ferdie\", \"ferdinand\", \"filipino\", \"former\", \"foundation\", \"frm\", \"fulfill\", \"give\", \"go\", \"government\", \"grandchild\", \"great\", \"heart\", \"help\", \"hidden\", \"humanitarian\", \"imelda\", \"implement\", \"insist\", \"keep\", \"kept\", \"last\", \"late\", \"legacy\", \"longest\", \"madam\", \"mainstream\", \"malakaniang\", \"mang\", \"marcos\", \"media\", \"nation\", \"national\", \"news\", \"people\", \"pfemarcos\", \"phil\", \"philippines\", \"philippines\\u270c\\ufe0f\\u2764\\ufe0f\\ud83c\\uddf5\\ud83c\\udded\", \"please\", \"pres\", \"president\", \"read\", \"reason\", \"reject\", \"rely\", \"research\", \"retrieve\", \"return\", \"richest\", \"say\", \"secret\", \"senate\", \"sr\", \"statement\", \"suffer\", \"tallano\", \"testament\", \"time\", \"treasury\", \"true\", \"truth\", \"try\", \"via\", \"video\", \"vote\", \"wake\", \"wealth\", \"wealthiest\", \"will\", \"worry\", \"\\u2013\", \"\\ud83e\\udd17\"]}, \"R\": 30, \"lambda.step\": 0.01, \"plot.opts\": {\"xlab\": \"PC1\", \"ylab\": \"PC2\"}, \"topic.order\": [6, 2, 7, 3, 5, 4, 1]};\n",
       "\n",
       "function LDAvis_load_lib(url, callback){\n",
       "  var s = document.createElement('script');\n",
       "  s.src = url;\n",
       "  s.async = true;\n",
       "  s.onreadystatechange = s.onload = callback;\n",
       "  s.onerror = function(){console.warn(\"failed to load library \" + url);};\n",
       "  document.getElementsByTagName(\"head\")[0].appendChild(s);\n",
       "}\n",
       "\n",
       "if(typeof(LDAvis) !== \"undefined\"){\n",
       "   // already loaded: just create the visualization\n",
       "   !function(LDAvis){\n",
       "       new LDAvis(\"#\" + \"ldavis_el3127216998473633129303654765\", ldavis_el3127216998473633129303654765_data);\n",
       "   }(LDAvis);\n",
       "}else if(typeof define === \"function\" && define.amd){\n",
       "   // require.js is available: use it to load d3/LDAvis\n",
       "   require.config({paths: {d3: \"https://d3js.org/d3.v5\"}});\n",
       "   require([\"d3\"], function(d3){\n",
       "      window.d3 = d3;\n",
       "      LDAvis_load_lib(\"https://cdn.jsdelivr.net/gh/bmabey/pyLDAvis@3.4.0/pyLDAvis/js/ldavis.v3.0.0.js\", function(){\n",
       "        new LDAvis(\"#\" + \"ldavis_el3127216998473633129303654765\", ldavis_el3127216998473633129303654765_data);\n",
       "      });\n",
       "    });\n",
       "}else{\n",
       "    // require.js not available: dynamically load d3 & LDAvis\n",
       "    LDAvis_load_lib(\"https://d3js.org/d3.v5.js\", function(){\n",
       "         LDAvis_load_lib(\"https://cdn.jsdelivr.net/gh/bmabey/pyLDAvis@3.4.0/pyLDAvis/js/ldavis.v3.0.0.js\", function(){\n",
       "                 new LDAvis(\"#\" + \"ldavis_el3127216998473633129303654765\", ldavis_el3127216998473633129303654765_data);\n",
       "            })\n",
       "         });\n",
       "}\n",
       "</script>"
      ],
      "text/plain": [
       "PreparedData(topic_coordinates=              x         y  topics  cluster       Freq\n",
       "topic                                                \n",
       "5     -0.437985 -0.006897       1        1  24.888103\n",
       "1      0.075505  0.106494       2        1  15.782141\n",
       "6      0.071611  0.078523       3        1  12.931619\n",
       "2      0.078135  0.111950       4        1  12.424040\n",
       "4      0.080870 -0.422737       5        1  11.485074\n",
       "3      0.064878  0.062728       6        1  11.359377\n",
       "0      0.066984  0.069939       7        1  11.129646, topic_info=          Term        Freq       Total Category  logprob  loglift\n",
       "51  foundation  463.000000  463.000000  Default  30.0000  30.0000\n",
       "56      insist  347.000000  347.000000  Default  29.0000  29.0000\n",
       "49        fake  298.000000  298.000000  Default  28.0000  28.0000\n",
       "82    national  269.000000  269.000000  Default  27.0000  27.0000\n",
       "97        edsa  227.000000  227.000000  Default  26.0000  26.0000\n",
       "..         ...         ...         ...      ...      ...      ...\n",
       "87        vote    0.160386  177.416735   Topic7  -9.1483  -4.8131\n",
       "69       media    0.160365  131.636883   Topic7  -9.1484  -4.5148\n",
       "23   president    0.160360   51.204947   Topic7  -9.1485  -3.5706\n",
       "75        wake    0.160329   66.344884   Topic7  -9.1487  -3.8298\n",
       "85      return    0.160328  157.025099   Topic7  -9.1487  -4.6914\n",
       "\n",
       "[348 rows x 6 columns], token_table=      Topic      Freq        Term\n",
       "term                             \n",
       "36        6  0.991318           1\n",
       "37        4  0.996687           7\n",
       "13        5  0.924912      accrue\n",
       "46        1  0.993829       agony\n",
       "25        2  0.991350         amp\n",
       "...     ...       ...         ...\n",
       "32        7  0.994064  wealthiest\n",
       "12        5  0.924912        will\n",
       "45        7  0.996353       worry\n",
       "33        6  0.992931           –\n",
       "76        1  0.988461           🤗\n",
       "\n",
       "[102 rows x 3 columns], R=30, lambda_step=0.01, plot_opts={'xlab': 'PC1', 'ylab': 'PC2'}, topic_order=[6, 2, 7, 3, 5, 4, 1])"
      ]
     },
     "execution_count": 47,
     "metadata": {},
     "output_type": "execute_result"
    }
   ],
   "source": [
    "import pyLDAvis\n",
    "import pyLDAvis.gensim\n",
    "\n",
    "pyLDAvis.enable_notebook()\n",
    "vis = pyLDAvis.gensim.prepare(lda_model_tfidf_best, corpus, id2word)\n",
    "pyLDAvis.save_html(vis, 'lda.html')\n",
    "vis"
   ]
  },
  {
   "cell_type": "code",
   "execution_count": 48,
   "metadata": {},
   "outputs": [
    {
     "data": {
      "text/html": [
       "<div>\n",
       "<style scoped>\n",
       "    .dataframe tbody tr th:only-of-type {\n",
       "        vertical-align: middle;\n",
       "    }\n",
       "\n",
       "    .dataframe tbody tr th {\n",
       "        vertical-align: top;\n",
       "    }\n",
       "\n",
       "    .dataframe thead th {\n",
       "        text-align: right;\n",
       "    }\n",
       "</style>\n",
       "<table border=\"1\" class=\"dataframe\">\n",
       "  <thead>\n",
       "    <tr style=\"text-align: right;\">\n",
       "      <th></th>\n",
       "      <th>ID</th>\n",
       "      <th>Timestamp</th>\n",
       "      <th>Tweet URL</th>\n",
       "      <th>Group</th>\n",
       "      <th>Collector</th>\n",
       "      <th>Category</th>\n",
       "      <th>Topic</th>\n",
       "      <th>Keywords</th>\n",
       "      <th>Account handle</th>\n",
       "      <th>Account name</th>\n",
       "      <th>...</th>\n",
       "      <th>is_image</th>\n",
       "      <th>is_url</th>\n",
       "      <th>is_reply</th>\n",
       "      <th>mentions</th>\n",
       "      <th>hashtags</th>\n",
       "      <th>working_tweet</th>\n",
       "      <th>alt_text</th>\n",
       "      <th>join_month</th>\n",
       "      <th>join_year</th>\n",
       "      <th>topic_id_assign</th>\n",
       "    </tr>\n",
       "  </thead>\n",
       "  <tbody>\n",
       "    <tr>\n",
       "      <th>14</th>\n",
       "      <td>02-15</td>\n",
       "      <td>02/04/23 10:55:43</td>\n",
       "      <td>https://twitter.com/MorseCo11471683/status/1508272780818755584</td>\n",
       "      <td>2</td>\n",
       "      <td>Marquez, Ellian Fitzgerald</td>\n",
       "      <td>MRCS</td>\n",
       "      <td>Marcos Sr.'s Wealth for Filipinos According to his Last Will and Testament</td>\n",
       "      <td>marcos last will</td>\n",
       "      <td>@MorseCo11471683</td>\n",
       "      <td>Juan.com</td>\n",
       "      <td>...</td>\n",
       "      <td>False</td>\n",
       "      <td>True</td>\n",
       "      <td>False</td>\n",
       "      <td>NaN</td>\n",
       "      <td>NaN</td>\n",
       "      <td>vote bong bong marcos president retrieve wealth philippines keep countries return back national treasury read comprehensively last will amp testament late ferdinand marcos</td>\n",
       "      <td>NaN</td>\n",
       "      <td>05</td>\n",
       "      <td>21</td>\n",
       "      <td>[(3, 0.9675465)]</td>\n",
       "    </tr>\n",
       "    <tr>\n",
       "      <th>45</th>\n",
       "      <td>02-46</td>\n",
       "      <td>30/03/23 15:34:29</td>\n",
       "      <td>https://twitter.com/ArenosDom/status/1374742736910249988</td>\n",
       "      <td>2</td>\n",
       "      <td>Marquez, Ellian Fitzgerald</td>\n",
       "      <td>MRCS</td>\n",
       "      <td>Marcos Sr.'s Wealth for Filipinos According to his Last Will and Testament</td>\n",
       "      <td>marcos last will</td>\n",
       "      <td>@ArenosDom</td>\n",
       "      <td>Dom Arenos</td>\n",
       "      <td>...</td>\n",
       "      <td>False</td>\n",
       "      <td>False</td>\n",
       "      <td>False</td>\n",
       "      <td>NaN</td>\n",
       "      <td>NaN</td>\n",
       "      <td>filipinos let vote bongbong marcos become president will implement last will testament redeem wealth ferdinand marcos entrust bank world already mature time bongbong marcos will recover gold us</td>\n",
       "      <td>NaN</td>\n",
       "      <td>02</td>\n",
       "      <td>21</td>\n",
       "      <td>[(2, 0.7939054), (5, 0.20044895)]</td>\n",
       "    </tr>\n",
       "    <tr>\n",
       "      <th>46</th>\n",
       "      <td>02-47</td>\n",
       "      <td>30/03/23 12:10:03</td>\n",
       "      <td>https://twitter.com/ArenosDom/status/1382877661429518341</td>\n",
       "      <td>2</td>\n",
       "      <td>Reynoso, Kyle</td>\n",
       "      <td>MRCS</td>\n",
       "      <td>Marcos Sr.'s Wealth for Filipinos According to his Last Will and Testament</td>\n",
       "      <td>marcos last will</td>\n",
       "      <td>@ArenosDom</td>\n",
       "      <td>Dom Arenos</td>\n",
       "      <td>...</td>\n",
       "      <td>False</td>\n",
       "      <td>False</td>\n",
       "      <td>False</td>\n",
       "      <td>NaN</td>\n",
       "      <td>NaN</td>\n",
       "      <td>vote bongnong marcos will save country poverty will open last will late ferfinand e marcos gold filipinos people believe phillippines will great listen aquinos rant marcoses</td>\n",
       "      <td>NaN</td>\n",
       "      <td>02</td>\n",
       "      <td>21</td>\n",
       "      <td>[(3, 0.9675466)]</td>\n",
       "    </tr>\n",
       "    <tr>\n",
       "      <th>73</th>\n",
       "      <td>02-74</td>\n",
       "      <td>31/03/23 19:01:05</td>\n",
       "      <td>https://twitter.com/MorseCo11471683/status/1509314770637582336</td>\n",
       "      <td>2</td>\n",
       "      <td>De los Santos, Joshua Paolo</td>\n",
       "      <td>MRCS</td>\n",
       "      <td>Marcos Sr.'s Wealth for Filipinos According to his Last Will and Testament</td>\n",
       "      <td>marcos last will</td>\n",
       "      <td>@MorseCo11471683</td>\n",
       "      <td>Juan.com</td>\n",
       "      <td>...</td>\n",
       "      <td>False</td>\n",
       "      <td>True</td>\n",
       "      <td>False</td>\n",
       "      <td>NaN</td>\n",
       "      <td>NaN</td>\n",
       "      <td>vote bong bong marcos president retrieve wealth philippines keep countries return back national treasury read last will testament late ferdinand marcos</td>\n",
       "      <td>NaN</td>\n",
       "      <td>05</td>\n",
       "      <td>21</td>\n",
       "      <td>[(1, 0.49313438), (5, 0.49499467)]</td>\n",
       "    </tr>\n",
       "  </tbody>\n",
       "</table>\n",
       "<p>4 rows × 43 columns</p>\n",
       "</div>"
      ],
      "text/plain": [
       "       ID          Timestamp  \\\n",
       "14  02-15  02/04/23 10:55:43   \n",
       "45  02-46  30/03/23 15:34:29   \n",
       "46  02-47  30/03/23 12:10:03   \n",
       "73  02-74  31/03/23 19:01:05   \n",
       "\n",
       "                                                         Tweet URL  Group  \\\n",
       "14  https://twitter.com/MorseCo11471683/status/1508272780818755584      2   \n",
       "45        https://twitter.com/ArenosDom/status/1374742736910249988      2   \n",
       "46        https://twitter.com/ArenosDom/status/1382877661429518341      2   \n",
       "73  https://twitter.com/MorseCo11471683/status/1509314770637582336      2   \n",
       "\n",
       "                      Collector Category  \\\n",
       "14   Marquez, Ellian Fitzgerald     MRCS   \n",
       "45   Marquez, Ellian Fitzgerald     MRCS   \n",
       "46                Reynoso, Kyle     MRCS   \n",
       "73  De los Santos, Joshua Paolo     MRCS   \n",
       "\n",
       "                                                                         Topic  \\\n",
       "14  Marcos Sr.'s Wealth for Filipinos According to his Last Will and Testament   \n",
       "45  Marcos Sr.'s Wealth for Filipinos According to his Last Will and Testament   \n",
       "46  Marcos Sr.'s Wealth for Filipinos According to his Last Will and Testament   \n",
       "73  Marcos Sr.'s Wealth for Filipinos According to his Last Will and Testament   \n",
       "\n",
       "            Keywords    Account handle Account name  ... is_image is_url  \\\n",
       "14  marcos last will  @MorseCo11471683     Juan.com  ...    False   True   \n",
       "45  marcos last will        @ArenosDom   Dom Arenos  ...    False  False   \n",
       "46  marcos last will        @ArenosDom   Dom Arenos  ...    False  False   \n",
       "73  marcos last will  @MorseCo11471683     Juan.com  ...    False   True   \n",
       "\n",
       "   is_reply  mentions  hashtags  \\\n",
       "14    False       NaN       NaN   \n",
       "45    False       NaN       NaN   \n",
       "46    False       NaN       NaN   \n",
       "73    False       NaN       NaN   \n",
       "\n",
       "                                                                                                                                                                                        working_tweet  \\\n",
       "14                        vote bong bong marcos president retrieve wealth philippines keep countries return back national treasury read comprehensively last will amp testament late ferdinand marcos   \n",
       "45  filipinos let vote bongbong marcos become president will implement last will testament redeem wealth ferdinand marcos entrust bank world already mature time bongbong marcos will recover gold us   \n",
       "46                      vote bongnong marcos will save country poverty will open last will late ferfinand e marcos gold filipinos people believe phillippines will great listen aquinos rant marcoses   \n",
       "73                                            vote bong bong marcos president retrieve wealth philippines keep countries return back national treasury read last will testament late ferdinand marcos   \n",
       "\n",
       "   alt_text join_month join_year                     topic_id_assign  \n",
       "14      NaN         05        21                    [(3, 0.9675465)]  \n",
       "45      NaN         02        21   [(2, 0.7939054), (5, 0.20044895)]  \n",
       "46      NaN         02        21                    [(3, 0.9675466)]  \n",
       "73      NaN         05        21  [(1, 0.49313438), (5, 0.49499467)]  \n",
       "\n",
       "[4 rows x 43 columns]"
      ]
     },
     "execution_count": 48,
     "metadata": {},
     "output_type": "execute_result"
    }
   ],
   "source": [
    "df.loc[df['working_tweet'].str.find('vote')!=-1]"
   ]
  },
  {
   "cell_type": "code",
   "execution_count": 49,
   "metadata": {},
   "outputs": [],
   "source": [
    "topic_id_classif = list(map(lambda x: max(lda_model_tfidf_best.get_document_topics(x), key=lambda k: k[1])[0], gensim.matutils.Sparse2Corpus(tfs)))"
   ]
  },
  {
   "cell_type": "code",
   "execution_count": 50,
   "metadata": {},
   "outputs": [
    {
     "ename": "ValueError",
     "evalue": "Length of values (1910) does not match length of index (102)",
     "output_type": "error",
     "traceback": [
      "\u001b[1;31m---------------------------------------------------------------------------\u001b[0m",
      "\u001b[1;31mValueError\u001b[0m                                Traceback (most recent call last)",
      "Cell \u001b[1;32mIn[50], line 1\u001b[0m\n\u001b[1;32m----> 1\u001b[0m df[\u001b[39m'\u001b[39;49m\u001b[39mbest_topic_classif\u001b[39;49m\u001b[39m'\u001b[39;49m] \u001b[39m=\u001b[39m topic_id_classif\n\u001b[0;32m      2\u001b[0m df[\u001b[39m'\u001b[39m\u001b[39mbest_topic_classif\u001b[39m\u001b[39m'\u001b[39m]\n",
      "File \u001b[1;32m~\\AppData\\Roaming\\Python\\Python310\\site-packages\\pandas\\core\\frame.py:3950\u001b[0m, in \u001b[0;36mDataFrame.__setitem__\u001b[1;34m(self, key, value)\u001b[0m\n\u001b[0;32m   3947\u001b[0m     \u001b[39mself\u001b[39m\u001b[39m.\u001b[39m_setitem_array([key], value)\n\u001b[0;32m   3948\u001b[0m \u001b[39melse\u001b[39;00m:\n\u001b[0;32m   3949\u001b[0m     \u001b[39m# set column\u001b[39;00m\n\u001b[1;32m-> 3950\u001b[0m     \u001b[39mself\u001b[39;49m\u001b[39m.\u001b[39;49m_set_item(key, value)\n",
      "File \u001b[1;32m~\\AppData\\Roaming\\Python\\Python310\\site-packages\\pandas\\core\\frame.py:4143\u001b[0m, in \u001b[0;36mDataFrame._set_item\u001b[1;34m(self, key, value)\u001b[0m\n\u001b[0;32m   4133\u001b[0m \u001b[39mdef\u001b[39;00m \u001b[39m_set_item\u001b[39m(\u001b[39mself\u001b[39m, key, value) \u001b[39m-\u001b[39m\u001b[39m>\u001b[39m \u001b[39mNone\u001b[39;00m:\n\u001b[0;32m   4134\u001b[0m     \u001b[39m\"\"\"\u001b[39;00m\n\u001b[0;32m   4135\u001b[0m \u001b[39m    Add series to DataFrame in specified column.\u001b[39;00m\n\u001b[0;32m   4136\u001b[0m \n\u001b[1;32m   (...)\u001b[0m\n\u001b[0;32m   4141\u001b[0m \u001b[39m    ensure homogeneity.\u001b[39;00m\n\u001b[0;32m   4142\u001b[0m \u001b[39m    \"\"\"\u001b[39;00m\n\u001b[1;32m-> 4143\u001b[0m     value \u001b[39m=\u001b[39m \u001b[39mself\u001b[39;49m\u001b[39m.\u001b[39;49m_sanitize_column(value)\n\u001b[0;32m   4145\u001b[0m     \u001b[39mif\u001b[39;00m (\n\u001b[0;32m   4146\u001b[0m         key \u001b[39min\u001b[39;00m \u001b[39mself\u001b[39m\u001b[39m.\u001b[39mcolumns\n\u001b[0;32m   4147\u001b[0m         \u001b[39mand\u001b[39;00m value\u001b[39m.\u001b[39mndim \u001b[39m==\u001b[39m \u001b[39m1\u001b[39m\n\u001b[0;32m   4148\u001b[0m         \u001b[39mand\u001b[39;00m \u001b[39mnot\u001b[39;00m is_extension_array_dtype(value)\n\u001b[0;32m   4149\u001b[0m     ):\n\u001b[0;32m   4150\u001b[0m         \u001b[39m# broadcast across multiple columns if necessary\u001b[39;00m\n\u001b[0;32m   4151\u001b[0m         \u001b[39mif\u001b[39;00m \u001b[39mnot\u001b[39;00m \u001b[39mself\u001b[39m\u001b[39m.\u001b[39mcolumns\u001b[39m.\u001b[39mis_unique \u001b[39mor\u001b[39;00m \u001b[39misinstance\u001b[39m(\u001b[39mself\u001b[39m\u001b[39m.\u001b[39mcolumns, MultiIndex):\n",
      "File \u001b[1;32m~\\AppData\\Roaming\\Python\\Python310\\site-packages\\pandas\\core\\frame.py:4870\u001b[0m, in \u001b[0;36mDataFrame._sanitize_column\u001b[1;34m(self, value)\u001b[0m\n\u001b[0;32m   4867\u001b[0m     \u001b[39mreturn\u001b[39;00m _reindex_for_setitem(Series(value), \u001b[39mself\u001b[39m\u001b[39m.\u001b[39mindex)\n\u001b[0;32m   4869\u001b[0m \u001b[39mif\u001b[39;00m is_list_like(value):\n\u001b[1;32m-> 4870\u001b[0m     com\u001b[39m.\u001b[39;49mrequire_length_match(value, \u001b[39mself\u001b[39;49m\u001b[39m.\u001b[39;49mindex)\n\u001b[0;32m   4871\u001b[0m \u001b[39mreturn\u001b[39;00m sanitize_array(value, \u001b[39mself\u001b[39m\u001b[39m.\u001b[39mindex, copy\u001b[39m=\u001b[39m\u001b[39mTrue\u001b[39;00m, allow_2d\u001b[39m=\u001b[39m\u001b[39mTrue\u001b[39;00m)\n",
      "File \u001b[1;32m~\\AppData\\Roaming\\Python\\Python310\\site-packages\\pandas\\core\\common.py:576\u001b[0m, in \u001b[0;36mrequire_length_match\u001b[1;34m(data, index)\u001b[0m\n\u001b[0;32m    572\u001b[0m \u001b[39m\"\"\"\u001b[39;00m\n\u001b[0;32m    573\u001b[0m \u001b[39mCheck the length of data matches the length of the index.\u001b[39;00m\n\u001b[0;32m    574\u001b[0m \u001b[39m\"\"\"\u001b[39;00m\n\u001b[0;32m    575\u001b[0m \u001b[39mif\u001b[39;00m \u001b[39mlen\u001b[39m(data) \u001b[39m!=\u001b[39m \u001b[39mlen\u001b[39m(index):\n\u001b[1;32m--> 576\u001b[0m     \u001b[39mraise\u001b[39;00m \u001b[39mValueError\u001b[39;00m(\n\u001b[0;32m    577\u001b[0m         \u001b[39m\"\u001b[39m\u001b[39mLength of values \u001b[39m\u001b[39m\"\u001b[39m\n\u001b[0;32m    578\u001b[0m         \u001b[39mf\u001b[39m\u001b[39m\"\u001b[39m\u001b[39m(\u001b[39m\u001b[39m{\u001b[39;00m\u001b[39mlen\u001b[39m(data)\u001b[39m}\u001b[39;00m\u001b[39m) \u001b[39m\u001b[39m\"\u001b[39m\n\u001b[0;32m    579\u001b[0m         \u001b[39m\"\u001b[39m\u001b[39mdoes not match length of index \u001b[39m\u001b[39m\"\u001b[39m\n\u001b[0;32m    580\u001b[0m         \u001b[39mf\u001b[39m\u001b[39m\"\u001b[39m\u001b[39m(\u001b[39m\u001b[39m{\u001b[39;00m\u001b[39mlen\u001b[39m(index)\u001b[39m}\u001b[39;00m\u001b[39m)\u001b[39m\u001b[39m\"\u001b[39m\n\u001b[0;32m    581\u001b[0m     )\n",
      "\u001b[1;31mValueError\u001b[0m: Length of values (1910) does not match length of index (102)"
     ]
    }
   ],
   "source": [
    "df['best_topic_classif'] = topic_id_classif\n",
    "df['best_topic_classif']"
   ]
  }
 ],
 "metadata": {
  "kernelspec": {
   "display_name": "Python 3",
   "language": "python",
   "name": "python3"
  },
  "language_info": {
   "codemirror_mode": {
    "name": "ipython",
    "version": 3
   },
   "file_extension": ".py",
   "mimetype": "text/x-python",
   "name": "python",
   "nbconvert_exporter": "python",
   "pygments_lexer": "ipython3",
   "version": "3.10.0"
  },
  "orig_nbformat": 4
 },
 "nbformat": 4,
 "nbformat_minor": 2
}
